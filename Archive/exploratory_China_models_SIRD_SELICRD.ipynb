{
 "cells": [
  {
   "cell_type": "markdown",
   "metadata": {},
   "source": [
    "# Purpose"
   ]
  },
  {
   "cell_type": "markdown",
   "metadata": {},
   "source": [
    "1) Identify the baseline data for China\n",
    "\n",
    "* China COVID-19 data from NHC reports:\n",
    "\n",
    "* Formatted Hospital Beds and Agegroups data from UN database: http://data.un.org/Data.aspx?d=POP&f=tableCode:22, http://data.un.org/Data.aspx?q=beds&d=WHO&f=MEASURE_CODE:WHS6_102\n",
    "\n",
    "2) Create a baseline SIRD model for China\n",
    "\n",
    "3) Create a SELIRCD model for China\n",
    "\n",
    "4) Evaluate SELIRCD by comparing results to raw data and to SIRD\n"
   ]
  },
  {
   "cell_type": "markdown",
   "metadata": {},
   "source": [
    "# Data"
   ]
  },
  {
   "cell_type": "markdown",
   "metadata": {},
   "source": [
    "We will be working with cumulative China data from China NHC (National Health Commission)."
   ]
  },
  {
   "cell_type": "code",
   "execution_count": 2,
   "metadata": {},
   "outputs": [],
   "source": [
    "from scipy.integrate import odeint\n",
    "import numpy as np \n",
    "import matplotlib.pyplot as plt\n",
    "import matplotlib.dates as mdates\n",
    "import pandas as pd\n",
    "import lmfit\n",
    "from lmfit.lineshapes import gaussian, lorentzian\n",
    "from helpers.plot import plotter\n",
    "import matplotlib.dates as mdates"
   ]
  },
  {
   "cell_type": "code",
   "execution_count": 3,
   "metadata": {},
   "outputs": [
    {
     "data": {
      "text/html": [
       "<div>\n",
       "<style scoped>\n",
       "    .dataframe tbody tr th:only-of-type {\n",
       "        vertical-align: middle;\n",
       "    }\n",
       "\n",
       "    .dataframe tbody tr th {\n",
       "        vertical-align: top;\n",
       "    }\n",
       "\n",
       "    .dataframe thead th {\n",
       "        text-align: right;\n",
       "    }\n",
       "</style>\n",
       "<table border=\"1\" class=\"dataframe\">\n",
       "  <thead>\n",
       "    <tr style=\"text-align: right;\">\n",
       "      <th></th>\n",
       "      <th>country</th>\n",
       "      <th>date</th>\n",
       "      <th>confirmed_new</th>\n",
       "      <th>confirmed_ttl</th>\n",
       "      <th>suspected_new</th>\n",
       "      <th>suspected_ttl</th>\n",
       "      <th>severe_new</th>\n",
       "      <th>severe_ttl</th>\n",
       "      <th>medical_observation</th>\n",
       "      <th>deaths_new</th>\n",
       "      <th>deaths_ttl</th>\n",
       "      <th>recovery_new</th>\n",
       "      <th>recovery_ttl</th>\n",
       "      <th>imported_new</th>\n",
       "      <th>imported_ttl</th>\n",
       "      <th>asymptomatic_new</th>\n",
       "      <th>asymptomatic_ttl</th>\n",
       "    </tr>\n",
       "  </thead>\n",
       "  <tbody>\n",
       "    <tr>\n",
       "      <th>0</th>\n",
       "      <td>China</td>\n",
       "      <td>1/21/20</td>\n",
       "      <td>77</td>\n",
       "      <td>291</td>\n",
       "      <td>27</td>\n",
       "      <td>54</td>\n",
       "      <td>NaN</td>\n",
       "      <td>NaN</td>\n",
       "      <td>922</td>\n",
       "      <td>NaN</td>\n",
       "      <td>NaN</td>\n",
       "      <td>NaN</td>\n",
       "      <td>NaN</td>\n",
       "      <td>NaN</td>\n",
       "      <td>NaN</td>\n",
       "      <td>NaN</td>\n",
       "      <td>NaN</td>\n",
       "    </tr>\n",
       "    <tr>\n",
       "      <th>1</th>\n",
       "      <td>China</td>\n",
       "      <td>1/22/20</td>\n",
       "      <td>149</td>\n",
       "      <td>440</td>\n",
       "      <td>26</td>\n",
       "      <td>37</td>\n",
       "      <td>NaN</td>\n",
       "      <td>NaN</td>\n",
       "      <td>1394</td>\n",
       "      <td>3.0</td>\n",
       "      <td>9.0</td>\n",
       "      <td>NaN</td>\n",
       "      <td>NaN</td>\n",
       "      <td>NaN</td>\n",
       "      <td>NaN</td>\n",
       "      <td>NaN</td>\n",
       "      <td>NaN</td>\n",
       "    </tr>\n",
       "    <tr>\n",
       "      <th>2</th>\n",
       "      <td>China</td>\n",
       "      <td>1/23/20</td>\n",
       "      <td>131</td>\n",
       "      <td>571</td>\n",
       "      <td>257</td>\n",
       "      <td>393</td>\n",
       "      <td>NaN</td>\n",
       "      <td>95.0</td>\n",
       "      <td>4928</td>\n",
       "      <td>8.0</td>\n",
       "      <td>17.0</td>\n",
       "      <td>NaN</td>\n",
       "      <td>NaN</td>\n",
       "      <td>NaN</td>\n",
       "      <td>NaN</td>\n",
       "      <td>NaN</td>\n",
       "      <td>NaN</td>\n",
       "    </tr>\n",
       "    <tr>\n",
       "      <th>3</th>\n",
       "      <td>China</td>\n",
       "      <td>1/24/20</td>\n",
       "      <td>259</td>\n",
       "      <td>830</td>\n",
       "      <td>680</td>\n",
       "      <td>1072</td>\n",
       "      <td>82.0</td>\n",
       "      <td>177.0</td>\n",
       "      <td>8420</td>\n",
       "      <td>8.0</td>\n",
       "      <td>25.0</td>\n",
       "      <td>6.0</td>\n",
       "      <td>NaN</td>\n",
       "      <td>NaN</td>\n",
       "      <td>NaN</td>\n",
       "      <td>NaN</td>\n",
       "      <td>NaN</td>\n",
       "    </tr>\n",
       "    <tr>\n",
       "      <th>4</th>\n",
       "      <td>China</td>\n",
       "      <td>1/25/20</td>\n",
       "      <td>444</td>\n",
       "      <td>1287</td>\n",
       "      <td>1118</td>\n",
       "      <td>1965</td>\n",
       "      <td>60.0</td>\n",
       "      <td>237.0</td>\n",
       "      <td>1230</td>\n",
       "      <td>16.0</td>\n",
       "      <td>41.0</td>\n",
       "      <td>3.0</td>\n",
       "      <td>38.0</td>\n",
       "      <td>NaN</td>\n",
       "      <td>NaN</td>\n",
       "      <td>NaN</td>\n",
       "      <td>NaN</td>\n",
       "    </tr>\n",
       "    <tr>\n",
       "      <th>...</th>\n",
       "      <td>...</td>\n",
       "      <td>...</td>\n",
       "      <td>...</td>\n",
       "      <td>...</td>\n",
       "      <td>...</td>\n",
       "      <td>...</td>\n",
       "      <td>...</td>\n",
       "      <td>...</td>\n",
       "      <td>...</td>\n",
       "      <td>...</td>\n",
       "      <td>...</td>\n",
       "      <td>...</td>\n",
       "      <td>...</td>\n",
       "      <td>...</td>\n",
       "      <td>...</td>\n",
       "      <td>...</td>\n",
       "      <td>...</td>\n",
       "    </tr>\n",
       "    <tr>\n",
       "      <th>110</th>\n",
       "      <td>China</td>\n",
       "      <td>5/10/20</td>\n",
       "      <td>14</td>\n",
       "      <td>82901</td>\n",
       "      <td>1</td>\n",
       "      <td>4</td>\n",
       "      <td>-2.0</td>\n",
       "      <td>13.0</td>\n",
       "      <td>5840</td>\n",
       "      <td>0.0</td>\n",
       "      <td>4633.0</td>\n",
       "      <td>74.0</td>\n",
       "      <td>78120.0</td>\n",
       "      <td>2.0</td>\n",
       "      <td>1683.0</td>\n",
       "      <td>20.0</td>\n",
       "      <td>794.0</td>\n",
       "    </tr>\n",
       "    <tr>\n",
       "      <th>111</th>\n",
       "      <td>China</td>\n",
       "      <td>5/11/20</td>\n",
       "      <td>17</td>\n",
       "      <td>82918</td>\n",
       "      <td>0</td>\n",
       "      <td>3</td>\n",
       "      <td>-4.0</td>\n",
       "      <td>9.0</td>\n",
       "      <td>5501</td>\n",
       "      <td>0.0</td>\n",
       "      <td>4633.0</td>\n",
       "      <td>24.0</td>\n",
       "      <td>78144.0</td>\n",
       "      <td>7.0</td>\n",
       "      <td>1690.0</td>\n",
       "      <td>12.0</td>\n",
       "      <td>780.0</td>\n",
       "    </tr>\n",
       "    <tr>\n",
       "      <th>112</th>\n",
       "      <td>China</td>\n",
       "      <td>5/12/20</td>\n",
       "      <td>1</td>\n",
       "      <td>82919</td>\n",
       "      <td>1</td>\n",
       "      <td>3</td>\n",
       "      <td>-1.0</td>\n",
       "      <td>10.0</td>\n",
       "      <td>5470</td>\n",
       "      <td>0.0</td>\n",
       "      <td>4633.0</td>\n",
       "      <td>80.0</td>\n",
       "      <td>78171.0</td>\n",
       "      <td>1.0</td>\n",
       "      <td>1691.0</td>\n",
       "      <td>15.0</td>\n",
       "      <td>760.0</td>\n",
       "    </tr>\n",
       "    <tr>\n",
       "      <th>113</th>\n",
       "      <td>China</td>\n",
       "      <td>5/13/20</td>\n",
       "      <td>7</td>\n",
       "      <td>82926</td>\n",
       "      <td>1</td>\n",
       "      <td>4</td>\n",
       "      <td>0.0</td>\n",
       "      <td>10.0</td>\n",
       "      <td>5317</td>\n",
       "      <td>0.0</td>\n",
       "      <td>4633.0</td>\n",
       "      <td>18.0</td>\n",
       "      <td>78189.0</td>\n",
       "      <td>1.0</td>\n",
       "      <td>1692.0</td>\n",
       "      <td>8.0</td>\n",
       "      <td>750.0</td>\n",
       "    </tr>\n",
       "    <tr>\n",
       "      <th>114</th>\n",
       "      <td>China</td>\n",
       "      <td>5/14/20</td>\n",
       "      <td>3</td>\n",
       "      <td>82929</td>\n",
       "      <td>0</td>\n",
       "      <td>4</td>\n",
       "      <td>-1.0</td>\n",
       "      <td>9.0</td>\n",
       "      <td>5291</td>\n",
       "      <td>0.0</td>\n",
       "      <td>4633.0</td>\n",
       "      <td>6.0</td>\n",
       "      <td>78195.0</td>\n",
       "      <td>0.0</td>\n",
       "      <td>1692.0</td>\n",
       "      <td>12.0</td>\n",
       "      <td>712.0</td>\n",
       "    </tr>\n",
       "  </tbody>\n",
       "</table>\n",
       "<p>115 rows × 17 columns</p>\n",
       "</div>"
      ],
      "text/plain": [
       "    country     date  confirmed_new  confirmed_ttl  suspected_new  \\\n",
       "0     China  1/21/20             77            291             27   \n",
       "1     China  1/22/20            149            440             26   \n",
       "2     China  1/23/20            131            571            257   \n",
       "3     China  1/24/20            259            830            680   \n",
       "4     China  1/25/20            444           1287           1118   \n",
       "..      ...      ...            ...            ...            ...   \n",
       "110   China  5/10/20             14          82901              1   \n",
       "111   China  5/11/20             17          82918              0   \n",
       "112   China  5/12/20              1          82919              1   \n",
       "113   China  5/13/20              7          82926              1   \n",
       "114   China  5/14/20              3          82929              0   \n",
       "\n",
       "     suspected_ttl  severe_new  severe_ttl  medical_observation  deaths_new  \\\n",
       "0               54         NaN         NaN                  922         NaN   \n",
       "1               37         NaN         NaN                 1394         3.0   \n",
       "2              393         NaN        95.0                 4928         8.0   \n",
       "3             1072        82.0       177.0                 8420         8.0   \n",
       "4             1965        60.0       237.0                 1230        16.0   \n",
       "..             ...         ...         ...                  ...         ...   \n",
       "110              4        -2.0        13.0                 5840         0.0   \n",
       "111              3        -4.0         9.0                 5501         0.0   \n",
       "112              3        -1.0        10.0                 5470         0.0   \n",
       "113              4         0.0        10.0                 5317         0.0   \n",
       "114              4        -1.0         9.0                 5291         0.0   \n",
       "\n",
       "     deaths_ttl  recovery_new  recovery_ttl  imported_new  imported_ttl  \\\n",
       "0           NaN           NaN           NaN           NaN           NaN   \n",
       "1           9.0           NaN           NaN           NaN           NaN   \n",
       "2          17.0           NaN           NaN           NaN           NaN   \n",
       "3          25.0           6.0           NaN           NaN           NaN   \n",
       "4          41.0           3.0          38.0           NaN           NaN   \n",
       "..          ...           ...           ...           ...           ...   \n",
       "110      4633.0          74.0       78120.0           2.0        1683.0   \n",
       "111      4633.0          24.0       78144.0           7.0        1690.0   \n",
       "112      4633.0          80.0       78171.0           1.0        1691.0   \n",
       "113      4633.0          18.0       78189.0           1.0        1692.0   \n",
       "114      4633.0           6.0       78195.0           0.0        1692.0   \n",
       "\n",
       "     asymptomatic_new  asymptomatic_ttl  \n",
       "0                 NaN               NaN  \n",
       "1                 NaN               NaN  \n",
       "2                 NaN               NaN  \n",
       "3                 NaN               NaN  \n",
       "4                 NaN               NaN  \n",
       "..                ...               ...  \n",
       "110              20.0             794.0  \n",
       "111              12.0             780.0  \n",
       "112              15.0             760.0  \n",
       "113               8.0             750.0  \n",
       "114              12.0             712.0  \n",
       "\n",
       "[115 rows x 17 columns]"
      ]
     },
     "execution_count": 3,
     "metadata": {},
     "output_type": "execute_result"
    }
   ],
   "source": [
    "#China case data\n",
    "china = pd.read_csv(\"Data/chinadata_nhc.csv\", header = 0)\n",
    "china"
   ]
  },
  {
   "cell_type": "markdown",
   "metadata": {},
   "source": [
    "This is what the COVID-19 scene looks like in China."
   ]
  },
  {
   "cell_type": "code",
   "execution_count": 4,
   "metadata": {},
   "outputs": [
    {
     "data": {
      "text/plain": [
       "<matplotlib.legend.Legend at 0x10b473410>"
      ]
     },
     "execution_count": 4,
     "metadata": {},
     "output_type": "execute_result"
    },
    {
     "data": {
      "image/png": "[encoded data removed]",
      "text/plain": [
       "<Figure size 720x432 with 1 Axes>"
      ]
     },
     "metadata": {
      "needs_background": "light"
     },
     "output_type": "display_data"
    }
   ],
   "source": [
    "#Plot China raw data\n",
    "china[[\"suspected_ttl\",\"confirmed_ttl\",\"asymptomatic_ttl\",\"recovery_ttl\",\"severe_ttl\",\"deaths_ttl\"]].plot(figsize=(10, 6))\n",
    "plt.legend(bbox_to_anchor=(1.05, 1), loc='upper left', borderaxespad=0.)"
   ]
  },
  {
   "cell_type": "markdown",
   "metadata": {},
   "source": [
    "**AGE GROUPS:** We get age group demographics from the UN database. Grouping data and aggregating over age groups, we somehow get that the population total > actual population in 2010 (most recent data for China in this dataset). Not sure why this is. \n",
    "\n",
    "Assuming the age *structure* has not changed (source:https://www.statista.com/statistics/270163/age-distribution-in-china/), we rescale this to 2020 numbers."
   ]
  },
  {
   "cell_type": "code",
   "execution_count": 5,
   "metadata": {},
   "outputs": [],
   "source": [
    "#Age group demographics for some countries, for both sexes, most recent year of data (orig data 1955-2019)\n",
    "agegroups = pd.read_csv(\"Data/agegroups_UNdata_mostrecentrecs.csv\", header=0)\n",
    "\n",
    "#China age group data\n",
    "agegroups = agegroups.to_numpy()[3][3:] #this sums to more than 1.4bil...\n",
    "curr_pop = 1439323776 #googled this estimate of total china population 2020\n",
    "\n",
    "agegroups = (agegroups/np.sum(agegroups)) * curr_pop #estimates of 2020 age group counts\n",
    "N = sum(agegroups) #ttl pop"
   ]
  },
  {
   "cell_type": "markdown",
   "metadata": {},
   "source": [
    "**BEDS:** We also have info on beds per 10K. This info is relatively old on most countries, but most countries have not changed much over the years (see R cleaning/exploratory file for a visualization). "
   ]
  },
  {
   "cell_type": "code",
   "execution_count": 6,
   "metadata": {},
   "outputs": [
    {
     "data": {
      "text/html": [
       "<div>\n",
       "<style scoped>\n",
       "    .dataframe tbody tr th:only-of-type {\n",
       "        vertical-align: middle;\n",
       "    }\n",
       "\n",
       "    .dataframe tbody tr th {\n",
       "        vertical-align: top;\n",
       "    }\n",
       "\n",
       "    .dataframe thead th {\n",
       "        text-align: right;\n",
       "    }\n",
       "</style>\n",
       "<table border=\"1\" class=\"dataframe\">\n",
       "  <thead>\n",
       "    <tr style=\"text-align: right;\">\n",
       "      <th></th>\n",
       "      <th>Country</th>\n",
       "      <th>Year</th>\n",
       "      <th>ICU_Beds</th>\n",
       "    </tr>\n",
       "  </thead>\n",
       "  <tbody>\n",
       "    <tr>\n",
       "      <th>0</th>\n",
       "      <td>Afghanistan</td>\n",
       "      <td>2010</td>\n",
       "      <td>4</td>\n",
       "    </tr>\n",
       "    <tr>\n",
       "      <th>2</th>\n",
       "      <td>Albania</td>\n",
       "      <td>2009</td>\n",
       "      <td>28</td>\n",
       "    </tr>\n",
       "    <tr>\n",
       "      <th>4</th>\n",
       "      <td>Algeria</td>\n",
       "      <td>2004</td>\n",
       "      <td>17</td>\n",
       "    </tr>\n",
       "    <tr>\n",
       "      <th>5</th>\n",
       "      <td>Andorra</td>\n",
       "      <td>2009</td>\n",
       "      <td>25</td>\n",
       "    </tr>\n",
       "    <tr>\n",
       "      <th>7</th>\n",
       "      <td>Angola</td>\n",
       "      <td>2005</td>\n",
       "      <td>8</td>\n",
       "    </tr>\n",
       "    <tr>\n",
       "      <th>...</th>\n",
       "      <td>...</td>\n",
       "      <td>...</td>\n",
       "      <td>...</td>\n",
       "    </tr>\n",
       "    <tr>\n",
       "      <th>315</th>\n",
       "      <td>Venezuela (Bolivarian Republic of)</td>\n",
       "      <td>2009</td>\n",
       "      <td>11</td>\n",
       "    </tr>\n",
       "    <tr>\n",
       "      <th>317</th>\n",
       "      <td>Viet Nam</td>\n",
       "      <td>2009</td>\n",
       "      <td>31</td>\n",
       "    </tr>\n",
       "    <tr>\n",
       "      <th>319</th>\n",
       "      <td>Yemen</td>\n",
       "      <td>2010</td>\n",
       "      <td>7</td>\n",
       "    </tr>\n",
       "    <tr>\n",
       "      <th>321</th>\n",
       "      <td>Zambia</td>\n",
       "      <td>2010</td>\n",
       "      <td>20</td>\n",
       "    </tr>\n",
       "    <tr>\n",
       "      <th>323</th>\n",
       "      <td>Zimbabwe</td>\n",
       "      <td>2011</td>\n",
       "      <td>17</td>\n",
       "    </tr>\n",
       "  </tbody>\n",
       "</table>\n",
       "<p>187 rows × 3 columns</p>\n",
       "</div>"
      ],
      "text/plain": [
       "                                Country  Year  ICU_Beds\n",
       "0                           Afghanistan  2010         4\n",
       "2                               Albania  2009        28\n",
       "4                               Algeria  2004        17\n",
       "5                               Andorra  2009        25\n",
       "7                                Angola  2005         8\n",
       "..                                  ...   ...       ...\n",
       "315  Venezuela (Bolivarian Republic of)  2009        11\n",
       "317                            Viet Nam  2009        31\n",
       "319                               Yemen  2010         7\n",
       "321                              Zambia  2010        20\n",
       "323                            Zimbabwe  2011        17\n",
       "\n",
       "[187 rows x 3 columns]"
      ]
     },
     "execution_count": 6,
     "metadata": {},
     "output_type": "execute_result"
    }
   ],
   "source": [
    "#Beds data for most countries, most recent year documented, beds per 10,000 people\n",
    "beds = pd.read_csv(\"Data/beds_UNdata.csv\", header=0)\n",
    "idx = beds.groupby(['country_area'])['years'].transform(max) == beds['years']\n",
    "beds = beds[idx]\n",
    "beds = beds[['country_area','years','beds']]\n",
    "beds = beds.rename(columns={\"country_area\": \"Country\", \"years\":\"Year\", \"beds\": \"ICU_Beds\"})\n",
    "\n",
    "# create dict for fast lookup\n",
    "beds_lookup = dict(zip(beds[\"Country\"], beds[\"ICU_Beds\"]))\n",
    "beds_per_10k = beds_lookup[\"China\"]\n",
    "beds\n",
    "\n",
    "#note: are smaller countries more likely to have discrepancies than larger countries?"
   ]
  },
  {
   "cell_type": "markdown",
   "metadata": {},
   "source": [
    "# Baseline: SIRD Model (Susceptible-Infected-Recovered-Dead)"
   ]
  },
  {
   "cell_type": "markdown",
   "metadata": {},
   "source": [
    "Susceptible people can become infected, who can in turn recover or die.\n",
    "\n",
    "At each stage, \n",
    "$\\alpha \\dfrac{I}{N} S$ people move from $S \\rightarrow I$, \n",
    "\n",
    "$\\beta  (1 - p_{I\\rightarrow D})  I$ people move from $I \\rightarrow R$, \n",
    "and\n",
    "\n",
    "$\\gamma p_{I\\rightarrow D}  I$ people move from $I \\rightarrow D$. \n",
    "\n",
    "\n",
    "\n",
    "Here are the differential equations used:\n",
    "\n",
    "$$\\begin{align*}\n",
    "\\dfrac{\\delta S}{\\delta t} &= - \\alpha  \\dfrac{I}{N} S \\\\\n",
    "\\dfrac{\\delta I}{\\delta t} &= \\alpha  \\dfrac{I}{N} S - \\beta  (1 - p_{I\\rightarrow D})  I - \\gamma p_{I\\rightarrow D}  I\\\\\n",
    "\\dfrac{\\delta R}{\\delta t} &= \\beta  (1 - p_{I\\rightarrow D})  I\\\\\n",
    "\\dfrac{\\delta D}{\\delta t} &= \\gamma p_{I\\rightarrow D}  I\n",
    "\\end{align*}$$\n",
    "\n",
    "where\n",
    "$$\\begin{align*}\n",
    "\\alpha &= infection\\ rate\\\\\n",
    "\\beta &= recovery\\ rate\\\\\n",
    "\\gamma &= death\\ rate\\\\\n",
    "\\\\\n",
    "\\frac{I}{N} &= probability\\ of\\ infection\\\\\n",
    "(1 - p_{I\\rightarrow D}) &= probability\\ of\\ recovery\\\\\n",
    "p_{I\\rightarrow D} &= probability\\ of\\ death\n",
    "\\end{align*}$$\n",
    "\n",
    "\n",
    "Recovery and death rates once infected can be assumed to be constant. The time to recovery is roughly 2 weeks, and the time til death is approx. 2-8 weeks (according to China WHO report: https://www.who.int/docs/default-source/coronaviruse/who-china-joint-mission-on-covid-19-final-report.pdf#:~:text=Using%20available%20preliminary%20data%2C,severe%20or%20critical%20disease). \n",
    "\n",
    "Infection rate may change over time depending on $R_0$, and the probabilities of recovering or dying can be fitted. We assume a logistic curve for $R_0$ over time, which require $R_{0\\ start}$, $R_{0\\ end}$, start day $x_0$, and steepness parameter $k$ to fit. \n",
    "\n",
    "So $\\alpha(t)$ is a changing parameter, and params that need fitting include $R_{0\\ start}$, $R_{0\\ end}$, $x_0$, $k$, and $p_{I\\rightarrow D}$.\n",
    "\n"
   ]
  },
  {
   "cell_type": "code",
   "execution_count": 58,
   "metadata": {},
   "outputs": [],
   "source": [
    "#Fixed params\n",
    "beta = 1/14\n",
    "gamma = 1/18.5 #guess around 5 weeks for infection --> death\n",
    "\n",
    "#Params to fit ( form: {parameter: (initial guess, minimum value, max value)} )\n",
    "params_init_min_max = {\"R_0_start\": (3.0, 1.0, 5.0), \"k\": (2.5, 0.01, 5.0), \"x0\": (80, 0, 120), \"R_0_end\": (0.9, 0.3, 3.5), \"p_I_to_D\": (0.02, 0.0, 1.0)}"
   ]
  },
  {
   "cell_type": "code",
   "execution_count": 59,
   "metadata": {},
   "outputs": [],
   "source": [
    "def deriv(y, t, N, alpha, beta, gamma, p_I_to_D):\n",
    "    S, I, R, D = y\n",
    "\n",
    "    dSdt = - alpha(t) * (I / N) * S\n",
    "    dIdt = alpha(t) * (I / N) * S - beta * (1-p_I_to_D) * I - gamma * p_I_to_D * I\n",
    "    dRdt = beta * (1-p_I_to_D) * I\n",
    "    dDdt = gamma * p_I_to_D * I\n",
    "    \n",
    "    return dSdt, dIdt, dRdt, dDdt"
   ]
  },
  {
   "cell_type": "code",
   "execution_count": 60,
   "metadata": {},
   "outputs": [],
   "source": [
    "def logistic_R_0(t, R_0_start, k, x0, R_0_end):\n",
    "    return (R_0_start-R_0_end) / (1 + np.exp(-k*(-t+x0))) + R_0_end"
   ]
  },
  {
   "cell_type": "code",
   "execution_count": 61,
   "metadata": {},
   "outputs": [],
   "source": [
    "def Model(days, agegroups, beta, gamma, p_I_to_D, R_0_start, k, x0, R_0_end):\n",
    "    # infection rate comes from current R0\n",
    "    def alpha(t):\n",
    "        return logistic_R_0(t, R_0_start, k, x0, R_0_end) * beta\n",
    "    \n",
    "    N = sum(agegroups)\n",
    "    y0 = N-1.0, 1.0, 0.0, 0.0\n",
    "    t = np.linspace(0, days, days) # Grid of time points (in days)\n",
    "    \n",
    "    #fit the model\n",
    "    ret = odeint(deriv, y0, t, args=(N, alpha, beta, gamma, p_I_to_D))\n",
    "    S, I, R, D = ret.T\n",
    "    R_0_over_time = [alpha(i)/beta for i in range(len(t))]\n",
    "    return t, S, I, R, D, R_0_over_time, p_I_to_D"
   ]
  },
  {
   "cell_type": "code",
   "execution_count": 71,
   "metadata": {},
   "outputs": [],
   "source": [
    "#Set reference data (x_data is days, y_data is number of cumulative deaths)\n",
    "outbreak_shift = -1\n",
    "data = china[\"deaths_ttl\"].to_numpy()\n",
    "days = outbreak_shift + len(data)\n",
    "if outbreak_shift >= 0:\n",
    "    y_data = np.concatenate((np.zeros(outbreak_shift), data))\n",
    "else:\n",
    "    y_data = data[-outbreak_shift:]\n",
    "\n",
    "x_data = np.linspace(0, days - 1, days, dtype=int)  # x_data is just [0, 1, ..., max_days] array"
   ]
  },
  {
   "cell_type": "code",
   "execution_count": 72,
   "metadata": {},
   "outputs": [],
   "source": [
    "#Fit the model to get predicted cumulative deaths\n",
    "def fitter(x, R_0_start, k, x0, R_0_end, p_I_to_D):\n",
    "    ret = Model(days, agegroups, beta, gamma, p_I_to_D, R_0_start, k, x0, R_0_end)\n",
    "    return ret[4][x] #pred cumulative deaths, all entries\n",
    "\n",
    "mod = lmfit.Model(fitter)\n",
    "\n",
    "for kwarg, (init, mini, maxi) in params_init_min_max.items():\n",
    "    mod.set_param_hint(str(kwarg), value=init, min=mini, max=maxi, vary=True)"
   ]
  },
  {
   "cell_type": "code",
   "execution_count": 73,
   "metadata": {},
   "outputs": [
    {
     "data": {
      "image/png": "[encoded data removed]",
      "text/plain": [
       "<Figure size 432x288 with 1 Axes>"
      ]
     },
     "metadata": {
      "needs_background": "light"
     },
     "output_type": "display_data"
    },
    {
     "name": "stdout",
     "output_type": "stream",
     "text": [
      "{'R_0_start': 4.999999999999999, 'k': 4.999999999999999, 'x0': 25.963091189864492, 'R_0_end': 0.30000000000000004, 'p_I_to_D': 0.9999999999999977}\n"
     ]
    }
   ],
   "source": [
    "params = mod.make_params()\n",
    "fit_method = \"leastsq\"\n",
    "result = mod.fit(y_data, params, method=\"least_squares\", x=x_data)\n",
    "ax= plt.subplots()\n",
    "result.plot_fit(datafmt=\"-\", ax=ax);\n",
    "plt.show()\n",
    "print(result.best_values)"
   ]
  },
  {
   "cell_type": "markdown",
   "metadata": {},
   "source": [
    "Plot above is of fitted vs actual number of deaths (num deaths more reliable than the other categories, which can vary a lot due to testing availability and reporting biases)."
   ]
  },
  {
   "cell_type": "markdown",
   "metadata": {},
   "source": [
    "**MODEL EVALUATION:** "
   ]
  },
  {
   "cell_type": "code",
   "execution_count": 56,
   "metadata": {},
   "outputs": [
    {
     "data": {
      "text/plain": [
       "386251.07321232435"
      ]
     },
     "execution_count": 56,
     "metadata": {},
     "output_type": "execute_result"
    }
   ],
   "source": [
    "#MSE\n",
    "np.mean(result.residual **2) "
   ]
  },
  {
   "cell_type": "code",
   "execution_count": 57,
   "metadata": {},
   "outputs": [
    {
     "data": {
      "text/html": [
       "<h2> Model</h2> Model(fitter) <h2>Fit Statistics</h2><table><tr><td>fitting method</td><td>least_squares</td><td></td></tr><tr><td># function evals</td><td>33</td><td></td></tr><tr><td># data points</td><td>114</td><td></td></tr><tr><td># variables</td><td>5</td><td></td></tr><tr><td>chi-square</td><td> 44032622.3</td><td></td></tr><tr><td>reduced chi-square</td><td> 403969.012</td><td></td></tr><tr><td>Akaike info crit.</td><td> 1476.52369</td><td></td></tr><tr><td>Bayesian info crit.</td><td> 1490.20468</td><td></td></tr></table><h2>Variables</h2><table><tr><th> name </th><th> value </th><th> standard error </th><th> relative error </th><th> initial value </th><th> min </th><th> max </th><th> vary </th></tr><tr><td> R_0_start </td><td>  5.00000000 </td><td>  13.6519346 </td><td> (273.04%) </td><td> 3.0 </td><td>  1.00000000 </td><td>  5.00000000 </td><td> True </td></tr><tr><td> k </td><td>  5.00000000 </td><td>  780.046193 </td><td> (15600.92%) </td><td> 2.5 </td><td>  0.01000000 </td><td>  5.00000000 </td><td> True </td></tr><tr><td> x0 </td><td>  25.9630912 </td><td>  11.6171078 </td><td> (44.74%) </td><td> 80 </td><td>  0.00000000 </td><td>  120.000000 </td><td> True </td></tr><tr><td> R_0_end </td><td>  0.30000000 </td><td>  3.62408741 </td><td> (1208.03%) </td><td> 0.9 </td><td>  0.30000000 </td><td>  3.50000000 </td><td> True </td></tr><tr><td> p_I_to_D </td><td>  1.00000000 </td><td>  14.9131033 </td><td> (1491.31%) </td><td> 0.02 </td><td>  0.00000000 </td><td>  1.00000000 </td><td> True </td></tr></table><h2>Correlations (unreported correlations are < 0.100)</h2><table><tr><td>R_0_end</td><td>p_I_to_D</td><td>-0.9997</td></tr><tr><td>R_0_start</td><td>p_I_to_D</td><td>-0.9984</td></tr><tr><td>R_0_start</td><td>R_0_end</td><td>0.9980</td></tr><tr><td>R_0_start</td><td>x0</td><td>-0.9485</td></tr><tr><td>x0</td><td>R_0_end</td><td>-0.9295</td></tr><tr><td>x0</td><td>p_I_to_D</td><td>0.9291</td></tr><tr><td>k</td><td>x0</td><td>0.8592</td></tr><tr><td>R_0_start</td><td>k</td><td>-0.7120</td></tr><tr><td>k</td><td>p_I_to_D</td><td>0.6748</td></tr><tr><td>k</td><td>R_0_end</td><td>-0.6681</td></tr></table>"
      ],
      "text/plain": [
       "<lmfit.model.ModelResult at 0x1199743d0>"
      ]
     },
     "execution_count": 57,
     "metadata": {},
     "output_type": "execute_result"
    }
   ],
   "source": [
    "result #how well pred vs reported deaths compare, using fitted params"
   ]
  },
  {
   "cell_type": "markdown",
   "metadata": {},
   "source": [
    "# SELIRCD Model"
   ]
  },
  {
   "cell_type": "code",
   "execution_count": 54,
   "metadata": {},
   "outputs": [],
   "source": [
    "#Note: What model works best at which time periods?\n",
    "#Note: Do models work better for smaller vs larger countries?\n",
    "#Note: Data in the Netherlands -- summaries/recommendations we want to see improvement on (request from ministry of health there)\n",
    "#Try Switzerland, South Korea, Taiwan\n",
    "#Note: a couple months (1-2) ahead prediction is minimum\n",
    "#Fixed params (tweak these?)\n",
    "gamma = 1.0 / 17.5 # 9 days from infection to recovery\n",
    "delta = 1.0 / 2.5  # incubation period of four days\n",
    "epsilon = 1.0 / 14.0 # two weeks for latent person to recover\n",
    "theta = 1.0 /2.0 # three days for latent to show symptoms\n",
    "lamda = 1.0 / 11.0 # five days for infected to be critical\n",
    "tau = 1.0 / 11.5 # week for critical patients to recover\n",
    "rho = 1.0 / 7.5 # 7.5 days from critical to death\n",
    " \n",
    "#Params to fit\n",
    "#Note: For which countries are we hitting the boundaries of the parameters?\n",
    "params_init_min_max = {\"R_0_start\": (3.0, 2.0, 100.0), \"k\": (2.5, 0.01, 150.0), \"x0\": (20, 0, 100), \"R_0_end\": (0.9, 0.00, 3.5), \"p_L_to_R\": (0.6, 0.0, 1.0),\n",
    "                       \"p_I_to_C\": (0.05, 0.001, 1.0), \"p_C_to_D\": (0.5, 0.005, 1.0),\n",
    "                       \"s\": (0.003, 0.001, 0.01)}  # form: {parameter: (initial guess, minimum value, max value)}"
   ]
  },
  {
   "cell_type": "code",
   "execution_count": 55,
   "metadata": {},
   "outputs": [],
   "source": [
    "#Diff eqs\n",
    "def deriv(y, t, N, beta, delta, epsilon, p_L_to_R, theta, gamma, p_C_to_D, p_I_to_C, lamda, tau, rho, beds):\n",
    "    S, E, L, I, C, R, D = y\n",
    "    # def alpha(t):\n",
    "    #     return s * I/N + alpha_opt\n",
    "    dSdt = - beta(t) * S * (I + L) / N\n",
    "    dEdt = beta(t) * S * (I + L) / N - delta * E\n",
    "    dLdt = delta * E - epsilon * p_L_to_R * L - theta * (1 - p_L_to_R) * L\n",
    "    dIdt = theta * (1 - p_L_to_R) * L - gamma * (1 - p_I_to_C) * I  - lamda * p_I_to_C * I\n",
    "    dCdt = lamda * p_I_to_C * I - tau * (1 - p_C_to_D) * min(beds(t), C) - rho * p_C_to_D * min(beds(t), C) \\\n",
    "           - max(0, C - beds(t))\n",
    "    dRdt = gamma * (1 - p_I_to_C) * I + tau * (1 - p_C_to_D) * min(beds(t), C) + epsilon * p_L_to_R * L\n",
    "    dDdt = rho * p_C_to_D * min(beds(t), C) + max(0, C-beds(t))\n",
    "    return dSdt, dEdt, dLdt, dIdt, dCdt, dRdt, dDdt"
   ]
  },
  {
   "cell_type": "code",
   "execution_count": 56,
   "metadata": {},
   "outputs": [],
   "source": [
    "def logistic_R_0(t, R_0_start, k, x0, R_0_end):\n",
    "    return (R_0_start-R_0_end) / (1 + np.exp(-k*(-t+x0))) + R_0_end"
   ]
  },
  {
   "cell_type": "code",
   "execution_count": 57,
   "metadata": {},
   "outputs": [],
   "source": [
    "#Model\n",
    "def Model(days, agegroups, beds_per_10k, R_0_start, k, x0, R_0_end, p_L_to_R, p_I_to_C, p_C_to_D, s):\n",
    "    # infection rate comes from current R0\n",
    "    def beta(t):\n",
    "        return logistic_R_0(t, R_0_start, k, x0, R_0_end) * gamma\n",
    "    # model bed usage in the poplation\n",
    "    def beds(t):\n",
    "        beds_0 = beds_per_10k / 10_000 * N\n",
    "        return beds_0 + s*beds_0*t  # 0.003\n",
    "    # run model\n",
    "    N = sum(agegroups)\n",
    "    y0 = N-1.0, 1.0, 0.0, 0.0, 0.0, 0.0, 0.0\n",
    "    t = np.linspace(0, days, days)\n",
    "    ret = odeint(deriv, y0, t, args=(N, beta, delta, epsilon, p_L_to_R, theta, gamma, p_C_to_D, p_I_to_C, lamda, tau, rho, beds))\n",
    "    S, E, L, I, C, R, D = ret.T\n",
    "    R_0_over_time = [beta(i)/gamma for i in range(len(t))]\n",
    "    return t, S, E, L, I, C, R, D, R_0_over_time, beds, p_I_to_C, p_C_to_D, delta"
   ]
  },
  {
   "cell_type": "code",
   "execution_count": 58,
   "metadata": {},
   "outputs": [],
   "source": [
    "#Set reference data (x_data is days, y_data is number of cumulative deaths)\n",
    "outbreak_shift = -2\n",
    "data = china[\"severe_ttl\"].to_numpy()[:80]\n",
    "days = outbreak_shift + len(data)\n",
    "if outbreak_shift >= 0:\n",
    "    y_data = np.concatenate((np.zeros(outbreak_shift+2), data[2:]))\n",
    "else:\n",
    "    y_data = data[-outbreak_shift:]\n",
    "\n",
    "x_data = np.linspace(0, days - 1, days, dtype=int)  # x_data is just [0, 1, ..., max_days] array"
   ]
  },
  {
   "cell_type": "code",
   "execution_count": 59,
   "metadata": {},
   "outputs": [],
   "source": [
    "#Fit the model to get predicted cumulative deaths\n",
    "def fitter(x, R_0_start, k, x0, R_0_end, p_L_to_R, p_I_to_C, p_C_to_D, s):\n",
    "    ret = Model(days, agegroups, beds_per_10k, R_0_start, k, x0, R_0_end, p_L_to_R, p_I_to_C, p_C_to_D, s)\n",
    "    return ret[5][x]\n",
    "\n",
    "mod = lmfit.Model(fitter)\n",
    "\n",
    "for kwarg, (init, mini, maxi) in params_init_min_max.items():\n",
    "    mod.set_param_hint(str(kwarg), value=init, min=mini, max=maxi, vary=True)"
   ]
  },
  {
   "cell_type": "code",
   "execution_count": 60,
   "metadata": {},
   "outputs": [
    {
     "name": "stderr",
     "output_type": "stream",
     "text": [
      "/opt/miniconda3/lib/python3.7/site-packages/ipykernel_launcher.py:2: RuntimeWarning: overflow encountered in exp\n",
      "  \n"
     ]
    },
    {
     "data": {
      "image/png": "[encoded data removed]",
      "text/plain": [
       "<Figure size 432x288 with 1 Axes>"
      ]
     },
     "metadata": {
      "needs_background": "light"
     },
     "output_type": "display_data"
    },
    {
     "name": "stdout",
     "output_type": "stream",
     "text": [
      "{'R_0_start': 99.99999999999999, 'k': 149.9982742909608, 'x0': 8.86901901577715, 'R_0_end': 4.216341644086603e-23, 'p_L_to_R': 0.7142457893383738, 'p_I_to_C': 0.9999999999999999, 'p_C_to_D': 0.7280018203916949, 's': 0.003}\n"
     ]
    }
   ],
   "source": [
    "params = mod.make_params()\n",
    "fit_method = \"leastsq\"\n",
    "result = mod.fit(y_data, params, method=\"least_squares\", x=x_data)\n",
    "ax= plt.subplots()\n",
    "result.plot_fit(datafmt=\"-\", ax=ax);\n",
    "plt.show()\n",
    "print(result.best_values)\n",
    "\n",
    "#Note: Try backfitting (censor later part of data and eval)"
   ]
  },
  {
   "cell_type": "markdown",
   "metadata": {},
   "source": [
    "**MODEL EVALUATION:** "
   ]
  },
  {
   "cell_type": "code",
   "execution_count": 45,
   "metadata": {},
   "outputs": [
    {
     "data": {
      "text/plain": [
       "43741.143544468876"
      ]
     },
     "execution_count": 45,
     "metadata": {},
     "output_type": "execute_result"
    }
   ],
   "source": [
    "#MSE\n",
    "np.mean(result.residual **2)"
   ]
  },
  {
   "cell_type": "code",
   "execution_count": 46,
   "metadata": {},
   "outputs": [
    {
     "data": {
      "text/html": [
       "<h2> Model</h2> Model(fitter) <h2>Fit Statistics</h2><table><tr><td>fitting method</td><td>least_squares</td><td></td></tr><tr><td># function evals</td><td>81</td><td></td></tr><tr><td># data points</td><td>79</td><td></td></tr><tr><td># variables</td><td>8</td><td></td></tr><tr><td>chi-square</td><td> 3455550.34</td><td></td></tr><tr><td>reduced chi-square</td><td> 48669.7231</td><td></td></tr><tr><td>Akaike info crit.</td><td> 860.197511</td><td></td></tr><tr><td>Bayesian info crit.</td><td> 879.153093</td><td></td></tr></table><h2>Variables</h2><table><tr><th> name </th><th> value </th><th> initial value </th><th> min </th><th> max </th><th> vary </th></tr><tr><td> R_0_start </td><td>  23.6241667 </td><td> 3.0 </td><td>  2.00000000 </td><td>  100.000000 </td><td> True </td></tr><tr><td> k </td><td>  99.9999695 </td><td> 2.5 </td><td>  0.01000000 </td><td>  100.000000 </td><td> True </td></tr><tr><td> x0 </td><td>  20.0000000 </td><td> 57 </td><td>  20.0000000 </td><td>  100.000000 </td><td> True </td></tr><tr><td> R_0_end </td><td>  7.5189e-13 </td><td> 0.9 </td><td>  0.00000000 </td><td>  3.50000000 </td><td> True </td></tr><tr><td> p_L_to_R </td><td>  0.38910846 </td><td> 0.6 </td><td>  0.00000000 </td><td>  1.00000000 </td><td> True </td></tr><tr><td> p_I_to_C </td><td>  1.00000000 </td><td> 0.05 </td><td>  1.0000e-03 </td><td>  1.00000000 </td><td> True </td></tr><tr><td> p_C_to_D </td><td>  0.93979539 </td><td> 0.5 </td><td>  0.00500000 </td><td>  1.00000000 </td><td> True </td></tr><tr><td> s </td><td>  0.00300000 </td><td> 0.003 </td><td>  1.0000e-03 </td><td>  0.01000000 </td><td> True </td></tr></table>"
      ],
      "text/plain": [
       "<lmfit.model.ModelResult at 0x1237c8690>"
      ]
     },
     "execution_count": 46,
     "metadata": {},
     "output_type": "execute_result"
    }
   ],
   "source": [
    "result #this has more params to fit, so more dof thus naturally higher AIC"
   ]
  },
  {
   "cell_type": "code",
   "execution_count": null,
   "metadata": {},
   "outputs": [],
   "source": []
  }
 ],
 "metadata": {
  "kernelspec": {
   "display_name": "Python 3",
   "language": "python",
   "name": "python3"
  },
  "language_info": {
   "codemirror_mode": {
    "name": "ipython",
    "version": 3
   },
   "file_extension": ".py",
   "mimetype": "text/x-python",
   "name": "python",
   "nbconvert_exporter": "python",
   "pygments_lexer": "ipython3",
   "version": "3.7.4"
  }
 },
 "nbformat": 4,
 "nbformat_minor": 2
}
