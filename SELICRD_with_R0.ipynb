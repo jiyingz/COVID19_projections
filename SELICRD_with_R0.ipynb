{
 "cells": [
  {
   "cell_type": "markdown",
   "metadata": {},
   "source": [
    "# SELICRD Model\n",
    "\n",
    "S - susceptable, E - exposed, L - latent, I - infected, C - critical, R - recovered, D - dead\n",
    "\n",
    "Following:\n",
    "https://towardsdatascience.com/infectious-disease-modelling-fit-your-model-to-coronavirus-data-2568e672dbc7\n",
    "\n",
    "![title](model.jpg)"
   ]
  },
  {
   "cell_type": "code",
   "execution_count": 1,
   "metadata": {},
   "outputs": [],
   "source": [
    "%matplotlib inline\n",
    "from scipy.integrate import odeint\n",
    "import numpy as np \n",
    "import matplotlib.pyplot as plt\n",
    "import matplotlib.dates as mdates\n",
    "import pandas as pd\n",
    "import lmfit\n",
    "from lmfit.lineshapes import gaussian, lorentzian\n",
    "import matplotlib.dates as mdates\n",
    "base_dir = 'Data'"
   ]
  },
  {
   "cell_type": "markdown",
   "metadata": {},
   "source": [
    "First, we define the system of differential equations modelling the flow between compartments\n",
    "\n",
    "$$\\begin{align*}\n",
    "\\dfrac{\\delta S}{\\delta t} &= - \\beta  S \\dfrac{I + L}{N}\\\\\n",
    "\\dfrac{\\delta E}{\\delta t} &= \\beta  S \\dfrac{I + L}{N} - \\delta  E\\\\\n",
    "\\dfrac{\\delta L}{\\delta t} &= \\delta  E - \\epsilon  p_{L\\rightarrow R}  L - \\theta  (1 - p_{L\\rightarrow R})  L\\\\\n",
    "\\dfrac{\\delta I}{\\delta t} &= \\theta  (1 - p_{L\\rightarrow R})  L - \\gamma  (1 - p_{I\\rightarrow C})  I  -\\lambda  p_{I\\rightarrow C}  I\\\\\n",
    "\\dfrac{\\delta C}{\\delta t} &= \\lambda p_{I\\rightarrow C}  I - \\tau  \\cdot (1 - p_{C\\rightarrow D})  \\cdot min(beds(t), C) - \n",
    "\\rho  \\cdot p_{C\\rightarrow D}  \\cdot \\min(beds(t), C) - \\max(0, C - beds(t))\\\\\n",
    "\\dfrac{\\delta R}{\\delta t} &= \\gamma  (1 - p_{I\\rightarrow R})  I + \\tau  (1 - p_{C\\rightarrow D})  \\cdot \\min(beds(t), C) + \\epsilon  p_{L\\rightarrow R}  L\\\\\n",
    "\\dfrac{\\delta D}{\\delta t} &= \\rho  \\cdot p_{C\\rightarrow D}  \\cdot min(beds(t), C) + max(0, C-beds(t))\n",
    "\\end{align*}$$"
   ]
  },
  {
   "cell_type": "code",
   "execution_count": 2,
   "metadata": {},
   "outputs": [],
   "source": [
    "def deriv(y, t, N, beta, delta, epsilon, p_L_to_R, theta, gamma, p_C_to_D, p_I_to_C, lamda, tau, rho, beds):\n",
    "    S, E, L, I, C, R, D = y\n",
    "    dSdt = -beta(t) * S * (I + L) / N\n",
    "    dEdt = beta(t) * S * (I + L) / N - delta * E\n",
    "    dLdt = delta * E - epsilon * p_L_to_R * L - theta * (1 - p_L_to_R) * L\n",
    "    dIdt = theta * (1 - p_L_to_R) * L - gamma * (1 - p_I_to_C) * I  - lamda * p_I_to_C * I\n",
    "    dCdt = lamda * p_I_to_C * I - tau * (1 - p_C_to_D) * min(beds(t), C) - rho * p_C_to_D * min(beds(t), C) \\\n",
    "           - max(0, C - beds(t))\n",
    "    dRdt = gamma * (1 - p_I_to_C) * I + tau * (1 - p_C_to_D) * min(beds(t), C) + epsilon * p_L_to_R * L\n",
    "    dDdt = rho * p_C_to_D * min(beds(t), C) + max(0, C-beds(t))\n",
    "    return dSdt, dEdt, dLdt, dIdt, dCdt, dRdt, dDdt"
   ]
  },
  {
   "cell_type": "markdown",
   "metadata": {},
   "source": [
    "We can model the declining R0 as a logistical interpolation as \"Stay at Home\" orders are released and followed. "
   ]
  },
  {
   "cell_type": "code",
   "execution_count": 3,
   "metadata": {},
   "outputs": [],
   "source": [
    "# def logistic_R_0(t, R_0_start, k, x0, R_0_end):\n",
    "#     if -k*(-t+x0) >= 500: return R_0_end\n",
    "#     return (R_0_start-R_0_end) / (1 + np.exp(-k*(-t+x0))) + R_0_end\n",
    "def R0_t(t, b, r_s):\n",
    "    return (2 / np.pi) * np.arctan(-(t - b) / 10 * r_s) + 1.0"
   ]
  },
  {
   "cell_type": "markdown",
   "metadata": {},
   "source": [
    "We can find the numerical solution to the ODEs "
   ]
  },
  {
   "cell_type": "code",
   "execution_count": 4,
   "metadata": {},
   "outputs": [],
   "source": [
    "# def Model(days, agegroups, beds_per_10k, R_0_start, k, x0, R_0_end, p_L_to_R, p_I_to_C, p_C_to_D, s):\n",
    "#     # infection rate comes from current R0\n",
    "#     def beta(t):\n",
    "#         return logistic_R_0(t, R_0_start, k, x0, R_0_end) * gamma\n",
    "#     # model bed usage in the poplation\n",
    "#     def beds(t):\n",
    "#         beds_0 = beds_per_10k / 10_000 * N\n",
    "#         return beds_0 + s*beds_0*t  # 0.003\n",
    "#     # run model\n",
    "#     N = sum(agegroups)\n",
    "#     y0 = N-1.0, 1.0, 0.0, 0.0, 0.0, 0.0, 0.0\n",
    "#     t = np.linspace(0, days, days)\n",
    "#     ret = odeint(deriv, y0, t, args=(N, beta, delta, epsilon, p_L_to_R, theta, gamma, p_C_to_D, p_I_to_C, lamda, tau, rho, beds))\n",
    "#     S, E, L, I, C, R, D = ret.T\n",
    "#     R_0_over_time = [beta(i)/gamma for i in range(len(t))]\n",
    "#     return t, S, E, L, I, C, R, D, R_0_over_time, beds, p_I_to_C, p_C_to_D\n",
    "def Model(days, agegroups, beds_per_100k, alpha, b, r_s, p_L_to_R, p_I_to_C, p_C_to_D, s):\n",
    "    def beta(t):\n",
    "        return alpha*R0_t(t, b, r_s)\n",
    "    N = sum(agegroups)\n",
    "    def Beds(t):\n",
    "        beds_0 = beds_per_100k / 100_000 * N\n",
    "        return beds_0 + s*beds_0*t  # 0.003\n",
    "    y0 = N-1.0, 1.0, 0.0, 0.0, 0.0, 0.0, 0.0\n",
    "    t = np.linspace(0, days-1, days)\n",
    "    ret = odeint(deriv, y0, t, args=(N, beta, delta, epsilon, p_L_to_R, theta, gamma, p_C_to_D, p_I_to_C, lamda, tau, rho, Beds))\n",
    "    S, E, L, I, C, R, D = ret.T\n",
    "    R_0_over_time = [beta(i)/alpha for i in range(len(t))]\n",
    "    return t, S, E, L, I, C, R, D, R_0_over_time, Beds, p_I_to_C, p_C_to_D"
   ]
  },
  {
   "cell_type": "code",
   "execution_count": 5,
   "metadata": {},
   "outputs": [],
   "source": [
    "def plotter(t, S, E, L, I, C, R, D, R_0, B, S_1=None, S_2=None, x_ticks=None):\n",
    "    if S_1 is not None and S_2 is not None: \n",
    "        print(f\"percentage going to ICU: {S_1*100}; percentage dying in ICU: {S_2 * 100}\")\n",
    "    f, ax = plt.subplots(1,1,figsize=(20,4))\n",
    "    if x_ticks is None:\n",
    "        # ax.plot(t, S, 'b', alpha=0.7, linewidth=2, label='Susceptible')\n",
    "        ax.plot(t, E, 'y', alpha=0.7, linewidth=2, label='Exposed')\n",
    "        ax.plot(t, L, 'm', alpha=0.7, linewidth=2, label='Latent')\n",
    "        ax.plot(t, I, 'r', alpha=0.7, linewidth=2, label='Infected')\n",
    "        ax.plot(t, C, 'c', alpha=0.7, linewidth=2, label='Critical')\n",
    "        # ax.plot(t, R, 'g', alpha=0.7, linewidth=2, label='Recovered')\n",
    "        ax.plot(t, D, 'k', alpha=0.7, linewidth=2, label='Dead')\n",
    "    else:\n",
    "        # ax.plot(x_ticks, S, 'b', alpha=0.7, linewidth=2, label='Susceptible')\n",
    "        ax.plot(x_ticks, E, 'y', alpha=0.7, linewidth=2, label='Exposed')\n",
    "        ax.plot(x_ticks, L, 'm', alpha=0.7, linewidth=2, label='Latent')\n",
    "        ax.plot(x_ticks, I, 'r', alpha=0.7, linewidth=2, label='Infected')\n",
    "        ax.plot(x_ticks, C, 'c', alpha=0.7, linewidth=2, label='Critical')\n",
    "        # ax.plot(x_ticks, R, 'g', alpha=0.7, linewidth=2, label='Recovered')\n",
    "        ax.plot(x_ticks, D, 'k', alpha=0.7, linewidth=2, label='Dead')\n",
    "\n",
    "        ax.xaxis.set_major_locator(mdates.YearLocator())\n",
    "        ax.xaxis.set_major_formatter(mdates.DateFormatter('%Y-%m-%d'))\n",
    "        ax.xaxis.set_minor_locator(mdates.MonthLocator())\n",
    "        f.autofmt_xdate()\n",
    "    ax.title.set_text('SELICRD Model')\n",
    "    ax.grid(b=True, which='major', c='w', lw=2, ls='-')\n",
    "    legend = ax.legend()\n",
    "    legend.get_frame().set_alpha(0.5)\n",
    "    for spine in ('top', 'right', 'bottom', 'left'):\n",
    "        ax.spines[spine].set_visible(False)\n",
    "    plt.show()\n",
    "    f = plt.figure(figsize=(20,4))\n",
    "    # sp1\n",
    "    ax1 = f.add_subplot(131)\n",
    "    if x_ticks is None:\n",
    "        ax1.plot(t, R_0, 'b--', alpha=0.7, linewidth=2, label='R_0')\n",
    "    else:\n",
    "        ax1.plot(x_ticks, R_0, 'b--', alpha=0.7, linewidth=2, label='R_0')\n",
    "        ax1.xaxis.set_major_locator(mdates.YearLocator())\n",
    "        ax1.xaxis.set_major_formatter(mdates.DateFormatter('%Y-%m-%d'))\n",
    "        ax1.xaxis.set_minor_locator(mdates.MonthLocator())\n",
    "        f.autofmt_xdate()\n",
    "    ax1.title.set_text('R_0 over time')\n",
    "    ax1.grid(b=True, which='major', c='w', lw=2, ls='-')\n",
    "    legend = ax1.legend()\n",
    "    legend.get_frame().set_alpha(0.5)\n",
    "    for spine in ('top', 'right', 'bottom', 'left'):\n",
    "        ax.spines[spine].set_visible(False)\n",
    "    # sp2\n",
    "    ax2 = f.add_subplot(132)\n",
    "    total_CFR = [0] + [100 * D[i] / sum(delta*E[:i]) if sum(delta*E[:i])>0 else 0 for i in range(1, len(t))]\n",
    "    daily_CFR = [0] + [100 * ((D[i]-D[i-1]) / ((R[i]-R[i-1]) + (D[i]-D[i-1]))) if max((R[i]-R[i-1]), (D[i]-D[i-1]))>10 else 0 for i in range(1, len(t))]\n",
    "    if x_ticks is None:\n",
    "        ax2.plot(t, total_CFR, 'r--', alpha=0.7, linewidth=2, label='total')\n",
    "        ax2.plot(t, daily_CFR, 'b--', alpha=0.7, linewidth=2, label='daily')\n",
    "    else:\n",
    "        ax2.plot(x_ticks, total_CFR, 'r--', alpha=0.7, linewidth=2, label='total')\n",
    "        ax2.plot(x_ticks, daily_CFR, 'b--', alpha=0.7, linewidth=2, label='daily')\n",
    "        ax2.xaxis.set_major_locator(mdates.YearLocator())\n",
    "        ax2.xaxis.set_major_formatter(mdates.DateFormatter('%Y-%m-%d'))\n",
    "        ax2.xaxis.set_minor_locator(mdates.MonthLocator())\n",
    "        f.autofmt_xdate()\n",
    "    ax2.title.set_text('Fatality Rate (%)')\n",
    "    ax2.grid(b=True, which='major', c='w', lw=2, ls='-')\n",
    "    legend = ax2.legend()\n",
    "    legend.get_frame().set_alpha(0.5)\n",
    "    for spine in ('top', 'right', 'bottom', 'left'):\n",
    "        ax.spines[spine].set_visible(False)\n",
    "    # sp3\n",
    "    ax3 = f.add_subplot(133)\n",
    "    newDs = [0] + [D[i]-D[i-1] for i in range(1, len(t))]\n",
    "    if x_ticks is None:\n",
    "        ax3.plot(t, newDs, 'r--', alpha=0.7, linewidth=2, label='total')\n",
    "        ax3.plot(t, [max(0, C[i]-B(i)) for i in range(len(t))], 'b--', alpha=0.7, linewidth=2, label=\"over capacity\")\n",
    "    else:\n",
    "        ax3.plot(x_ticks, newDs, 'r--', alpha=0.7, linewidth=2, label='total')\n",
    "        ax3.plot(x_ticks, [max(0, C[i]-B(i)) for i in range(len(t))], 'b--', alpha=0.7, linewidth=2, label=\"over capacity\")\n",
    "        ax3.xaxis.set_major_locator(mdates.YearLocator())\n",
    "        ax3.xaxis.set_major_formatter(mdates.DateFormatter('%Y-%m-%d'))\n",
    "        ax3.xaxis.set_minor_locator(mdates.MonthLocator())\n",
    "        f.autofmt_xdate()\n",
    "    ax3.title.set_text('Deaths per day')\n",
    "    ax3.yaxis.set_tick_params(length=0)\n",
    "    ax3.xaxis.set_tick_params(length=0)\n",
    "    ax3.grid(b=True, which='major', c='w', lw=2, ls='-')\n",
    "    legend = ax3.legend()\n",
    "    legend.get_frame().set_alpha(0.5)\n",
    "    for spine in ('top', 'right', 'bottom', 'left'):\n",
    "        ax.spines[spine].set_visible(False)\n",
    "    plt.show();"
   ]
  },
  {
   "cell_type": "markdown",
   "metadata": {},
   "source": [
    "Next, define the hyper-parameter rates of the model"
   ]
  },
  {
   "cell_type": "code",
   "execution_count": 6,
   "metadata": {},
   "outputs": [],
   "source": [
    "gamma = 1.0 / 17.5 # 9 days from infection to recovery\n",
    "delta = 1.0 / 2.5  # incubation period of four days\n",
    "epsilon = 1.0 / 14.0 # two weeks for latent person to recover\n",
    "theta = 1.0 /2.0 # three days for latent to show symptoms\n",
    "lamda = 1.0 / 11.0 # five days for infected to be critical\n",
    "tau = 1.0 / 11.5 # week for critical patients to recover\n",
    "rho = 1.0 / 7.5 # 7.5 days from critical to death"
   ]
  },
  {
   "cell_type": "markdown",
   "metadata": {},
   "source": [
    "## Parameter Fitting"
   ]
  },
  {
   "cell_type": "code",
   "execution_count": 276,
   "metadata": {
    "scrolled": true
   },
   "outputs": [],
   "source": [
    "# params_init_min_max = {\"R_0_start\": (3.0, 2.0, 10.0), \"k\": (2.5, 0.01, 10.0), \"x0\": (57, 20, 100), \"R_0_end\": (0.9, 0.01, 3.5), \"p_L_to_R\": (0.6, 0.0, 0.8),\n",
    "#                        \"p_I_to_C\": (0.05, 0.001, 0.1), \"p_C_to_D\": (0.5, 0.005, 0.8),\n",
    "#                        \"s\": (0.003, 0.001, 0.01)}  # form: {parameter: (initial guess, minimum value, max value)}\n",
    "\n",
    "params_init_min_max = {#\"R_0_start\": (3.0, 2.0, 10.0), \"k\": (2.5, 0.01, 10.0), \"x0\": (57, 20, 100), \"R_0_end\": (0.9, 0.01, 3.5), \n",
    "                       \"p_L_to_R\": (0.6, 0.0, 0.8),\n",
    "                       \"alpha\": (0.3, 0.1, 5.7), \n",
    "                       \"b\": (20, 0, 40), \"r_s\": (1, 0.1, 60),\n",
    "                       \"p_I_to_C\": (0.05, 0.001, 0.1), \"p_C_to_D\": (0.5, 0.005, 0.8),\n",
    "                       \"s\": (0.003, 0.001, 0.01)}  # form: {parameter: (initial guess, minimum value, max value)}\n"
   ]
  },
  {
   "cell_type": "code",
   "execution_count": 106,
   "metadata": {},
   "outputs": [
    {
     "data": {
      "text/html": [
       "<div>\n",
       "<style scoped>\n",
       "    .dataframe tbody tr th:only-of-type {\n",
       "        vertical-align: middle;\n",
       "    }\n",
       "\n",
       "    .dataframe tbody tr th {\n",
       "        vertical-align: top;\n",
       "    }\n",
       "\n",
       "    .dataframe thead th {\n",
       "        text-align: right;\n",
       "    }\n",
       "</style>\n",
       "<table border=\"1\" class=\"dataframe\">\n",
       "  <thead>\n",
       "    <tr style=\"text-align: right;\">\n",
       "      <th></th>\n",
       "      <th>dateRep</th>\n",
       "      <th>day</th>\n",
       "      <th>month</th>\n",
       "      <th>year</th>\n",
       "      <th>cases</th>\n",
       "      <th>deaths</th>\n",
       "      <th>country</th>\n",
       "      <th>geoId</th>\n",
       "      <th>countryterritoryCode</th>\n",
       "      <th>popData2018</th>\n",
       "      <th>continentExp</th>\n",
       "    </tr>\n",
       "  </thead>\n",
       "  <tbody>\n",
       "    <tr>\n",
       "      <th>0</th>\n",
       "      <td>01/06/2020</td>\n",
       "      <td>1</td>\n",
       "      <td>6</td>\n",
       "      <td>2020</td>\n",
       "      <td>680</td>\n",
       "      <td>8</td>\n",
       "      <td>Afghanistan</td>\n",
       "      <td>AF</td>\n",
       "      <td>AFG</td>\n",
       "      <td>37172386.0</td>\n",
       "      <td>Asia</td>\n",
       "    </tr>\n",
       "    <tr>\n",
       "      <th>1</th>\n",
       "      <td>31/05/2020</td>\n",
       "      <td>31</td>\n",
       "      <td>5</td>\n",
       "      <td>2020</td>\n",
       "      <td>866</td>\n",
       "      <td>3</td>\n",
       "      <td>Afghanistan</td>\n",
       "      <td>AF</td>\n",
       "      <td>AFG</td>\n",
       "      <td>37172386.0</td>\n",
       "      <td>Asia</td>\n",
       "    </tr>\n",
       "    <tr>\n",
       "      <th>2</th>\n",
       "      <td>30/05/2020</td>\n",
       "      <td>30</td>\n",
       "      <td>5</td>\n",
       "      <td>2020</td>\n",
       "      <td>623</td>\n",
       "      <td>11</td>\n",
       "      <td>Afghanistan</td>\n",
       "      <td>AF</td>\n",
       "      <td>AFG</td>\n",
       "      <td>37172386.0</td>\n",
       "      <td>Asia</td>\n",
       "    </tr>\n",
       "    <tr>\n",
       "      <th>3</th>\n",
       "      <td>29/05/2020</td>\n",
       "      <td>29</td>\n",
       "      <td>5</td>\n",
       "      <td>2020</td>\n",
       "      <td>580</td>\n",
       "      <td>8</td>\n",
       "      <td>Afghanistan</td>\n",
       "      <td>AF</td>\n",
       "      <td>AFG</td>\n",
       "      <td>37172386.0</td>\n",
       "      <td>Asia</td>\n",
       "    </tr>\n",
       "    <tr>\n",
       "      <th>4</th>\n",
       "      <td>28/05/2020</td>\n",
       "      <td>28</td>\n",
       "      <td>5</td>\n",
       "      <td>2020</td>\n",
       "      <td>625</td>\n",
       "      <td>7</td>\n",
       "      <td>Afghanistan</td>\n",
       "      <td>AF</td>\n",
       "      <td>AFG</td>\n",
       "      <td>37172386.0</td>\n",
       "      <td>Asia</td>\n",
       "    </tr>\n",
       "    <tr>\n",
       "      <th>...</th>\n",
       "      <td>...</td>\n",
       "      <td>...</td>\n",
       "      <td>...</td>\n",
       "      <td>...</td>\n",
       "      <td>...</td>\n",
       "      <td>...</td>\n",
       "      <td>...</td>\n",
       "      <td>...</td>\n",
       "      <td>...</td>\n",
       "      <td>...</td>\n",
       "      <td>...</td>\n",
       "    </tr>\n",
       "    <tr>\n",
       "      <th>20706</th>\n",
       "      <td>25/03/2020</td>\n",
       "      <td>25</td>\n",
       "      <td>3</td>\n",
       "      <td>2020</td>\n",
       "      <td>0</td>\n",
       "      <td>0</td>\n",
       "      <td>Zimbabwe</td>\n",
       "      <td>ZW</td>\n",
       "      <td>ZWE</td>\n",
       "      <td>14439018.0</td>\n",
       "      <td>Africa</td>\n",
       "    </tr>\n",
       "    <tr>\n",
       "      <th>20707</th>\n",
       "      <td>24/03/2020</td>\n",
       "      <td>24</td>\n",
       "      <td>3</td>\n",
       "      <td>2020</td>\n",
       "      <td>0</td>\n",
       "      <td>1</td>\n",
       "      <td>Zimbabwe</td>\n",
       "      <td>ZW</td>\n",
       "      <td>ZWE</td>\n",
       "      <td>14439018.0</td>\n",
       "      <td>Africa</td>\n",
       "    </tr>\n",
       "    <tr>\n",
       "      <th>20708</th>\n",
       "      <td>23/03/2020</td>\n",
       "      <td>23</td>\n",
       "      <td>3</td>\n",
       "      <td>2020</td>\n",
       "      <td>0</td>\n",
       "      <td>0</td>\n",
       "      <td>Zimbabwe</td>\n",
       "      <td>ZW</td>\n",
       "      <td>ZWE</td>\n",
       "      <td>14439018.0</td>\n",
       "      <td>Africa</td>\n",
       "    </tr>\n",
       "    <tr>\n",
       "      <th>20709</th>\n",
       "      <td>22/03/2020</td>\n",
       "      <td>22</td>\n",
       "      <td>3</td>\n",
       "      <td>2020</td>\n",
       "      <td>1</td>\n",
       "      <td>0</td>\n",
       "      <td>Zimbabwe</td>\n",
       "      <td>ZW</td>\n",
       "      <td>ZWE</td>\n",
       "      <td>14439018.0</td>\n",
       "      <td>Africa</td>\n",
       "    </tr>\n",
       "    <tr>\n",
       "      <th>20710</th>\n",
       "      <td>21/03/2020</td>\n",
       "      <td>21</td>\n",
       "      <td>3</td>\n",
       "      <td>2020</td>\n",
       "      <td>1</td>\n",
       "      <td>0</td>\n",
       "      <td>Zimbabwe</td>\n",
       "      <td>ZW</td>\n",
       "      <td>ZWE</td>\n",
       "      <td>14439018.0</td>\n",
       "      <td>Africa</td>\n",
       "    </tr>\n",
       "  </tbody>\n",
       "</table>\n",
       "<p>20711 rows × 11 columns</p>\n",
       "</div>"
      ],
      "text/plain": [
       "          dateRep  day  month  year  cases  deaths      country geoId  \\\n",
       "0      01/06/2020    1      6  2020    680       8  Afghanistan    AF   \n",
       "1      31/05/2020   31      5  2020    866       3  Afghanistan    AF   \n",
       "2      30/05/2020   30      5  2020    623      11  Afghanistan    AF   \n",
       "3      29/05/2020   29      5  2020    580       8  Afghanistan    AF   \n",
       "4      28/05/2020   28      5  2020    625       7  Afghanistan    AF   \n",
       "...           ...  ...    ...   ...    ...     ...          ...   ...   \n",
       "20706  25/03/2020   25      3  2020      0       0     Zimbabwe    ZW   \n",
       "20707  24/03/2020   24      3  2020      0       1     Zimbabwe    ZW   \n",
       "20708  23/03/2020   23      3  2020      0       0     Zimbabwe    ZW   \n",
       "20709  22/03/2020   22      3  2020      1       0     Zimbabwe    ZW   \n",
       "20710  21/03/2020   21      3  2020      1       0     Zimbabwe    ZW   \n",
       "\n",
       "      countryterritoryCode  popData2018 continentExp  \n",
       "0                      AFG   37172386.0         Asia  \n",
       "1                      AFG   37172386.0         Asia  \n",
       "2                      AFG   37172386.0         Asia  \n",
       "3                      AFG   37172386.0         Asia  \n",
       "4                      AFG   37172386.0         Asia  \n",
       "...                    ...          ...          ...  \n",
       "20706                  ZWE   14439018.0       Africa  \n",
       "20707                  ZWE   14439018.0       Africa  \n",
       "20708                  ZWE   14439018.0       Africa  \n",
       "20709                  ZWE   14439018.0       Africa  \n",
       "20710                  ZWE   14439018.0       Africa  \n",
       "\n",
       "[20711 rows x 11 columns]"
      ]
     },
     "execution_count": 106,
     "metadata": {},
     "output_type": "execute_result"
    }
   ],
   "source": [
    "worldData = pd.read_csv(\"https://opendata.ecdc.europa.eu/covid19/casedistribution/csv\", header = 0)\n",
    "worldData.rename(columns={\"countriesAndTerritories\" : \"country\"}, inplace=True)\n",
    "worldData[\"country\"].replace({\"United_States_of_America\": \"US\"}, inplace=True)\n",
    "worldData"
   ]
  },
  {
   "cell_type": "code",
   "execution_count": 103,
   "metadata": {},
   "outputs": [
    {
     "data": {
      "text/plain": [
       "{'Afghanistan',\n",
       " 'Albania',\n",
       " 'Algeria',\n",
       " 'Andorra',\n",
       " 'Angola',\n",
       " 'Anguilla',\n",
       " 'Antigua_and_Barbuda',\n",
       " 'Argentina',\n",
       " 'Armenia',\n",
       " 'Aruba',\n",
       " 'Australia',\n",
       " 'Austria',\n",
       " 'Azerbaijan',\n",
       " 'Bahamas',\n",
       " 'Bahrain',\n",
       " 'Bangladesh',\n",
       " 'Barbados',\n",
       " 'Belarus',\n",
       " 'Belgium',\n",
       " 'Belize',\n",
       " 'Benin',\n",
       " 'Bermuda',\n",
       " 'Bhutan',\n",
       " 'Bolivia',\n",
       " 'Bonaire, Saint Eustatius and Saba',\n",
       " 'Bosnia_and_Herzegovina',\n",
       " 'Botswana',\n",
       " 'Brazil',\n",
       " 'British_Virgin_Islands',\n",
       " 'Brunei_Darussalam',\n",
       " 'Bulgaria',\n",
       " 'Burkina_Faso',\n",
       " 'Burundi',\n",
       " 'Cambodia',\n",
       " 'Cameroon',\n",
       " 'Canada',\n",
       " 'Cape_Verde',\n",
       " 'Cases_on_an_international_conveyance_Japan',\n",
       " 'Cayman_Islands',\n",
       " 'Central_African_Republic',\n",
       " 'Chad',\n",
       " 'Chile',\n",
       " 'China',\n",
       " 'Colombia',\n",
       " 'Comoros',\n",
       " 'Congo',\n",
       " 'Costa_Rica',\n",
       " 'Cote_dIvoire',\n",
       " 'Croatia',\n",
       " 'Cuba',\n",
       " 'Curaçao',\n",
       " 'Cyprus',\n",
       " 'Czechia',\n",
       " 'Democratic_Republic_of_the_Congo',\n",
       " 'Denmark',\n",
       " 'Djibouti',\n",
       " 'Dominica',\n",
       " 'Dominican_Republic',\n",
       " 'Ecuador',\n",
       " 'Egypt',\n",
       " 'El_Salvador',\n",
       " 'Equatorial_Guinea',\n",
       " 'Eritrea',\n",
       " 'Estonia',\n",
       " 'Eswatini',\n",
       " 'Ethiopia',\n",
       " 'Falkland_Islands_(Malvinas)',\n",
       " 'Faroe_Islands',\n",
       " 'Fiji',\n",
       " 'Finland',\n",
       " 'France',\n",
       " 'French_Polynesia',\n",
       " 'Gabon',\n",
       " 'Gambia',\n",
       " 'Georgia',\n",
       " 'Germany',\n",
       " 'Ghana',\n",
       " 'Gibraltar',\n",
       " 'Greece',\n",
       " 'Greenland',\n",
       " 'Grenada',\n",
       " 'Guam',\n",
       " 'Guatemala',\n",
       " 'Guernsey',\n",
       " 'Guinea',\n",
       " 'Guinea_Bissau',\n",
       " 'Guyana',\n",
       " 'Haiti',\n",
       " 'Holy_See',\n",
       " 'Honduras',\n",
       " 'Hungary',\n",
       " 'Iceland',\n",
       " 'India',\n",
       " 'Indonesia',\n",
       " 'Iran',\n",
       " 'Iraq',\n",
       " 'Ireland',\n",
       " 'Isle_of_Man',\n",
       " 'Israel',\n",
       " 'Italy',\n",
       " 'Jamaica',\n",
       " 'Japan',\n",
       " 'Jersey',\n",
       " 'Jordan',\n",
       " 'Kazakhstan',\n",
       " 'Kenya',\n",
       " 'Kosovo',\n",
       " 'Kuwait',\n",
       " 'Kyrgyzstan',\n",
       " 'Laos',\n",
       " 'Latvia',\n",
       " 'Lebanon',\n",
       " 'Lesotho',\n",
       " 'Liberia',\n",
       " 'Libya',\n",
       " 'Liechtenstein',\n",
       " 'Lithuania',\n",
       " 'Luxembourg',\n",
       " 'Madagascar',\n",
       " 'Malawi',\n",
       " 'Malaysia',\n",
       " 'Maldives',\n",
       " 'Mali',\n",
       " 'Malta',\n",
       " 'Mauritania',\n",
       " 'Mauritius',\n",
       " 'Mexico',\n",
       " 'Moldova',\n",
       " 'Monaco',\n",
       " 'Mongolia',\n",
       " 'Montenegro',\n",
       " 'Montserrat',\n",
       " 'Morocco',\n",
       " 'Mozambique',\n",
       " 'Myanmar',\n",
       " 'Namibia',\n",
       " 'Nepal',\n",
       " 'Netherlands',\n",
       " 'New_Caledonia',\n",
       " 'New_Zealand',\n",
       " 'Nicaragua',\n",
       " 'Niger',\n",
       " 'Nigeria',\n",
       " 'North_Macedonia',\n",
       " 'Northern_Mariana_Islands',\n",
       " 'Norway',\n",
       " 'Oman',\n",
       " 'Pakistan',\n",
       " 'Palestine',\n",
       " 'Panama',\n",
       " 'Papua_New_Guinea',\n",
       " 'Paraguay',\n",
       " 'Peru',\n",
       " 'Philippines',\n",
       " 'Poland',\n",
       " 'Portugal',\n",
       " 'Puerto_Rico',\n",
       " 'Qatar',\n",
       " 'Romania',\n",
       " 'Russia',\n",
       " 'Rwanda',\n",
       " 'Saint_Kitts_and_Nevis',\n",
       " 'Saint_Lucia',\n",
       " 'Saint_Vincent_and_the_Grenadines',\n",
       " 'San_Marino',\n",
       " 'Sao_Tome_and_Principe',\n",
       " 'Saudi_Arabia',\n",
       " 'Senegal',\n",
       " 'Serbia',\n",
       " 'Seychelles',\n",
       " 'Sierra_Leone',\n",
       " 'Singapore',\n",
       " 'Sint_Maarten',\n",
       " 'Slovakia',\n",
       " 'Slovenia',\n",
       " 'Somalia',\n",
       " 'South_Africa',\n",
       " 'South_Korea',\n",
       " 'South_Sudan',\n",
       " 'Spain',\n",
       " 'Sri_Lanka',\n",
       " 'Sudan',\n",
       " 'Suriname',\n",
       " 'Sweden',\n",
       " 'Switzerland',\n",
       " 'Syria',\n",
       " 'Taiwan',\n",
       " 'Tajikistan',\n",
       " 'Thailand',\n",
       " 'Timor_Leste',\n",
       " 'Togo',\n",
       " 'Trinidad_and_Tobago',\n",
       " 'Tunisia',\n",
       " 'Turkey',\n",
       " 'Turks_and_Caicos_islands',\n",
       " 'US',\n",
       " 'Uganda',\n",
       " 'Ukraine',\n",
       " 'United_Arab_Emirates',\n",
       " 'United_Kingdom',\n",
       " 'United_Republic_of_Tanzania',\n",
       " 'United_States_Virgin_Islands',\n",
       " 'Uruguay',\n",
       " 'Uzbekistan',\n",
       " 'Venezuela',\n",
       " 'Vietnam',\n",
       " 'Western_Sahara',\n",
       " 'Yemen',\n",
       " 'Zambia',\n",
       " 'Zimbabwe'}"
      ]
     },
     "execution_count": 103,
     "metadata": {},
     "output_type": "execute_result"
    }
   ],
   "source": [
    "set(worldData[\"country\"])"
   ]
  },
  {
   "cell_type": "code",
   "execution_count": 129,
   "metadata": {},
   "outputs": [
    {
     "data": {
      "text/html": [
       "<div>\n",
       "<style scoped>\n",
       "    .dataframe tbody tr th:only-of-type {\n",
       "        vertical-align: middle;\n",
       "    }\n",
       "\n",
       "    .dataframe tbody tr th {\n",
       "        vertical-align: top;\n",
       "    }\n",
       "\n",
       "    .dataframe thead th {\n",
       "        text-align: right;\n",
       "    }\n",
       "</style>\n",
       "<table border=\"1\" class=\"dataframe\">\n",
       "  <thead>\n",
       "    <tr style=\"text-align: right;\">\n",
       "      <th></th>\n",
       "      <th>dateRep</th>\n",
       "      <th>day</th>\n",
       "      <th>month</th>\n",
       "      <th>year</th>\n",
       "      <th>cases</th>\n",
       "      <th>deaths</th>\n",
       "      <th>country</th>\n",
       "      <th>geoId</th>\n",
       "      <th>countryterritoryCode</th>\n",
       "      <th>popData2018</th>\n",
       "      <th>continentExp</th>\n",
       "    </tr>\n",
       "  </thead>\n",
       "  <tbody>\n",
       "    <tr>\n",
       "      <th>0</th>\n",
       "      <td>31/12/2019</td>\n",
       "      <td>31</td>\n",
       "      <td>12</td>\n",
       "      <td>2019</td>\n",
       "      <td>0</td>\n",
       "      <td>0</td>\n",
       "      <td>Italy</td>\n",
       "      <td>IT</td>\n",
       "      <td>ITA</td>\n",
       "      <td>60431283.0</td>\n",
       "      <td>Europe</td>\n",
       "    </tr>\n",
       "    <tr>\n",
       "      <th>1</th>\n",
       "      <td>01/01/2020</td>\n",
       "      <td>1</td>\n",
       "      <td>1</td>\n",
       "      <td>2020</td>\n",
       "      <td>0</td>\n",
       "      <td>0</td>\n",
       "      <td>Italy</td>\n",
       "      <td>IT</td>\n",
       "      <td>ITA</td>\n",
       "      <td>60431283.0</td>\n",
       "      <td>Europe</td>\n",
       "    </tr>\n",
       "    <tr>\n",
       "      <th>2</th>\n",
       "      <td>02/01/2020</td>\n",
       "      <td>2</td>\n",
       "      <td>1</td>\n",
       "      <td>2020</td>\n",
       "      <td>0</td>\n",
       "      <td>0</td>\n",
       "      <td>Italy</td>\n",
       "      <td>IT</td>\n",
       "      <td>ITA</td>\n",
       "      <td>60431283.0</td>\n",
       "      <td>Europe</td>\n",
       "    </tr>\n",
       "    <tr>\n",
       "      <th>3</th>\n",
       "      <td>03/01/2020</td>\n",
       "      <td>3</td>\n",
       "      <td>1</td>\n",
       "      <td>2020</td>\n",
       "      <td>0</td>\n",
       "      <td>0</td>\n",
       "      <td>Italy</td>\n",
       "      <td>IT</td>\n",
       "      <td>ITA</td>\n",
       "      <td>60431283.0</td>\n",
       "      <td>Europe</td>\n",
       "    </tr>\n",
       "    <tr>\n",
       "      <th>4</th>\n",
       "      <td>04/01/2020</td>\n",
       "      <td>4</td>\n",
       "      <td>1</td>\n",
       "      <td>2020</td>\n",
       "      <td>0</td>\n",
       "      <td>0</td>\n",
       "      <td>Italy</td>\n",
       "      <td>IT</td>\n",
       "      <td>ITA</td>\n",
       "      <td>60431283.0</td>\n",
       "      <td>Europe</td>\n",
       "    </tr>\n",
       "    <tr>\n",
       "      <th>...</th>\n",
       "      <td>...</td>\n",
       "      <td>...</td>\n",
       "      <td>...</td>\n",
       "      <td>...</td>\n",
       "      <td>...</td>\n",
       "      <td>...</td>\n",
       "      <td>...</td>\n",
       "      <td>...</td>\n",
       "      <td>...</td>\n",
       "      <td>...</td>\n",
       "      <td>...</td>\n",
       "    </tr>\n",
       "    <tr>\n",
       "      <th>149</th>\n",
       "      <td>28/05/2020</td>\n",
       "      <td>28</td>\n",
       "      <td>5</td>\n",
       "      <td>2020</td>\n",
       "      <td>584</td>\n",
       "      <td>117</td>\n",
       "      <td>Italy</td>\n",
       "      <td>IT</td>\n",
       "      <td>ITA</td>\n",
       "      <td>60431283.0</td>\n",
       "      <td>Europe</td>\n",
       "    </tr>\n",
       "    <tr>\n",
       "      <th>150</th>\n",
       "      <td>29/05/2020</td>\n",
       "      <td>29</td>\n",
       "      <td>5</td>\n",
       "      <td>2020</td>\n",
       "      <td>593</td>\n",
       "      <td>70</td>\n",
       "      <td>Italy</td>\n",
       "      <td>IT</td>\n",
       "      <td>ITA</td>\n",
       "      <td>60431283.0</td>\n",
       "      <td>Europe</td>\n",
       "    </tr>\n",
       "    <tr>\n",
       "      <th>151</th>\n",
       "      <td>30/05/2020</td>\n",
       "      <td>30</td>\n",
       "      <td>5</td>\n",
       "      <td>2020</td>\n",
       "      <td>516</td>\n",
       "      <td>87</td>\n",
       "      <td>Italy</td>\n",
       "      <td>IT</td>\n",
       "      <td>ITA</td>\n",
       "      <td>60431283.0</td>\n",
       "      <td>Europe</td>\n",
       "    </tr>\n",
       "    <tr>\n",
       "      <th>152</th>\n",
       "      <td>31/05/2020</td>\n",
       "      <td>31</td>\n",
       "      <td>5</td>\n",
       "      <td>2020</td>\n",
       "      <td>416</td>\n",
       "      <td>111</td>\n",
       "      <td>Italy</td>\n",
       "      <td>IT</td>\n",
       "      <td>ITA</td>\n",
       "      <td>60431283.0</td>\n",
       "      <td>Europe</td>\n",
       "    </tr>\n",
       "    <tr>\n",
       "      <th>153</th>\n",
       "      <td>01/06/2020</td>\n",
       "      <td>1</td>\n",
       "      <td>6</td>\n",
       "      <td>2020</td>\n",
       "      <td>355</td>\n",
       "      <td>75</td>\n",
       "      <td>Italy</td>\n",
       "      <td>IT</td>\n",
       "      <td>ITA</td>\n",
       "      <td>60431283.0</td>\n",
       "      <td>Europe</td>\n",
       "    </tr>\n",
       "  </tbody>\n",
       "</table>\n",
       "<p>154 rows × 11 columns</p>\n",
       "</div>"
      ],
      "text/plain": [
       "        dateRep  day  month  year  cases  deaths country geoId  \\\n",
       "0    31/12/2019   31     12  2019      0       0   Italy    IT   \n",
       "1    01/01/2020    1      1  2020      0       0   Italy    IT   \n",
       "2    02/01/2020    2      1  2020      0       0   Italy    IT   \n",
       "3    03/01/2020    3      1  2020      0       0   Italy    IT   \n",
       "4    04/01/2020    4      1  2020      0       0   Italy    IT   \n",
       "..          ...  ...    ...   ...    ...     ...     ...   ...   \n",
       "149  28/05/2020   28      5  2020    584     117   Italy    IT   \n",
       "150  29/05/2020   29      5  2020    593      70   Italy    IT   \n",
       "151  30/05/2020   30      5  2020    516      87   Italy    IT   \n",
       "152  31/05/2020   31      5  2020    416     111   Italy    IT   \n",
       "153  01/06/2020    1      6  2020    355      75   Italy    IT   \n",
       "\n",
       "    countryterritoryCode  popData2018 continentExp  \n",
       "0                    ITA   60431283.0       Europe  \n",
       "1                    ITA   60431283.0       Europe  \n",
       "2                    ITA   60431283.0       Europe  \n",
       "3                    ITA   60431283.0       Europe  \n",
       "4                    ITA   60431283.0       Europe  \n",
       "..                   ...          ...          ...  \n",
       "149                  ITA   60431283.0       Europe  \n",
       "150                  ITA   60431283.0       Europe  \n",
       "151                  ITA   60431283.0       Europe  \n",
       "152                  ITA   60431283.0       Europe  \n",
       "153                  ITA   60431283.0       Europe  \n",
       "\n",
       "[154 rows x 11 columns]"
      ]
     },
     "execution_count": 129,
     "metadata": {},
     "output_type": "execute_result"
    }
   ],
   "source": [
    "country = \"Italy\"\n",
    "countryData = worldData[worldData.country == country][::-1].reset_index(drop=True)\n",
    "countryData"
   ]
  },
  {
   "cell_type": "code",
   "execution_count": 123,
   "metadata": {
    "scrolled": false
   },
   "outputs": [],
   "source": [
    "def run_and_plot(country, outbreak_shift):\n",
    "    #deaths\n",
    "    if country == 'China': \n",
    "        countryData = pd.read_csv(\"Data/china_cases_severe_deaths_nhc.csv\", header = 0)\n",
    "        # rename the column header so that it is same as other data\n",
    "        countryData.rename(columns={'confirmed_ttl':'cases_ttl'}, inplace=True) \n",
    "        \n",
    "#     else: deaths = pd.read_csv(\"Data/world_cases_deaths_EUopendataportal.csv\", header = 0)\n",
    "    else:\n",
    "        worldData = pd.read_csv(\"https://opendata.ecdc.europa.eu/covid19/casedistribution/csv\", header = 0)\n",
    "        worldData.rename(columns={\"countriesAndTerritories\" : \"country\"}, inplace=True)\n",
    "        worldData.rename(columns={\"dateRep\" : \"date\"}, inplace=True)\n",
    "        worldData[\"country\"].replace({\"United_States_of_America\": \"US\"}, inplace=True)\n",
    "        worldData[\"country\"].replace({\"United_Kingdom\": \"UK\"}, inplace=True)\n",
    "        \n",
    "        countryData = worldData[worldData.country == country][::-1].reset_index(drop=True)\n",
    "        # create cumulative columns\n",
    "        countryData[\"cases_ttl\"] = np.cumsum(countryData[\"cases\"])\n",
    "        countryData[\"deaths_ttl\"] = np.cumsum(countryData[\"deaths\"])\n",
    "    \n",
    "    # find the case when equal or more than 100 infection cases detected\n",
    "    countryData = countryData.loc[countryData[\"cases_ttl\"].values>=100]\n",
    "    deathData = countryData[\"deaths_ttl\"].values\n",
    "\n",
    "    # agegroups\n",
    "    ages = pd.read_csv(\"Data/agegroups_UNdata.csv\")\n",
    "    agegroups = ages[ages.country_area == country].values[0][2:]\n",
    "    N = sum(agegroups) #ttl pop\n",
    "\n",
    "    # beds\n",
    "    beds = pd.read_csv(\"Data/beds_UNdata.csv\", header=0)\n",
    "    beds = beds[['country_area','beds']]\n",
    "    beds = beds.rename(columns={\"country_area\": \"Country\", \"beds\": \"ICU_Beds\"})\n",
    "    beds_lookup = dict(zip(beds[\"Country\"], beds[\"ICU_Beds\"]))\n",
    "    beds_per_10k = beds_lookup[country]\n",
    "\n",
    "    #create outbreak shift\n",
    "    days = outbreak_shift + len(deathData)\n",
    "    if outbreak_shift >= 0:y_data = np.concatenate((np.zeros(outbreak_shift), deathData))\n",
    "    else: y_data = deathData[-outbreak_shift:]\n",
    "\n",
    "    x_data = np.linspace(0, days - 1, days, dtype=int)  # x_data is just [0, 1, ..., max_days] array\n",
    "    \n",
    "    # fit model to deaths\n",
    "#     def fitter(x, R_0_start, k, x0, R_0_end, p_L_to_R, p_I_to_C, p_C_to_D, s):\n",
    "#         ret = Model(days, agegroups, beds_per_10k, R_0_start, k, x0, R_0_end, p_L_to_R, p_I_to_C, p_C_to_D, s)\n",
    "#         return ret[7][x]\n",
    "    def fitter(x, alpha, b, r_s, p_L_to_R, p_I_to_C, p_C_to_D, s):\n",
    "        ret = Model(days, agegroups, beds_per_10k, alpha, b, r_s, p_L_to_R, p_I_to_C, p_C_to_D, s)\n",
    "        return ret[7][x]\n",
    "    mod = lmfit.Model(fitter)\n",
    "    for kwarg, (init, mini, maxi) in params_init_min_max.items():\n",
    "        mod.set_param_hint(str(kwarg), value=init, min=mini, max=maxi, vary=True)\n",
    "    params = mod.make_params()\n",
    "    fit_method = \"leastsq\"\n",
    "    result = mod.fit(y_data, params, method=\"least_squares\", x=x_data)\n",
    "    print(result.best_values)\n",
    "    print(np.mean(result.residual **2))\n",
    "    \n",
    "    # forward predict\n",
    "    dates = countryData[\"date\"].values\n",
    "    first_date = dates[0]\n",
    "    full_days = len(y_data) + 30\n",
    "    x_ticks = pd.date_range(start=first_date, periods=full_days, freq=\"D\")\n",
    "    predict_range = full_days - len(y_data)\n",
    "    forecast = Model(full_days, agegroups, beds_per_10k, **result.best_values)\n",
    "    death_projection = forecast[7]\n",
    "    \n",
    "    fig, ax = plt.subplots()\n",
    "    ax.plot(x_data, y_data, label=\"Data\")\n",
    "    ax.plot(x_data, death_projection[:len(y_data)], color=\"orange\", label=\"Model fit\")\n",
    "    ax.plot(np.arange(x_data[-1],x_data[-1]+predict_range), death_projection[len(y_data):], \n",
    "         \"--\", color=\"orange\", label=\"Model Prediction\")\n",
    "    label_idx = np.arange(0, len(x_ticks), 15)\n",
    "    labels = x_ticks[label_idx].strftime(\"%m/%d\")\n",
    "    location = np.arange(0, len(death_projection))\n",
    "    label_location = location[label_idx]; ax.set_xticks(label_location)\n",
    "    ax.set_xticklabels(labels, rotation=45); ax.set_ylabel(\"Deaths\")\n",
    "    ax.set_title(country) ;ax.legend() ;fig.autofmt_xdate(); plt.show()\n",
    "\n",
    "#     # plot \n",
    "#     full_days = 500 ## let's predict full 200 days\n",
    "#     x_ticks = pd.date_range(start=first_date, periods=full_days, freq=\"D\")\n",
    "#     print(\"Prediction for \" + country)\n",
    "#     plotter(*Model(full_days, agegroups, beds_per_10k, **result.best_values), x_ticks=x_ticks);"
   ]
  },
  {
   "cell_type": "markdown",
   "metadata": {},
   "source": [
    "## United States"
   ]
  },
  {
   "cell_type": "code",
   "execution_count": 115,
   "metadata": {},
   "outputs": [
    {
     "name": "stdout",
     "output_type": "stream",
     "text": [
      "{'alpha': 1.1610865315759482, 'b': 19.021176133285895, 'r_s': 9.999999486629214, 'p_L_to_R': 4.5475015862527905e-09, 'p_I_to_C': 0.017934483544365075, 'p_C_to_D': 0.7999999828329537, 's': 0.003}\n",
      "585997.7331830105\n"
     ]
    },
    {
     "data": {
      "image/png": "[encoded data removed]",
      "text/plain": [
       "<Figure size 432x288 with 1 Axes>"
      ]
     },
     "metadata": {
      "needs_background": "light"
     },
     "output_type": "display_data"
    }
   ],
   "source": [
    "run_and_plot(\"US\", 0)"
   ]
  },
  {
   "cell_type": "markdown",
   "metadata": {},
   "source": [
    "## China"
   ]
  },
  {
   "cell_type": "code",
   "execution_count": 116,
   "metadata": {},
   "outputs": [
    {
     "name": "stdout",
     "output_type": "stream",
     "text": [
      "{'alpha': 1.2067968058741276, 'b': 12.253908528553358, 'r_s': 9.999999937131898, 'p_L_to_R': 8.420976592386265e-09, 'p_I_to_C': 0.09999999999999999, 'p_C_to_D': 0.7999999998744722, 's': 0.003}\n",
      "529228.0897142214\n"
     ]
    },
    {
     "data": {
      "image/png": "[encoded data removed]",
      "text/plain": [
       "<Figure size 432x288 with 1 Axes>"
      ]
     },
     "metadata": {
      "needs_background": "light"
     },
     "output_type": "display_data"
    }
   ],
   "source": [
    "run_and_plot(\"China\", 0)"
   ]
  },
  {
   "cell_type": "markdown",
   "metadata": {},
   "source": [
    "## Brazil"
   ]
  },
  {
   "cell_type": "code",
   "execution_count": 117,
   "metadata": {},
   "outputs": [
    {
     "name": "stdout",
     "output_type": "stream",
     "text": [
      "{'alpha': 5.699977135946738, 'b': 3.087202387139641, 'r_s': 9.52938321562177, 'p_L_to_R': 8.42957430497834e-18, 'p_I_to_C': 0.09997589044510799, 'p_C_to_D': 0.7999999907681551, 's': 0.003}\n",
      "105409.72010116206\n"
     ]
    },
    {
     "data": {
      "image/png": "[encoded data removed]",
      "text/plain": [
       "<Figure size 432x288 with 1 Axes>"
      ]
     },
     "metadata": {
      "needs_background": "light"
     },
     "output_type": "display_data"
    }
   ],
   "source": [
    "run_and_plot(\"Brazil\", 0)"
   ]
  },
  {
   "cell_type": "markdown",
   "metadata": {},
   "source": [
    "## India"
   ]
  },
  {
   "cell_type": "code",
   "execution_count": 118,
   "metadata": {},
   "outputs": [
    {
     "name": "stdout",
     "output_type": "stream",
     "text": [
      "{'alpha': 5.042667093929421, 'b': 2.8961107712666716, 'r_s': 9.999994646651823, 'p_L_to_R': 2.1090985299546636e-06, 'p_I_to_C': 0.09999999987214268, 'p_C_to_D': 0.7999999999259204, 's': 0.003}\n",
      "7193.682013086762\n"
     ]
    },
    {
     "data": {
      "image/png": "[encoded data removed]",
      "text/plain": [
       "<Figure size 432x288 with 1 Axes>"
      ]
     },
     "metadata": {
      "needs_background": "light"
     },
     "output_type": "display_data"
    }
   ],
   "source": [
    "run_and_plot(\"India\", 0)"
   ]
  },
  {
   "cell_type": "markdown",
   "metadata": {},
   "source": [
    "## Germany"
   ]
  },
  {
   "cell_type": "code",
   "execution_count": 119,
   "metadata": {},
   "outputs": [
    {
     "name": "stdout",
     "output_type": "stream",
     "text": [
      "{'alpha': 0.6769939548355048, 'b': 20.147865632273177, 'r_s': 9.999991313758608, 'p_L_to_R': 4.3613872542323235e-08, 'p_I_to_C': 0.09999999969339057, 'p_C_to_D': 0.7999952870195096, 's': 0.003}\n",
      "9028.965068015554\n"
     ]
    },
    {
     "data": {
      "image/png": "[encoded data removed]",
      "text/plain": [
       "<Figure size 432x288 with 1 Axes>"
      ]
     },
     "metadata": {
      "needs_background": "light"
     },
     "output_type": "display_data"
    }
   ],
   "source": [
    "run_and_plot(\"Germany\", 0)"
   ]
  },
  {
   "cell_type": "markdown",
   "metadata": {},
   "source": [
    "## Italy"
   ]
  },
  {
   "cell_type": "code",
   "execution_count": 120,
   "metadata": {},
   "outputs": [
    {
     "name": "stdout",
     "output_type": "stream",
     "text": [
      "{'alpha': 1.2666867827631183, 'b': 14.419534425832087, 'r_s': 9.999999997706245, 'p_L_to_R': 3.4534781115979165e-09, 'p_I_to_C': 0.09999999999999999, 'p_C_to_D': 0.7999999999999757, 's': 0.003977917414476813}\n",
      "5534658.725077873\n"
     ]
    },
    {
     "data": {
      "image/png": "[encoded data removed]",
      "text/plain": [
       "<Figure size 432x288 with 1 Axes>"
      ]
     },
     "metadata": {
      "needs_background": "light"
     },
     "output_type": "display_data"
    }
   ],
   "source": [
    "run_and_plot(\"Italy\", 0)"
   ]
  },
  {
   "cell_type": "markdown",
   "metadata": {},
   "source": [
    "## Spain"
   ]
  },
  {
   "cell_type": "code",
   "execution_count": 121,
   "metadata": {},
   "outputs": [
    {
     "name": "stdout",
     "output_type": "stream",
     "text": [
      "{'alpha': 1.283659975780149, 'b': 14.210141350389529, 'r_s': 9.999999997754111, 'p_L_to_R': 1.7794286071630068e-09, 'p_I_to_C': 0.09999999999999999, 'p_C_to_D': 0.7999999999996842, 's': 0.005777400410701614}\n",
      "12934219.829153543\n"
     ]
    },
    {
     "data": {
      "image/png": "[encoded data removed]",
      "text/plain": [
       "<Figure size 432x288 with 1 Axes>"
      ]
     },
     "metadata": {
      "needs_background": "light"
     },
     "output_type": "display_data"
    }
   ],
   "source": [
    "run_and_plot(\"Spain\", 0)"
   ]
  },
  {
   "cell_type": "markdown",
   "metadata": {},
   "source": [
    "## United Kingdom"
   ]
  },
  {
   "cell_type": "code",
   "execution_count": 124,
   "metadata": {},
   "outputs": [
    {
     "name": "stdout",
     "output_type": "stream",
     "text": [
      "{'alpha': 1.2822423463966157, 'b': 14.502044760114272, 'r_s': 9.99999999963139, 'p_L_to_R': 6.346913803123641e-12, 'p_I_to_C': 0.09999999999999999, 'p_C_to_D': 0.7999999999999998, 's': 0.00404760356180787}\n",
      "1903130.1146972673\n"
     ]
    },
    {
     "data": {
      "image/png": "[encoded data removed]",
      "text/plain": [
       "<Figure size 432x288 with 1 Axes>"
      ]
     },
     "metadata": {
      "needs_background": "light"
     },
     "output_type": "display_data"
    }
   ],
   "source": [
    "run_and_plot(\"UK\", 0)"
   ]
  },
  {
   "cell_type": "markdown",
   "metadata": {},
   "source": [
    "## France"
   ]
  },
  {
   "cell_type": "code",
   "execution_count": 125,
   "metadata": {},
   "outputs": [
    {
     "name": "stdout",
     "output_type": "stream",
     "text": [
      "{'alpha': 1.1667294895867253, 'b': 15.206798783717034, 'r_s': 9.999999989430592, 'p_L_to_R': 1.974040869684269e-11, 'p_I_to_C': 0.09999999999999999, 'p_C_to_D': 0.7999999999999939, 's': 0.003}\n",
      "3814433.7646824718\n"
     ]
    },
    {
     "data": {
      "image/png": "[encoded data removed]",
      "text/plain": [
       "<Figure size 432x288 with 1 Axes>"
      ]
     },
     "metadata": {
      "needs_background": "light"
     },
     "output_type": "display_data"
    }
   ],
   "source": [
    "run_and_plot(\"France\", 0)"
   ]
  },
  {
   "cell_type": "markdown",
   "metadata": {},
   "source": [
    "## Canada"
   ]
  },
  {
   "cell_type": "code",
   "execution_count": 126,
   "metadata": {},
   "outputs": [
    {
     "name": "stdout",
     "output_type": "stream",
     "text": [
      "{'alpha': 1.3577169932929254, 'b': 12.631422227187173, 'r_s': 8.211062601738675, 'p_L_to_R': 0.799998315456165, 'p_I_to_C': 0.09999994296764327, 'p_C_to_D': 0.7999440304176756, 's': 0.003}\n",
      "2822.410360216714\n"
     ]
    },
    {
     "data": {
      "image/png": "[encoded data removed]",
      "text/plain": [
       "<Figure size 432x288 with 1 Axes>"
      ]
     },
     "metadata": {
      "needs_background": "light"
     },
     "output_type": "display_data"
    }
   ],
   "source": [
    "run_and_plot(\"Canada\", 0)"
   ]
  },
  {
   "cell_type": "markdown",
   "metadata": {},
   "source": [
    "## Netherlands"
   ]
  },
  {
   "cell_type": "code",
   "execution_count": 127,
   "metadata": {},
   "outputs": [
    {
     "name": "stdout",
     "output_type": "stream",
     "text": [
      "{'alpha': 1.199593786135302, 'b': 12.910209502998088, 'r_s': 9.999999952789661, 'p_L_to_R': 4.9303825437569476e-11, 'p_I_to_C': 0.09999999999999999, 'p_C_to_D': 0.7999999999999999, 's': 0.003}\n",
      "313482.3998511483\n"
     ]
    },
    {
     "data": {
      "image/png": "[encoded data removed]",
      "text/plain": [
       "<Figure size 432x288 with 1 Axes>"
      ]
     },
     "metadata": {
      "needs_background": "light"
     },
     "output_type": "display_data"
    }
   ],
   "source": [
    "run_and_plot(\"Netherlands\", 0)"
   ]
  },
  {
   "cell_type": "markdown",
   "metadata": {},
   "source": [
    "## Use Johns Hopkins Global Data "
   ]
  },
  {
   "cell_type": "code",
   "execution_count": 249,
   "metadata": {},
   "outputs": [
    {
     "data": {
      "text/plain": [
       "{'Afghanistan',\n",
       " 'Albania',\n",
       " 'Algeria',\n",
       " 'Andorra',\n",
       " 'Angola',\n",
       " 'Antigua and Barbuda',\n",
       " 'Argentina',\n",
       " 'Armenia',\n",
       " 'Australia',\n",
       " 'Austria',\n",
       " 'Azerbaijan',\n",
       " 'Bahamas',\n",
       " 'Bahrain',\n",
       " 'Bangladesh',\n",
       " 'Barbados',\n",
       " 'Belarus',\n",
       " 'Belgium',\n",
       " 'Belize',\n",
       " 'Benin',\n",
       " 'Bhutan',\n",
       " 'Bolivia',\n",
       " 'Bosnia and Herzegovina',\n",
       " 'Botswana',\n",
       " 'Brazil',\n",
       " 'Brunei',\n",
       " 'Bulgaria',\n",
       " 'Burkina Faso',\n",
       " 'Burma',\n",
       " 'Burundi',\n",
       " 'Cabo Verde',\n",
       " 'Cambodia',\n",
       " 'Cameroon',\n",
       " 'Canada',\n",
       " 'Central African Republic',\n",
       " 'Chad',\n",
       " 'Chile',\n",
       " 'China',\n",
       " 'Colombia',\n",
       " 'Comoros',\n",
       " 'Congo (Brazzaville)',\n",
       " 'Congo (Kinshasa)',\n",
       " 'Costa Rica',\n",
       " \"Cote d'Ivoire\",\n",
       " 'Croatia',\n",
       " 'Cuba',\n",
       " 'Cyprus',\n",
       " 'Czechia',\n",
       " 'Denmark',\n",
       " 'Diamond Princess',\n",
       " 'Djibouti',\n",
       " 'Dominica',\n",
       " 'Dominican Republic',\n",
       " 'Ecuador',\n",
       " 'Egypt',\n",
       " 'El Salvador',\n",
       " 'Equatorial Guinea',\n",
       " 'Eritrea',\n",
       " 'Estonia',\n",
       " 'Eswatini',\n",
       " 'Ethiopia',\n",
       " 'Fiji',\n",
       " 'Finland',\n",
       " 'France',\n",
       " 'Gabon',\n",
       " 'Gambia',\n",
       " 'Georgia',\n",
       " 'Germany',\n",
       " 'Ghana',\n",
       " 'Greece',\n",
       " 'Grenada',\n",
       " 'Guatemala',\n",
       " 'Guinea',\n",
       " 'Guinea-Bissau',\n",
       " 'Guyana',\n",
       " 'Haiti',\n",
       " 'Holy See',\n",
       " 'Honduras',\n",
       " 'Hungary',\n",
       " 'Iceland',\n",
       " 'India',\n",
       " 'Indonesia',\n",
       " 'Iran',\n",
       " 'Iraq',\n",
       " 'Ireland',\n",
       " 'Israel',\n",
       " 'Italy',\n",
       " 'Jamaica',\n",
       " 'Japan',\n",
       " 'Jordan',\n",
       " 'Kazakhstan',\n",
       " 'Kenya',\n",
       " 'Korea, South',\n",
       " 'Kosovo',\n",
       " 'Kuwait',\n",
       " 'Kyrgyzstan',\n",
       " 'Laos',\n",
       " 'Latvia',\n",
       " 'Lebanon',\n",
       " 'Lesotho',\n",
       " 'Liberia',\n",
       " 'Libya',\n",
       " 'Liechtenstein',\n",
       " 'Lithuania',\n",
       " 'Luxembourg',\n",
       " 'MS Zaandam',\n",
       " 'Madagascar',\n",
       " 'Malawi',\n",
       " 'Malaysia',\n",
       " 'Maldives',\n",
       " 'Mali',\n",
       " 'Malta',\n",
       " 'Mauritania',\n",
       " 'Mauritius',\n",
       " 'Mexico',\n",
       " 'Moldova',\n",
       " 'Monaco',\n",
       " 'Mongolia',\n",
       " 'Montenegro',\n",
       " 'Morocco',\n",
       " 'Mozambique',\n",
       " 'Namibia',\n",
       " 'Nepal',\n",
       " 'Netherlands',\n",
       " 'New Zealand',\n",
       " 'Nicaragua',\n",
       " 'Niger',\n",
       " 'Nigeria',\n",
       " 'North Macedonia',\n",
       " 'Norway',\n",
       " 'Oman',\n",
       " 'Pakistan',\n",
       " 'Panama',\n",
       " 'Papua New Guinea',\n",
       " 'Paraguay',\n",
       " 'Peru',\n",
       " 'Philippines',\n",
       " 'Poland',\n",
       " 'Portugal',\n",
       " 'Qatar',\n",
       " 'Romania',\n",
       " 'Russia',\n",
       " 'Rwanda',\n",
       " 'Saint Kitts and Nevis',\n",
       " 'Saint Lucia',\n",
       " 'Saint Vincent and the Grenadines',\n",
       " 'San Marino',\n",
       " 'Sao Tome and Principe',\n",
       " 'Saudi Arabia',\n",
       " 'Senegal',\n",
       " 'Serbia',\n",
       " 'Seychelles',\n",
       " 'Sierra Leone',\n",
       " 'Singapore',\n",
       " 'Slovakia',\n",
       " 'Slovenia',\n",
       " 'Somalia',\n",
       " 'South Africa',\n",
       " 'South Sudan',\n",
       " 'Spain',\n",
       " 'Sri Lanka',\n",
       " 'Sudan',\n",
       " 'Suriname',\n",
       " 'Sweden',\n",
       " 'Switzerland',\n",
       " 'Syria',\n",
       " 'Taiwan*',\n",
       " 'Tajikistan',\n",
       " 'Tanzania',\n",
       " 'Thailand',\n",
       " 'Timor-Leste',\n",
       " 'Togo',\n",
       " 'Trinidad and Tobago',\n",
       " 'Tunisia',\n",
       " 'Turkey',\n",
       " 'US',\n",
       " 'Uganda',\n",
       " 'Ukraine',\n",
       " 'United Arab Emirates',\n",
       " 'United Kingdom',\n",
       " 'Uruguay',\n",
       " 'Uzbekistan',\n",
       " 'Venezuela',\n",
       " 'Vietnam',\n",
       " 'West Bank and Gaza',\n",
       " 'Western Sahara',\n",
       " 'Yemen',\n",
       " 'Zambia',\n",
       " 'Zimbabwe'}"
      ]
     },
     "execution_count": 249,
     "metadata": {},
     "output_type": "execute_result"
    }
   ],
   "source": [
    "set(confirmed_df[\"country\"])"
   ]
  },
  {
   "cell_type": "code",
   "execution_count": 338,
   "metadata": {},
   "outputs": [],
   "source": [
    "def run_and_predict(country, outbreak_shift):\n",
    "\n",
    "    # Use Johns Hopkins github data\n",
    "    confirmed_df = pd.read_csv('csse_covid_19_data/csse_covid_19_time_series/time_series_covid19_confirmed_global.csv')\n",
    "    deaths_df = pd.read_csv('csse_covid_19_data/csse_covid_19_time_series/time_series_covid19_deaths_global.csv')\n",
    "    recoveries_df = pd.read_csv('csse_covid_19_data/csse_covid_19_time_series/time_series_covid19_recovered_global.csv')\n",
    "\n",
    "    confirmed_df.rename(columns={\"Country/Region\" : \"country\"}, inplace=True)\n",
    "    deaths_df.rename(columns={\"Country/Region\" : \"country\"}, inplace=True)\n",
    "    recoveries_df.rename(columns={\"Country/Region\" : \"country\"}, inplace=True)\n",
    "\n",
    "    confirmed_df[\"country\"].replace({\"United Kingdom\": \"UK\"}, inplace=True)\n",
    "    deaths_df[\"country\"].replace({\"United Kingdom\": \"UK\"}, inplace=True)\n",
    "    recoveries_df.rename(columns={\"Country/Region\" : \"country\"}, inplace=True)\n",
    "    \n",
    "    confirmed_df[\"country\"].replace({\"Korea, South\": \"South Korea\"}, inplace=True)\n",
    "    deaths_df[\"country\"].replace({\"Korea, South\": \"South Korea\"}, inplace=True)\n",
    "    recoveries_df.rename(columns={\"Korea, South\" : \"South Korea\"}, inplace=True)\n",
    "    \n",
    "    \n",
    "    # cols = confirmed_df.keys() gives\n",
    "    # 'Province/State', 'Country/Region', 'Lat', 'Long', '1/22/20', '1/23/20' ... etc\n",
    "    cols = confirmed_df.keys()\n",
    "\n",
    "    confirmed = confirmed_df.loc[:, cols[4]:cols[-1]]\n",
    "    deaths = deaths_df.loc[:, cols[4]:cols[-1]]\n",
    "    recoveries = recoveries_df.loc[:, cols[4]:cols[-1]]\n",
    "\n",
    "    dates = confirmed.keys()\n",
    "\n",
    "    countryConfirmed = [] \n",
    "    countryDeaths = []\n",
    "    countryRecovery = []\n",
    "\n",
    "    for i in dates:\n",
    "        # case studies \n",
    "        countryConfirmed.append(confirmed_df[confirmed_df['country']== country ][i].sum())\n",
    "\n",
    "        countryDeaths.append(deaths_df[deaths_df['country']==country][i].sum())\n",
    "\n",
    "        countryRecovery.append(recoveries_df[recoveries_df['country']==country][i].sum())\n",
    "\n",
    "    countryConfirmed = np.array(countryConfirmed)\n",
    "    countryDeaths = np.array(countryDeaths)\n",
    "    countryRecovery = np.array(countryRecovery)\n",
    "\n",
    "\n",
    "    # find the case when equal or more than 100 infection cases detected\n",
    "    idx = np.where(countryConfirmed>=100)\n",
    "    deathData = countryDeaths[idx]\n",
    "\n",
    "    # agegroups\n",
    "    ages = pd.read_csv(\"Data/agegroups_UNdata.csv\")\n",
    "    agegroups = ages[ages.country_area == country].values[0][2:]\n",
    "    N = sum(agegroups) #ttl pop\n",
    "\n",
    "    # beds\n",
    "    beds = pd.read_csv(\"Data/beds_UNdata.csv\", header=0)\n",
    "    beds = beds[['country_area','beds']]\n",
    "    beds = beds.rename(columns={\"country_area\": \"Country\", \"beds\": \"ICU_Beds\"})\n",
    "    beds_lookup = dict(zip(beds[\"Country\"], beds[\"ICU_Beds\"]))\n",
    "    beds_per_10k = beds_lookup[country]\n",
    "\n",
    "    #create outbreak shift\n",
    "    days = outbreak_shift + len(deathData)\n",
    "    if outbreak_shift >= 0:y_data = np.concatenate((np.zeros(outbreak_shift), deathData))\n",
    "    else: y_data = deathData[-outbreak_shift:]\n",
    "\n",
    "    x_data = np.linspace(0, days - 1, days, dtype=int)  # x_data is just [0, 1, ..., max_days] array\n",
    "    \n",
    "    # fit model to deaths\n",
    "#     def fitter(x, R_0_start, k, x0, R_0_end, p_L_to_R, p_I_to_C, p_C_to_D, s):\n",
    "#         ret = Model(days, agegroups, beds_per_10k, R_0_start, k, x0, R_0_end, p_L_to_R, p_I_to_C, p_C_to_D, s)\n",
    "#         return ret[7][x]\n",
    "    def fitter(x, alpha, b, r_s, p_L_to_R, p_I_to_C, p_C_to_D, s):\n",
    "        ret = Model(days, agegroups, beds_per_10k, alpha, b, r_s, p_L_to_R, p_I_to_C, p_C_to_D, s)\n",
    "        return ret[7][x]\n",
    "    mod = lmfit.Model(fitter)\n",
    "    for kwarg, (init, mini, maxi) in params_init_min_max.items():\n",
    "        mod.set_param_hint(str(kwarg), value=init, min=mini, max=maxi, vary=True)\n",
    "    params = mod.make_params()\n",
    "    fit_method = \"leastsq\"\n",
    "    result = mod.fit(y_data, params, method=\"least_squares\", x=x_data)\n",
    "#     print(result.best_values)\n",
    "    print(np.mean(result.residual **2))\n",
    "    \n",
    "    # forward predict\n",
    "#     dates = countryData[\"date\"].values\n",
    "\n",
    "    first_date = dates[idx][0]\n",
    "    full_days = len(y_data) + 30\n",
    "    x_ticks = pd.date_range(start=first_date, periods=full_days, freq=\"D\")\n",
    "    predict_range = full_days - len(y_data)\n",
    "    forecast = Model(full_days, agegroups, beds_per_10k, **result.best_values)\n",
    "    death_projection = forecast[7]\n",
    "      \n",
    "    return x_data, y_data, death_projection, predict_range, x_ticks, result.best_values, result"
   ]
  },
  {
   "cell_type": "code",
   "execution_count": 376,
   "metadata": {},
   "outputs": [
    {
     "name": "stdout",
     "output_type": "stream",
     "text": [
      "248298.04986533738\n",
      "236205.7731515836\n",
      "91838.32802358839\n",
      "6405.228843031668\n",
      "6485.538165726187\n",
      "24862.788623296252\n",
      "404895.81981824804\n",
      "35900.58488748132\n",
      "202943.41142489717\n",
      "2640.410056660165\n",
      "1797.0669684500622\n",
      "79.47746292907506\n"
     ]
    },
    {
     "data": {
      "image/png": "[encoded data removed]",
      "text/plain": [
       "<Figure size 1080x576 with 12 Axes>"
      ]
     },
     "metadata": {
      "needs_background": "light"
     },
     "output_type": "display_data"
    }
   ],
   "source": [
    "countries = [\"US\", \"China\", \"Brazil\", \"India\", \"Germany\", \"Italy\", \"Spain\", \"UK\", \"France\", \"Canada\", \"Netherlands\", \"South Korea\"]\n",
    "\n",
    "params_init_min_max = {\"p_L_to_R\": (0.6, 0.0, 0.8),\n",
    "                       \"alpha\": (0.3, 0.1, 5.7), \n",
    "                       \"b\": (20, 0, 40), \"r_s\": (1, 0.1, 60),\n",
    "                       \"p_I_to_C\": (0.05, 0.001, 0.1), \"p_C_to_D\": (0.5, 0.005, 0.8),\n",
    "                       \"s\": (0.003, 0.001, 0.01)}  # form: {parameter: (initial guess, minimum value, max value)}\n",
    "\n",
    "fig, axs = plt.subplots(3,4, figsize=(15, 8), constrained_layout=True)\n",
    "axs = axs.ravel()\n",
    "\n",
    "country_param_dict = {}\n",
    "country_death_prediction = {}\n",
    "country_models = {}\n",
    "country_dates = {}\n",
    "\n",
    "for i,country in enumerate(countries):\n",
    "    x_data, y_data, death_projection, predict_range, x_ticks, best_param, country_model  = run_and_predict(country, 0)\n",
    "    \n",
    "    country_param_dict[country] = best_param\n",
    "    country_death_prediction[country] = (x_data, death_projection)\n",
    "    country_models[country] = country_model\n",
    "    country_dates[country] = x_ticks\n",
    "    \n",
    "    axs[i].plot(x_data, y_data, label=\"Data\")\n",
    "    axs[i].plot(x_data, death_projection[:len(y_data)], color=\"orange\", label=\"Model fit\")\n",
    "    axs[i].plot(np.arange(x_data[-1],x_data[-1]+predict_range), death_projection[len(y_data):], \n",
    "         \"--\", color=\"orange\", label=\"Model Prediction\")\n",
    "    \n",
    "    label_idx = np.arange(0, len(x_ticks), 15)\n",
    "    labels = x_ticks[label_idx].strftime(\"%m/%d\")\n",
    "    location = np.arange(0, len(death_projection))\n",
    "    label_location = location[label_idx]; axs[i].set_xticks(label_location)\n",
    "    axs[i].set_xticklabels(labels, rotation=45); axs[i].set_ylabel(\"Deaths\")\n",
    "    axs[i].set_title(country) ;axs[i].legend() ; #fig.autofmt_xdate(); \n",
    "\n",
    "plt.show()"
   ]
  },
  {
   "cell_type": "code",
   "execution_count": 389,
   "metadata": {},
   "outputs": [
    {
     "data": {
      "text/plain": [
       "DatetimeIndex(['2020-01-22', '2020-01-23', '2020-01-24', '2020-01-25',\n",
       "               '2020-01-26', '2020-01-27', '2020-01-28', '2020-01-29',\n",
       "               '2020-01-30', '2020-01-31',\n",
       "               ...\n",
       "               '2020-06-21', '2020-06-22', '2020-06-23', '2020-06-24',\n",
       "               '2020-06-25', '2020-06-26', '2020-06-27', '2020-06-28',\n",
       "               '2020-06-29', '2020-06-30'],\n",
       "              dtype='datetime64[ns]', length=161, freq='D')"
      ]
     },
     "execution_count": 389,
     "metadata": {},
     "output_type": "execute_result"
    }
   ],
   "source": [
    "\n",
    "# countries = [\"US\", \"China\", \"Brazil\", \"India\", \"Germany\", \"Italy\", \"Spain\", \"UK\", \"France\", \"Canada\", \"Netherlands\", \"South Korea\"]\n",
    "country_dates[\"China\"]\n",
    "\n"
   ]
  },
  {
   "cell_type": "code",
   "execution_count": 392,
   "metadata": {},
   "outputs": [
    {
     "data": {
      "text/plain": [
       "161"
      ]
     },
     "execution_count": 392,
     "metadata": {},
     "output_type": "execute_result"
    }
   ],
   "source": [
    "country = \"China\"\n",
    "len(country_dates[country])"
   ]
  },
  {
   "cell_type": "code",
   "execution_count": 397,
   "metadata": {},
   "outputs": [
    {
     "name": "stdout",
     "output_type": "stream",
     "text": [
      "\n",
      "***********US***********\n",
      "+ 5301.191304918162\n",
      "- 5659.688221267154\n",
      "**************************\n",
      "\n",
      "***********China***********\n",
      "+ 284.99664162496737\n",
      "- 305.6072464378105\n",
      "**************************\n",
      "\n",
      "***********Brazil***********\n",
      "+ 1613.8796557772566\n",
      "- 1711.8756624783196\n",
      "**************************\n",
      "\n",
      "***********India***********\n",
      "+ 278.4883870961415\n",
      "- 295.683675950271\n",
      "**************************\n",
      "\n",
      "***********Germany***********\n",
      "+ 456.28560165218573\n",
      "- 487.7010954142036\n",
      "**************************\n",
      "\n",
      "***********Italy***********\n",
      "+ 1889.5178102271695\n",
      "- 2021.5663226892211\n",
      "**************************\n",
      "\n",
      "***********Spain***********\n",
      "+ 1694.9838730275121\n",
      "- 1813.0837075203017\n",
      "**************************\n",
      "\n",
      "***********UK***********\n",
      "+ 2055.6373168316013\n",
      "- 2196.229738409854\n",
      "**************************\n",
      "\n",
      "***********France***********\n",
      "+ 1623.4229537588412\n",
      "- 1736.000613562699\n",
      "**************************\n",
      "\n",
      "***********Canada***********\n",
      "+ 368.07984305570295\n",
      "- 392.49452479687676\n",
      "**************************\n",
      "\n",
      "***********Netherlands***********\n",
      "+ 348.1966969552658\n",
      "- 372.30319017129995\n",
      "**************************\n",
      "\n",
      "***********South Korea***********\n",
      "+ 16.763214354202823\n",
      "- 17.950717967993555\n",
      "**************************\n"
     ]
    }
   ],
   "source": [
    "import copy\n",
    "\n",
    "country_interval = {}\n",
    "\n",
    "for i,country in enumerate(countries):\n",
    "\n",
    "    country_param = country_param_dict[country]\n",
    "\n",
    "    # agegroups\n",
    "    ages = pd.read_csv(\"Data/agegroups_UNdata.csv\")\n",
    "    agegroups = ages[ages.country_area == country].values[0][2:]\n",
    "\n",
    "    # beds\n",
    "    beds = pd.read_csv(\"Data/beds_UNdata.csv\", header=0)\n",
    "    beds = beds[['country_area','beds']]\n",
    "    beds = beds.rename(columns={\"country_area\": \"Country\", \"beds\": \"ICU_Beds\"})\n",
    "    beds_lookup = dict(zip(beds[\"Country\"], beds[\"ICU_Beds\"]))\n",
    "    beds_per_10k = beds_lookup[country]\n",
    "\n",
    "    full_days = len(country_dates[country])\n",
    "    \n",
    "    forecast = Model(full_days, agegroups, beds_per_10k, **country_param)\n",
    "#     plt.plot(forecast[7], label=\"projection\")\n",
    "\n",
    "    upper_param = copy.deepcopy(country_param)\n",
    "    upper_param[\"p_C_to_D\"] = upper_param[\"p_C_to_D\"] + 0.1\n",
    "    upper_forecast = Model(full_days, agegroups, beds_per_10k, **upper_param)\n",
    "#     plt.plot(upper_forecast[7], label=\"upper\")\n",
    "\n",
    "    lower_param = copy.deepcopy(country_param)\n",
    "    lower_param[\"p_C_to_D\"] = lower_param[\"p_C_to_D\"] - 0.1\n",
    "    lower_forecast = Model(full_days, agegroups, beds_per_10k, **lower_param)\n",
    "#     plt.plot(lower_forecast[7], label=\"lower\")\n",
    "#     plt.legend()\n",
    "#     plt.show()\n",
    "    print(\"\\n***********\"+ country + \"***********\")\n",
    "    print(\"+\",np.mean(upper_forecast[7] - forecast[7]))\n",
    "    print(\"-\",np.mean(forecast[7] - lower_forecast[7]))\n",
    "    print(\"**************************\")\n",
    "\n",
    "    d = {\"dates\" : country_dates[country], \n",
    "         \"prediction\" :forecast[7],\n",
    "         \"+\" :upper_forecast[7] - forecast[7], \n",
    "         \"-\" :lower_forecast[7] - forecast[7]}\n",
    "\n",
    "    interval_df = pd.DataFrame(data=d)\n",
    "    country_interval[country] = copy.deepcopy(interval_df)\n",
    "    \n",
    "    country_interval[country].to_csv(country+\"projection\")\n",
    "    df.to_csv('file_name.csv')\n",
    "    "
   ]
  },
  {
   "cell_type": "code",
   "execution_count": 398,
   "metadata": {},
   "outputs": [
    {
     "data": {
      "text/html": [
       "<div>\n",
       "<style scoped>\n",
       "    .dataframe tbody tr th:only-of-type {\n",
       "        vertical-align: middle;\n",
       "    }\n",
       "\n",
       "    .dataframe tbody tr th {\n",
       "        vertical-align: top;\n",
       "    }\n",
       "\n",
       "    .dataframe thead th {\n",
       "        text-align: right;\n",
       "    }\n",
       "</style>\n",
       "<table border=\"1\" class=\"dataframe\">\n",
       "  <thead>\n",
       "    <tr style=\"text-align: right;\">\n",
       "      <th></th>\n",
       "      <th>dates</th>\n",
       "      <th>prediction</th>\n",
       "      <th>+</th>\n",
       "      <th>-</th>\n",
       "    </tr>\n",
       "  </thead>\n",
       "  <tbody>\n",
       "    <tr>\n",
       "      <th>0</th>\n",
       "      <td>2020-03-03</td>\n",
       "      <td>0.000000e+00</td>\n",
       "      <td>0.000000e+00</td>\n",
       "      <td>0.000000e+00</td>\n",
       "    </tr>\n",
       "    <tr>\n",
       "      <th>1</th>\n",
       "      <td>2020-03-04</td>\n",
       "      <td>5.858813e-07</td>\n",
       "      <td>7.267393e-08</td>\n",
       "      <td>-7.280897e-08</td>\n",
       "    </tr>\n",
       "    <tr>\n",
       "      <th>2</th>\n",
       "      <td>2020-03-05</td>\n",
       "      <td>8.925054e-06</td>\n",
       "      <td>1.098385e-06</td>\n",
       "      <td>-1.102345e-06</td>\n",
       "    </tr>\n",
       "    <tr>\n",
       "      <th>3</th>\n",
       "      <td>2020-03-06</td>\n",
       "      <td>4.814239e-05</td>\n",
       "      <td>5.885155e-06</td>\n",
       "      <td>-5.915085e-06</td>\n",
       "    </tr>\n",
       "    <tr>\n",
       "      <th>4</th>\n",
       "      <td>2020-03-07</td>\n",
       "      <td>1.810944e-04</td>\n",
       "      <td>2.202491e-05</td>\n",
       "      <td>-2.216167e-05</td>\n",
       "    </tr>\n",
       "    <tr>\n",
       "      <th>...</th>\n",
       "      <td>...</td>\n",
       "      <td>...</td>\n",
       "      <td>...</td>\n",
       "      <td>...</td>\n",
       "    </tr>\n",
       "    <tr>\n",
       "      <th>115</th>\n",
       "      <td>2020-06-26</td>\n",
       "      <td>1.162952e+05</td>\n",
       "      <td>9.955320e+03</td>\n",
       "      <td>-1.071057e+04</td>\n",
       "    </tr>\n",
       "    <tr>\n",
       "      <th>116</th>\n",
       "      <td>2020-06-27</td>\n",
       "      <td>1.165607e+05</td>\n",
       "      <td>9.972831e+03</td>\n",
       "      <td>-1.073020e+04</td>\n",
       "    </tr>\n",
       "    <tr>\n",
       "      <th>117</th>\n",
       "      <td>2020-06-28</td>\n",
       "      <td>1.168151e+05</td>\n",
       "      <td>9.989568e+03</td>\n",
       "      <td>-1.074897e+04</td>\n",
       "    </tr>\n",
       "    <tr>\n",
       "      <th>118</th>\n",
       "      <td>2020-06-29</td>\n",
       "      <td>1.170588e+05</td>\n",
       "      <td>1.000556e+04</td>\n",
       "      <td>-1.076691e+04</td>\n",
       "    </tr>\n",
       "    <tr>\n",
       "      <th>119</th>\n",
       "      <td>2020-06-30</td>\n",
       "      <td>1.172920e+05</td>\n",
       "      <td>1.002084e+04</td>\n",
       "      <td>-1.078406e+04</td>\n",
       "    </tr>\n",
       "  </tbody>\n",
       "</table>\n",
       "<p>120 rows × 4 columns</p>\n",
       "</div>"
      ],
      "text/plain": [
       "         dates    prediction             +             -\n",
       "0   2020-03-03  0.000000e+00  0.000000e+00  0.000000e+00\n",
       "1   2020-03-04  5.858813e-07  7.267393e-08 -7.280897e-08\n",
       "2   2020-03-05  8.925054e-06  1.098385e-06 -1.102345e-06\n",
       "3   2020-03-06  4.814239e-05  5.885155e-06 -5.915085e-06\n",
       "4   2020-03-07  1.810944e-04  2.202491e-05 -2.216167e-05\n",
       "..         ...           ...           ...           ...\n",
       "115 2020-06-26  1.162952e+05  9.955320e+03 -1.071057e+04\n",
       "116 2020-06-27  1.165607e+05  9.972831e+03 -1.073020e+04\n",
       "117 2020-06-28  1.168151e+05  9.989568e+03 -1.074897e+04\n",
       "118 2020-06-29  1.170588e+05  1.000556e+04 -1.076691e+04\n",
       "119 2020-06-30  1.172920e+05  1.002084e+04 -1.078406e+04\n",
       "\n",
       "[120 rows x 4 columns]"
      ]
     },
     "execution_count": 398,
     "metadata": {},
     "output_type": "execute_result"
    }
   ],
   "source": [
    "country_interval[\"US\"]"
   ]
  },
  {
   "cell_type": "code",
   "execution_count": 274,
   "metadata": {},
   "outputs": [
    {
     "data": {
      "text/plain": [
       "[<matplotlib.lines.Line2D at 0x7fea7c974dd8>]"
      ]
     },
     "execution_count": 274,
     "metadata": {},
     "output_type": "execute_result"
    },
    {
     "data": {
      "image/png": "[encoded data removed]",
      "text/plain": [
       "<Figure size 432x288 with 1 Axes>"
      ]
     },
     "metadata": {
      "needs_background": "light"
     },
     "output_type": "display_data"
    }
   ],
   "source": [
    "country = \"South Korea\"\n",
    "# Use Johns Hopkins github data\n",
    "confirmed_df = pd.read_csv('csse_covid_19_data/csse_covid_19_time_series/time_series_covid19_confirmed_global.csv')\n",
    "deaths_df = pd.read_csv('csse_covid_19_data/csse_covid_19_time_series/time_series_covid19_deaths_global.csv')\n",
    "recoveries_df = pd.read_csv('csse_covid_19_data/csse_covid_19_time_series/time_series_covid19_recovered_global.csv')\n",
    "\n",
    "confirmed_df.rename(columns={\"Country/Region\" : \"country\"}, inplace=True)\n",
    "deaths_df.rename(columns={\"Country/Region\" : \"country\"}, inplace=True)\n",
    "recoveries_df.rename(columns={\"Country/Region\" : \"country\"}, inplace=True)\n",
    "\n",
    "confirmed_df[\"country\"].replace({\"United Kingdom\": \"UK\"}, inplace=True)\n",
    "deaths_df[\"country\"].replace({\"United Kingdom\": \"UK\"}, inplace=True)\n",
    "recoveries_df.rename(columns={\"Country/Region\" : \"country\"}, inplace=True)\n",
    "\n",
    "confirmed_df[\"country\"].replace({\"Korea, South\": \"South Korea\"}, inplace=True)\n",
    "deaths_df[\"country\"].replace({\"Korea, South\": \"South Korea\"}, inplace=True)\n",
    "recoveries_df.rename(columns={\"Korea, South\" : \"South Korea\"}, inplace=True)\n",
    "\n",
    "\n",
    "# cols = confirmed_df.keys() gives\n",
    "# 'Province/State', 'Country/Region', 'Lat', 'Long', '1/22/20', '1/23/20' ... etc\n",
    "cols = confirmed_df.keys()\n",
    "\n",
    "confirmed = confirmed_df.loc[:, cols[4]:cols[-1]]\n",
    "deaths = deaths_df.loc[:, cols[4]:cols[-1]]\n",
    "recoveries = recoveries_df.loc[:, cols[4]:cols[-1]]\n",
    "\n",
    "dates = confirmed.keys()\n",
    "\n",
    "countryConfirmed = [] \n",
    "countryDeaths = []\n",
    "countryRecovery = []\n",
    "\n",
    "for i in dates:\n",
    "    # case studies \n",
    "    countryConfirmed.append(confirmed_df[confirmed_df['country']== country ][i].sum())\n",
    "\n",
    "    countryDeaths.append(deaths_df[deaths_df['country']==country][i].sum())\n",
    "\n",
    "    countryRecovery.append(recoveries_df[recoveries_df['country']==country][i].sum())\n",
    "\n",
    "countryConfirmed = np.array(countryConfirmed)\n",
    "countryDeaths = np.array(countryDeaths)\n",
    "countryRecovery = np.array(countryRecovery)\n",
    "\n",
    "\n",
    "# find the case when equal or more than 100 infection cases detected\n",
    "idx = np.where(countryConfirmed>=100)\n",
    "deathData = countryDeaths[idx]\n",
    "\n",
    "days = len(deathData)\n",
    "t = np.linspace(0, days-1, days)\n",
    "\n",
    "b = 5.276639391784356\n",
    "r_s = 59.99999980327082\n",
    "\n",
    "r0 = R0_t(t, b, r_s)\n",
    "\n",
    "plt.plot(t, r0)\n",
    "\n",
    "# def R0_t(t, b, r_s):\n",
    "#     return (2 / np.pi) * np.arctan(-(t - b) / 10 * r_s) + 1.0\n"
   ]
  },
  {
   "cell_type": "markdown",
   "metadata": {},
   "source": [
    "# Validation"
   ]
  },
  {
   "cell_type": "code",
   "execution_count": null,
   "metadata": {},
   "outputs": [],
   "source": [
    "from sklearn.model_selection import train_test_split\n",
    "\n",
    "def Validate(country):\n",
    "    outbreak_shift = 0\n",
    "    \n",
    "    if country == 'China': \n",
    "        deaths = pd.read_csv(\"Data/china_cases_severe_deaths_nhc.csv\", header = 0)\n",
    "        # rename the column header so that it is same as other data\n",
    "        deaths.rename(columns={'confirmed_ttl':'cases_ttl'}, inplace=True) \n",
    "        \n",
    "    else: deaths = pd.read_csv(\"Data/world_cases_deaths_EUopendataportal.csv\", header = 0)\n",
    "    \n",
    "    deaths = deaths[deaths.country == country]\n",
    "\n",
    "    # find the case when equal or more than 100 infection cases detected\n",
    "    deaths = deaths.loc[deaths[\"cases_ttl\"].values>=100]\n",
    "    data = deaths[\"deaths_ttl\"].values\n",
    "\n",
    "    # agegroups\n",
    "    ages = pd.read_csv(\"Data/agegroups_UNdata.csv\")\n",
    "    agegroups = ages[ages.country_area == country].values[0][2:]\n",
    "    N = sum(agegroups) #ttl pop\n",
    "\n",
    "    # beds\n",
    "    beds = pd.read_csv(\"Data/beds_UNdata.csv\", header=0)\n",
    "    beds = beds[['country_area','beds']]\n",
    "    beds = beds.rename(columns={\"country_area\": \"Country\", \"beds\": \"ICU_Beds\"})\n",
    "    beds_lookup = dict(zip(beds[\"Country\"], beds[\"ICU_Beds\"]))\n",
    "    beds_per_10k = beds_lookup[country]\n",
    "\n",
    "    #create outbreak shift\n",
    "    days = outbreak_shift + len(data)\n",
    "    if outbreak_shift >= 0:y_data = np.concatenate((np.zeros(outbreak_shift), data))\n",
    "    else: y_data = data[-outbreak_shift:]\n",
    "\n",
    "    x_data = np.linspace(0, days - 1, days, dtype=int)  # x_data is just [0, 1, ..., max_days] array\n",
    "\n",
    "\n",
    "    # This represents test size to be the last 30%, 20% and 10% of data\n",
    "    test_sizes = [0.3, 0.2, 0.1, 0.05] \n",
    "\n",
    "    param_vec = []\n",
    "    test_errors = []\n",
    "    train_errors = []\n",
    "\n",
    "    for test_size in test_sizes:\n",
    "        print(test_size)\n",
    "        X_train, X_test, Y_train, Y_test = train_test_split(x_data, y_data, test_size=test_size, shuffle = False) # make sure shuffle is False\n",
    "\n",
    "        def fitter(x, alpha, b, r_s, p_L_to_R, p_I_to_C, p_C_to_D, s):\n",
    "                ret = Model(days, agegroups, beds_per_10k, alpha, b, r_s, p_L_to_R, p_I_to_C, p_C_to_D, s)\n",
    "                return ret[7][x]\n",
    "        mod = lmfit.Model(fitter)\n",
    "        for kwarg, (init, mini, maxi) in params_init_min_max.items():\n",
    "            mod.set_param_hint(str(kwarg), value=init, min=mini, max=maxi, vary=True)\n",
    "        params = mod.make_params()\n",
    "        fit_method = \"leastsq\"\n",
    "        result = mod.fit(Y_train, params, method=\"least_squares\", x=X_train)\n",
    "\n",
    "        ## store parameter values\n",
    "        param_vec.append(result.best_values)\n",
    "\n",
    "        # forward predict\n",
    "        full_days = len(x_data)\n",
    "        forecast = Model(full_days, agegroups, beds_per_10k, **result.best_values)\n",
    "        death_projection = forecast[7]\n",
    "\n",
    "\n",
    "        train_error = np.linalg.norm(Y_train - death_projection[:len(Y_train)], 2) ## divide by number of train set\n",
    "        test_error = np.linalg.norm(Y_test - death_projection[-len(Y_test):], 2) ## divide by number of test set\n",
    "\n",
    "        print(\"Train Error: {0}\".format( train_error ))\n",
    "        print(\"Test Error: {0}\".format( test_error ))\n",
    "\n",
    "        train_errors.append(train_error)\n",
    "        test_errors.append(test_error)\n",
    "\n",
    "    best_case = np.argmin(test_errors)\n",
    "    best_parameters = param_vec[best_case]\n",
    "\n",
    "    print(\"Best Validation case is when test size is remaining {0} %\".format(test_sizes[best_case]*100))\n",
    "    \n",
    "    plt.figure()\n",
    "    plt.plot((1-np.array(test_sizes)) * 100, test_errors)\n",
    "    plt.xlabel(\"Train Set Percentage\")\n",
    "    plt.ylabel(r\"$L_2$ Norm Error\")\n",
    "    plt.title(\"{0} Data Validation\".format(country))\n",
    "    plt.show()\n",
    "    \n",
    "    return best_parameters"
   ]
  },
  {
   "cell_type": "code",
   "execution_count": null,
   "metadata": {},
   "outputs": [],
   "source": [
    "best_param_each_country = dict()\n",
    "\n",
    "best_param_each_country[\"US\"] = Validate(\"US\")"
   ]
  },
  {
   "cell_type": "code",
   "execution_count": null,
   "metadata": {},
   "outputs": [],
   "source": []
  },
  {
   "cell_type": "code",
   "execution_count": null,
   "metadata": {},
   "outputs": [],
   "source": [
    "best_param_each_country[\"China\"]  = Validate(\"China\")"
   ]
  },
  {
   "cell_type": "code",
   "execution_count": null,
   "metadata": {},
   "outputs": [],
   "source": [
    "best_param_each_country[\"Brazil\"]  = Validate(\"Brazil\")"
   ]
  },
  {
   "cell_type": "code",
   "execution_count": null,
   "metadata": {},
   "outputs": [],
   "source": [
    "India_best_param = Validate(\"India\")"
   ]
  },
  {
   "cell_type": "code",
   "execution_count": null,
   "metadata": {},
   "outputs": [],
   "source": [
    "Germany_best_param = Validate(\"Germany\")"
   ]
  },
  {
   "cell_type": "code",
   "execution_count": null,
   "metadata": {},
   "outputs": [],
   "source": []
  },
  {
   "cell_type": "code",
   "execution_count": null,
   "metadata": {},
   "outputs": [],
   "source": [
    "Italy_best_param = Validate(\"Italy\")"
   ]
  },
  {
   "cell_type": "code",
   "execution_count": null,
   "metadata": {},
   "outputs": [],
   "source": [
    "Spain_best_param = Validate(\"Spain\")"
   ]
  },
  {
   "cell_type": "code",
   "execution_count": null,
   "metadata": {},
   "outputs": [],
   "source": [
    "UK_best_param = Validate(\"UK\")"
   ]
  },
  {
   "cell_type": "code",
   "execution_count": null,
   "metadata": {},
   "outputs": [],
   "source": [
    "France_best_param = Validate(\"France\")"
   ]
  },
  {
   "cell_type": "code",
   "execution_count": null,
   "metadata": {},
   "outputs": [],
   "source": [
    "Canada_best_param = Validate(\"Canada\")"
   ]
  },
  {
   "cell_type": "code",
   "execution_count": null,
   "metadata": {},
   "outputs": [],
   "source": [
    "Netherlands_best_param = Validate(\"Netherlands\")"
   ]
  },
  {
   "cell_type": "code",
   "execution_count": null,
   "metadata": {},
   "outputs": [],
   "source": []
  },
  {
   "cell_type": "code",
   "execution_count": null,
   "metadata": {},
   "outputs": [],
   "source": []
  }
 ],
 "metadata": {
  "kernelspec": {
   "display_name": "Python 3",
   "language": "python",
   "name": "python3"
  },
  "language_info": {
   "codemirror_mode": {
    "name": "ipython",
    "version": 3
   },
   "file_extension": ".py",
   "mimetype": "text/x-python",
   "name": "python",
   "nbconvert_exporter": "python",
   "pygments_lexer": "ipython3",
   "version": "3.6.10"
  }
 },
 "nbformat": 4,
 "nbformat_minor": 2
}
