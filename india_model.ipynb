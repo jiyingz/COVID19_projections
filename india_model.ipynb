{
  "nbformat": 4,
  "nbformat_minor": 0,
  "metadata": {
    "colab": {
      "name": "india_model.ipynb",
      "provenance": [],
      "collapsed_sections": [
        "ZuuEGEUpiHEX"
      ]
    },
    "kernelspec": {
      "name": "python3",
      "display_name": "Python 3"
    }
  },
  "cells": [
    {
      "cell_type": "markdown",
      "metadata": {
        "id": "JDbZy9ovyHm4",
        "colab_type": "text"
      },
      "source": [
        "# **Modeling the Coronavirus in India**\n",
        "This is an implementation of an SELICRD model:\n",
        "\n",
        "*   S = Susceptible\n",
        "*   E = Exposed\n",
        "*   L = Latent\n",
        "*   I = Infected\n",
        "*   C = Critical\n",
        "*   R = Recovered\n",
        "*   D = Death\n",
        "\n",
        "\n",
        "---\n",
        "Following Henri Froese: https://towardsdatascience.com/infectious-disease-modelling-fit-your-model-to-coronavirus-data-2568e672dbc7\n",
        "\n",
        "\n",
        "\n",
        "\n"
      ]
    },
    {
      "cell_type": "markdown",
      "metadata": {
        "id": "zWWq3zgge-R3",
        "colab_type": "text"
      },
      "source": [
        "# Imports"
      ]
    },
    {
      "cell_type": "code",
      "metadata": {
        "_uuid": "d629ff2d2480ee46fbb7e2d37f6b5fab8052498a",
        "_cell_guid": "79c7e3d0-c299-4dcb-8224-4455121ee9b0",
        "trusted": true,
        "id": "NHHL1iKyYN5-",
        "colab_type": "code",
        "colab": {
          "base_uri": "https://localhost:8080/",
          "height": 119
        },
        "outputId": "1811e57e-e753-4c12-e2b5-a48c6f6c90f6"
      },
      "source": [
        "import numpy as np\n",
        "import pandas as pd\n",
        "pd.options.mode.chained_assignment = None\n",
        "\n",
        "import matplotlib.pyplot as plt\n",
        "import matplotlib.dates as mdates\n",
        "%matplotlib inline \n",
        "!pip install mpld3\n",
        "import mpld3\n",
        "mpld3.enable_notebook()\n",
        "\n",
        "from scipy.integrate import odeint\n",
        "!pip install lmfit\n",
        "import lmfit\n",
        "from lmfit.lineshapes import gaussian, lorentzian\n",
        "\n",
        "import warnings\n",
        "warnings.filterwarnings('ignore')"
      ],
      "execution_count": 44,
      "outputs": [
        {
          "output_type": "stream",
          "text": [
            "Requirement already satisfied: mpld3 in /usr/local/lib/python3.6/dist-packages (0.3)\n",
            "Requirement already satisfied: lmfit in /usr/local/lib/python3.6/dist-packages (1.0.1)\n",
            "Requirement already satisfied: uncertainties>=3.0.1 in /usr/local/lib/python3.6/dist-packages (from lmfit) (3.1.2)\n",
            "Requirement already satisfied: asteval>=0.9.16 in /usr/local/lib/python3.6/dist-packages (from lmfit) (0.9.18)\n",
            "Requirement already satisfied: scipy>=1.2 in /usr/local/lib/python3.6/dist-packages (from lmfit) (1.4.1)\n",
            "Requirement already satisfied: numpy>=1.16 in /usr/local/lib/python3.6/dist-packages (from lmfit) (1.18.4)\n"
          ],
          "name": "stdout"
        }
      ]
    },
    {
      "cell_type": "markdown",
      "metadata": {
        "id": "Ik3_WjTsK1kL",
        "colab_type": "text"
      },
      "source": [
        "# Supplemental and Coronavirus Data"
      ]
    },
    {
      "cell_type": "code",
      "metadata": {
        "id": "zGWWyOeGavjw",
        "colab_type": "code",
        "colab": {}
      },
      "source": [
        "# read the data - TO DO -- find more accurate bed data for India\n",
        "beds = pd.read_csv(\"https://raw.githubusercontent.com/hf2000510/infectious_disease_modelling/master/data/beds.csv\", header=0)\n",
        "agegroups = pd.read_csv(\"https://raw.githubusercontent.com/hf2000510/infectious_disease_modelling/master/data/agegroups.csv\")\n",
        "covid_data = pd.read_csv(\"https://tinyurl.com/t59cgxn\", parse_dates=[\"Date\"], skiprows=[1])\n",
        "covid_data[\"Location\"] = covid_data[\"Country/Region\"]\n",
        "\n",
        "# create some dicts for fast lookup\n",
        "# 1. beds\n",
        "beds_lookup = dict(zip(beds[\"Country\"], beds[\"ICU_Beds\"]))\n",
        "# 2. agegroups\n",
        "agegroup_lookup = dict(zip(agegroups['Location'], agegroups[['0_9', '10_19', '20_29', '30_39', '40_49', '50_59', '60_69', '70_79', '80_89', '90_100']].values))"
      ],
      "execution_count": 0,
      "outputs": []
    },
    {
      "cell_type": "markdown",
      "metadata": {
        "id": "M7nDZeh3tEDl",
        "colab_type": "text"
      },
      "source": [
        "# Setting Hyperparameters\n"
      ]
    },
    {
      "cell_type": "code",
      "metadata": {
        "id": "xJYFnFU_s8Qa",
        "colab_type": "code",
        "colab": {}
      },
      "source": [
        "# setting hyperparameters \n",
        "\n",
        "gamma = 1.0 / 14 #  days from infection to recovery\n",
        "delta = 1.0 / 5  # incubation period \n",
        "epsilon = 1.0 / 14 # recovery for latent person\n",
        "theta = 1.0 / 2 # days from latency to showing symptoms\n",
        "lamda = 1.0 / 11 # infected to  critical\n",
        "tau = 1.0 / 11.5 # time for critical patients to recover\n",
        "rho = 1.0 / 7.5 # days from critical to death"
      ],
      "execution_count": 0,
      "outputs": []
    },
    {
      "cell_type": "markdown",
      "metadata": {
        "id": "ZuuEGEUpiHEX",
        "colab_type": "text"
      },
      "source": [
        "## Plotting"
      ]
    },
    {
      "cell_type": "code",
      "metadata": {
        "id": "vyaZcRGY-gT4",
        "colab_type": "code",
        "outputId": "a5c95908-f9b8-4fcb-e957-60f7cd79a63d",
        "colab": {
          "base_uri": "https://localhost:8080/",
          "height": 309
        }
      },
      "source": [
        "plt.gcf().subplots_adjust(bottom=0.15)\n",
        "\n",
        "def plotter(t, S, E, I, C, R, D, R_0, B, S_1=None, S_2=None, x_ticks=None):\n",
        "    if S_1 is not None and S_2 is not None:\n",
        "      print(f\"percentage going to ICU: {S_1*100}; percentage dying in ICU: {S_2 * 100}\")\n",
        "\n",
        "\n",
        "    f, ax = plt.subplots(1,1,figsize=(20,4))\n",
        "    if x_ticks is None:\n",
        "        ax.plot(t, S, 'b', alpha=0.7, linewidth=2, label='Susceptible')\n",
        "        ax.plot(t, E, 'y', alpha=0.7, linewidth=2, label='Exposed')\n",
        "        ax.plot(t, I, 'r', alpha=0.7, linewidth=2, label='Infected')\n",
        "        ax.plot(t, C, 'r--', alpha=0.7, linewidth=2, label='Critical')\n",
        "        ax.plot(t, R, 'g', alpha=0.7, linewidth=2, label='Recovered')\n",
        "        ax.plot(t, D, 'k', alpha=0.7, linewidth=2, label='Dead')\n",
        "    else:\n",
        "        ax.plot(x_ticks, S, 'b', alpha=0.7, linewidth=2, label='Susceptible')\n",
        "        ax.plot(x_ticks, E, 'y', alpha=0.7, linewidth=2, label='Exposed')\n",
        "        ax.plot(x_ticks, I, 'r', alpha=0.7, linewidth=2, label='Infected')\n",
        "        ax.plot(x_ticks, C, 'r--', alpha=0.7, linewidth=2, label='Critical')\n",
        "        ax.plot(x_ticks, R, 'g', alpha=0.7, linewidth=2, label='Recovered')\n",
        "        ax.plot(x_ticks, D, 'k', alpha=0.7, linewidth=2, label='Dead')\n",
        "\n",
        "        ax.xaxis.set_major_locator(mdates.YearLocator())\n",
        "        ax.xaxis.set_major_formatter(mdates.DateFormatter('%Y-%m-%d'))\n",
        "        ax.xaxis.set_minor_locator(mdates.MonthLocator())\n",
        "        f.autofmt_xdate()\n",
        "\n",
        "\n",
        "    ax.title.set_text('extended SEIR-Model')\n",
        "\n",
        "    ax.grid(b=True, which='major', c='w', lw=2, ls='-')\n",
        "    legend = ax.legend()\n",
        "    legend.get_frame().set_alpha(0.5)\n",
        "    for spine in ('top', 'right', 'bottom', 'left'):\n",
        "        ax.spines[spine].set_visible(False)\n",
        "\n",
        "    plt.show();\n",
        "    \n",
        "    f = plt.figure(figsize=(20,4))\n",
        "    # sp1\n",
        "    ax1 = f.add_subplot(131)\n",
        "    if x_ticks is None:\n",
        "        ax1.plot(t, R_0, 'b--', alpha=0.7, linewidth=2, label='R_0')\n",
        "    else:\n",
        "        ax1.plot(x_ticks, R_0, 'b--', alpha=0.7, linewidth=2, label='R_0')\n",
        "        ax1.xaxis.set_major_locator(mdates.YearLocator())\n",
        "        ax1.xaxis.set_major_formatter(mdates.DateFormatter('%Y-%m-%d'))\n",
        "        ax1.xaxis.set_minor_locator(mdates.MonthLocator())\n",
        "        f.autofmt_xdate()\n",
        "\n",
        " \n",
        "    ax1.title.set_text('R_0 over time')\n",
        "    ax1.grid(b=True, which='major', c='w', lw=2, ls='-')\n",
        "    legend = ax1.legend()\n",
        "    legend.get_frame().set_alpha(0.5)\n",
        "    for spine in ('top', 'right', 'bottom', 'left'):\n",
        "        ax.spines[spine].set_visible(False)\n",
        "    \n",
        "    # sp2\n",
        "    ax2 = f.add_subplot(132)\n",
        "    total_CFR = [0] + [100 * D[i] / sum(sigma*E[:i]) if sum(sigma*E[:i])>0 else 0 for i in range(1, len(t))]\n",
        "    daily_CFR = [0] + [100 * ((D[i]-D[i-1]) / ((R[i]-R[i-1]) + (D[i]-D[i-1]))) if max((R[i]-R[i-1]), (D[i]-D[i-1]))>10 else 0 for i in range(1, len(t))]\n",
        "    if x_ticks is None:\n",
        "        ax2.plot(t, total_CFR, 'r--', alpha=0.7, linewidth=2, label='total')\n",
        "        ax2.plot(t, daily_CFR, 'b--', alpha=0.7, linewidth=2, label='daily')\n",
        "    else:\n",
        "        ax2.plot(x_ticks, total_CFR, 'r--', alpha=0.7, linewidth=2, label='total')\n",
        "        ax2.plot(x_ticks, daily_CFR, 'b--', alpha=0.7, linewidth=2, label='daily')\n",
        "        ax2.xaxis.set_major_locator(mdates.YearLocator())\n",
        "        ax2.xaxis.set_major_formatter(mdates.DateFormatter('%Y-%m-%d'))\n",
        "        ax2.xaxis.set_minor_locator(mdates.MonthLocator())\n",
        "        f.autofmt_xdate()\n",
        "\n",
        "    ax2.title.set_text('Fatality Rate (%)')\n",
        "    ax2.grid(b=True, which='major', c='w', lw=2, ls='-')\n",
        "    legend = ax2.legend()\n",
        "    legend.get_frame().set_alpha(0.5)\n",
        "    for spine in ('top', 'right', 'bottom', 'left'):\n",
        "        ax.spines[spine].set_visible(False)\n",
        "\n",
        "    # sp3\n",
        "    ax3 = f.add_subplot(133)\n",
        "    newDs = [0] + [D[i]-D[i-1] for i in range(1, len(t))]\n",
        "    if x_ticks is None:\n",
        "        ax3.plot(t, newDs, 'r--', alpha=0.7, linewidth=2, label='total')\n",
        "        ax3.plot(t, [max(0, C[i]-B(i)) for i in range(len(t))], 'b--', alpha=0.7, linewidth=2, label=\"over capacity\")\n",
        "    else:\n",
        "        ax3.plot(x_ticks, newDs, 'r--', alpha=0.7, linewidth=2, label='total')\n",
        "        ax3.plot(x_ticks, [max(0, C[i]-B(i)) for i in range(len(t))], 'b--', alpha=0.7, linewidth=2, label=\"over capacity\")\n",
        "        ax3.xaxis.set_major_locator(mdates.YearLocator())\n",
        "        ax3.xaxis.set_major_formatter(mdates.DateFormatter('%Y-%m-%d'))\n",
        "        ax3.xaxis.set_minor_locator(mdates.MonthLocator())\n",
        "        f.autofmt_xdate()\n",
        "\n",
        "    ax3.title.set_text('Deaths per day')\n",
        "    ax3.yaxis.set_tick_params(length=0)\n",
        "    ax3.xaxis.set_tick_params(length=0)\n",
        "    ax3.grid(b=True, which='major', c='w', lw=2, ls='-')\n",
        "    legend = ax3.legend()\n",
        "    legend.get_frame().set_alpha(0.5)\n",
        "    for spine in ('top', 'right', 'bottom', 'left'):\n",
        "        ax.spines[spine].set_visible(False)\n",
        "\n",
        "    plt.show();"
      ],
      "execution_count": 47,
      "outputs": [
        {
          "output_type": "display_data",
          "data": {
            "text/html": [
              "\n",
              "\n",
              "<style>\n",
              "\n",
              "</style>\n",
              "\n",
              "<div id=\"fig_el122139965519887160767485412\"></div>\n",
              "<script>\n",
              "function mpld3_load_lib(url, callback){\n",
              "  var s = document.createElement('script');\n",
              "  s.src = url;\n",
              "  s.async = true;\n",
              "  s.onreadystatechange = s.onload = callback;\n",
              "  s.onerror = function(){console.warn(\"failed to load library \" + url);};\n",
              "  document.getElementsByTagName(\"head\")[0].appendChild(s);\n",
              "}\n",
              "\n",
              "if(typeof(mpld3) !== \"undefined\" && mpld3._mpld3IsLoaded){\n",
              "   // already loaded: just create the figure\n",
              "   !function(mpld3){\n",
              "       \n",
              "       mpld3.draw_figure(\"fig_el122139965519887160767485412\", {\"width\": 432.0, \"height\": 288.0, \"axes\": [], \"data\": {}, \"id\": \"el122139965519887160\", \"plugins\": [{\"type\": \"reset\"}, {\"type\": \"zoom\", \"button\": true, \"enabled\": false}, {\"type\": \"boxzoom\", \"button\": true, \"enabled\": false}]});\n",
              "   }(mpld3);\n",
              "}else if(typeof define === \"function\" && define.amd){\n",
              "   // require.js is available: use it to load d3/mpld3\n",
              "   require.config({paths: {d3: \"https://mpld3.github.io/js/d3.v3.min\"}});\n",
              "   require([\"d3\"], function(d3){\n",
              "      window.d3 = d3;\n",
              "      mpld3_load_lib(\"https://mpld3.github.io/js/mpld3.v0.3.js\", function(){\n",
              "         \n",
              "         mpld3.draw_figure(\"fig_el122139965519887160767485412\", {\"width\": 432.0, \"height\": 288.0, \"axes\": [], \"data\": {}, \"id\": \"el122139965519887160\", \"plugins\": [{\"type\": \"reset\"}, {\"type\": \"zoom\", \"button\": true, \"enabled\": false}, {\"type\": \"boxzoom\", \"button\": true, \"enabled\": false}]});\n",
              "      });\n",
              "    });\n",
              "}else{\n",
              "    // require.js not available: dynamically load d3 & mpld3\n",
              "    mpld3_load_lib(\"https://mpld3.github.io/js/d3.v3.min.js\", function(){\n",
              "         mpld3_load_lib(\"https://mpld3.github.io/js/mpld3.v0.3.js\", function(){\n",
              "                 \n",
              "                 mpld3.draw_figure(\"fig_el122139965519887160767485412\", {\"width\": 432.0, \"height\": 288.0, \"axes\": [], \"data\": {}, \"id\": \"el122139965519887160\", \"plugins\": [{\"type\": \"reset\"}, {\"type\": \"zoom\", \"button\": true, \"enabled\": false}, {\"type\": \"boxzoom\", \"button\": true, \"enabled\": false}]});\n",
              "            })\n",
              "         });\n",
              "}\n",
              "</script>"
            ],
            "text/plain": [
              "<Figure size 432x288 with 0 Axes>"
            ]
          },
          "metadata": {
            "tags": []
          }
        }
      ]
    },
    {
      "cell_type": "markdown",
      "metadata": {
        "id": "UCHaMqyEfBxX",
        "colab_type": "text"
      },
      "source": [
        "# Modelling Functions"
      ]
    },
    {
      "cell_type": "code",
      "metadata": {
        "trusted": true,
        "colab_type": "code",
        "id": "TwBXjZdrngfl",
        "colab": {}
      },
      "source": [
        "def deriv(y, t, N, beta, delta, epsilon, p_L_to_R, theta, gamma, p_C_to_D, p_I_to_C, lamda, tau, rho, beds):\n",
        "    S, E, L, I, C, R, D = y\n",
        "\n",
        "    dSdt = - beta(t) * S * (I + L) / N\n",
        "    dEdt = beta(t) * S * (I + L) / N - delta * E\n",
        "    dLdt = delta * E - epsilon * p_L_to_R * L - theta * (1 - p_L_to_R) * L\n",
        "    dIdt = theta * (1 - p_L_to_R) * L - gamma * (1 - p_I_to_C) * I  - lamda * p_I_to_C * I\n",
        "    dCdt = lamda * p_I_to_C * I - tau * (1 - p_C_to_D) * min(beds(t), C) - rho * p_C_to_D * min(beds(t), C) \\\n",
        "           - max(0, C - beds(t))\n",
        "    dRdt = gamma * (1 - p_I_to_C) * I + tau * (1 - p_C_to_D) * min(beds(t), C) + epsilon * p_L_to_R * L\n",
        "    dDdt = rho * p_C_to_D * min(beds(t), C) + max(0, C-beds(t))\n",
        "    return dSdt, dEdt, dLdt, dIdt, dCdt, dRdt, dDdt\n",
        "\n",
        "\n",
        "def logistic_R_0(t, R_0_start, k, x0, R_0_end):\n",
        "    if -k*(-t+x0) >= 500: return R_0_end\n",
        "    return (R_0_start-R_0_end) / (1 + np.exp(-k*(-t+x0))) + R_0_end\n",
        "\n",
        "\n",
        "def Model(days, agegroups, beds_per_100k, R_0_start, k, x0, R_0_end, p_L_to_R, p_I_to_C, p_C_to_D, s):\n",
        "    # infection rate comes from current R0\n",
        "    def beta(t):\n",
        "        return logistic_R_0(t, R_0_start, k, x0, R_0_end) * gamma\n",
        "    # model bed usage in the poplation\n",
        "    def beds(t):\n",
        "        beds_0 = beds_per_100k / 100_000 * N\n",
        "        return beds_0 + s*beds_0*t  # 0.003\n",
        "    # run model\n",
        "    N = sum(agegroups)\n",
        "    y0 = N-1.0, 1.0, 0.0, 0.0, 0.0, 0.0, 0.0\n",
        "    t = np.linspace(0, days, days)\n",
        "    ret = odeint(deriv, y0, t, args=(N, beta, delta, epsilon, p_L_to_R, theta, gamma, p_C_to_D, p_I_to_C, lamda, tau, rho, beds))\n",
        "    S, E, L, I, C, R, D = ret.T\n",
        "    R_0_over_time = [beta(i)/gamma for i in range(len(t))]\n",
        "    return t, S, E, L, I, C, R, D, R_0_over_time, beds, p_I_to_C, p_C_to_D, delta"
      ],
      "execution_count": 0,
      "outputs": []
    },
    {
      "cell_type": "markdown",
      "metadata": {
        "id": "J_5dKWOEgTzM",
        "colab_type": "text"
      },
      "source": [
        "# Fitting"
      ]
    },
    {
      "cell_type": "code",
      "metadata": {
        "id": "unHKAXp7ghLz",
        "colab_type": "code",
        "colab": {}
      },
      "source": [
        "# parameters\n",
        "data = covid_data[covid_data[\"Location\"] == \"India\"][\"Value\"].values[::-1]\n",
        "agegroups = agegroup_lookup[\"India\"]\n",
        "beds_per_100k = beds_lookup[\"India\"]\n",
        "outbreak_shift = 30\n",
        "params_init_min_max = {\"R_0_start\": (3.0, 1.0, 5.0), \"k\": (2.5, 0.01, 5.0), \"x0\": (96, 30, 100), \"R_0_end\": (0.9, 0.3, 3.5), \"p_L_to_R\": (0.6, 0.4, 0.8),\n",
        "                       \"p_I_to_C\": (0.05, 0.01, 0.1), \"p_C_to_D\": (0.5, 0.05, 0.8),\n",
        "                       \"s\": (0.003, 0.001, 0.01)}  # form: {parameter: (initial guess, minimum value, max value)}"
      ],
      "execution_count": 0,
      "outputs": []
    },
    {
      "cell_type": "code",
      "metadata": {
        "trusted": true,
        "id": "wECeHA8HYN64",
        "colab_type": "code",
        "colab": {
          "base_uri": "https://localhost:8080/",
          "height": 346
        },
        "outputId": "13f1dc21-fca5-4df5-ae8d-7e0165103a92"
      },
      "source": [
        "if outbreak_shift >= 0:\n",
        "    y_data = np.concatenate((np.zeros(outbreak_shift), data))\n",
        "else:\n",
        "    y_data = y_data[-outbreak_shift:]\n",
        "\n",
        "x_data = np.linspace(0, days - 1, days, dtype=int)  # x_data is just [0, 1, ..., max_days] array\n",
        "\n",
        "def fitter(x, R_0_start, k, x0, R_0_end, p_L_to_R, p_I_to_C, p_C_to_D, s):\n",
        "    ret = Model(days, agegroups, beds_per_100k, R_0_start, k, x0, R_0_end, p_L_to_R, p_I_to_C, p_C_to_D, s)\n",
        "    return ret[6][x]\n",
        "\n",
        "mod = lmfit.Model(fitter)\n",
        "\n",
        "for kwarg, (init, mini, maxi) in params_init_min_max.items():\n",
        "    mod.set_param_hint(str(kwarg), value=init, min=mini, max=maxi, vary=True)\n",
        "\n",
        "\n",
        "params = mod.make_params()\n",
        "fit_method = \"leastsq\"\n",
        "result = mod.fit(y_data, params, method=\"least_squares\", x=x_data)\n",
        "ax = plt.subplots()\n",
        "result.plot_fit(datafmt=\"-\");\n",
        "plt.xlabel('days')\n",
        "plt.ylabel('infections')\n",
        "plt.title('')\n",
        "plt.show()\n",
        "print(result.best_values)"
      ],
      "execution_count": 50,
      "outputs": [
        {
          "output_type": "display_data",
          "data": {
            "image/png": "[encoded data removed]",
            "text/html": [
              "\n",
              "\n",
              "<style>\n",
              "\n",
              "</style>\n",
              "\n",
              "<div id=\"fig_el1221399655209756885945866141\"></div>\n",
              "<script>\n",
              "function mpld3_load_lib(url, callback){\n",
              "  var s = document.createElement('script');\n",
              "  s.src = url;\n",
              "  s.async = true;\n",
              "  s.onreadystatechange = s.onload = callback;\n",
              "  s.onerror = function(){console.warn(\"failed to load library \" + url);};\n",
              "  document.getElementsByTagName(\"head\")[0].appendChild(s);\n",
              "}\n",
              "\n",
              "if(typeof(mpld3) !== \"undefined\" && mpld3._mpld3IsLoaded){\n",
              "   // already loaded: just create the figure\n",
              "   !function(mpld3){\n",
              "       \n",
              "       mpld3.draw_figure(\"fig_el1221399655209756885945866141\", {\"width\": 432.0, \"height\": 288.0, \"axes\": [{\"bbox\": [0.125, 0.125, 0.775, 0.755], \"xlim\": [-7.1000000000000005, 149.1], \"ylim\": [-136.1092325427656, 2858.2938833980775], \"xdomain\": [-7.1000000000000005, 149.1], \"ydomain\": [-136.1092325427656, 2858.2938833980775], \"xscale\": \"linear\", \"yscale\": \"linear\", \"axes\": [{\"position\": \"bottom\", \"nticks\": 10, \"tickvalues\": null, \"tickformat\": null, \"scale\": \"linear\", \"fontsize\": 10.0, \"grid\": {\"gridOn\": false}, \"visible\": true}, {\"position\": \"left\", \"nticks\": 8, \"tickvalues\": null, \"tickformat\": null, \"scale\": \"linear\", \"fontsize\": 10.0, \"grid\": {\"gridOn\": false}, \"visible\": true}], \"axesbg\": \"#FFFFFF\", \"axesbgalpha\": null, \"zoomable\": true, \"id\": \"el122139965520083488\", \"lines\": [{\"data\": \"data01\", \"xindex\": 0, \"yindex\": 1, \"coordinates\": \"data\", \"id\": \"el122139965521497896\", \"color\": \"#1F77B4\", \"linewidth\": 1.5, \"dasharray\": \"none\", \"alpha\": 1, \"zorder\": 2, \"drawstyle\": \"default\"}, {\"data\": \"data01\", \"xindex\": 0, \"yindex\": 2, \"coordinates\": \"data\", \"id\": \"el122139965477091088\", \"color\": \"#FF7F0E\", \"linewidth\": 1.5, \"dasharray\": \"none\", \"alpha\": 1, \"zorder\": 2, \"drawstyle\": \"default\"}, {\"data\": \"data02\", \"xindex\": 0, \"yindex\": 1, \"coordinates\": \"axes\", \"id\": \"el122139965476770032\", \"color\": \"#1F77B4\", \"linewidth\": 1.5, \"dasharray\": \"none\", \"alpha\": 1, \"zorder\": 1000002.0, \"drawstyle\": \"default\"}, {\"data\": \"data02\", \"xindex\": 0, \"yindex\": 2, \"coordinates\": \"axes\", \"id\": \"el122139965476771096\", \"color\": \"#FF7F0E\", \"linewidth\": 1.5, \"dasharray\": \"none\", \"alpha\": 1, \"zorder\": 1000002.0, \"drawstyle\": \"default\"}], \"paths\": [{\"data\": \"data03\", \"xindex\": 0, \"yindex\": 1, \"coordinates\": \"axes\", \"pathcodes\": [\"M\", \"L\", \"S\", \"L\", \"S\", \"L\", \"S\", \"L\", \"S\", \"Z\"], \"id\": \"el122139965477092432\", \"dasharray\": \"none\", \"alpha\": 0.8, \"facecolor\": \"#FFFFFF\", \"edgecolor\": \"#CCCCCC\", \"edgewidth\": 1.0, \"zorder\": 1000000.0}], \"markers\": [], \"texts\": [{\"text\": \"days\", \"position\": [0.49999999999999994, -0.09657836644591611], \"coordinates\": \"axes\", \"h_anchor\": \"middle\", \"v_baseline\": \"hanging\", \"rotation\": -0.0, \"fontsize\": 10.0, \"color\": \"#000000\", \"alpha\": 1, \"zorder\": 3, \"id\": \"el122139965477101408\"}, {\"text\": \"infections\", \"position\": [-0.10827359617682199, 0.49999999999999994], \"coordinates\": \"axes\", \"h_anchor\": \"middle\", \"v_baseline\": \"auto\", \"rotation\": -90.0, \"fontsize\": 10.0, \"color\": \"#000000\", \"alpha\": 1, \"zorder\": 3, \"id\": \"el122139965477082560\"}, {\"text\": \"data\", \"position\": [0.11051373954599761, 0.9218175128771156], \"coordinates\": \"axes\", \"h_anchor\": \"start\", \"v_baseline\": \"auto\", \"rotation\": -0.0, \"fontsize\": 10.0, \"color\": \"#000000\", \"alpha\": 1, \"zorder\": 1000003.0, \"id\": \"el122139965477093048\"}, {\"text\": \"best-fit\", \"position\": [0.11051373954599761, 0.8528329654157469], \"coordinates\": \"axes\", \"h_anchor\": \"start\", \"v_baseline\": \"auto\", \"rotation\": -0.0, \"fontsize\": 10.0, \"color\": \"#000000\", \"alpha\": 1, \"zorder\": 1000003.0, \"id\": \"el122139965476770648\"}], \"collections\": [], \"images\": [], \"sharex\": [], \"sharey\": []}], \"data\": {\"data01\": [[0.0, 0.0, 0.0], [1.0, 0.0, 0.003002843465000761], [2.0, 0.0, 0.012194609137632994], [3.0, 0.0, 0.027473467192499063], [4.0, 0.0, 0.04844328537491393], [5.0, 0.0, 0.07458668564375892], [6.0, 0.0, 0.10536585479429493], [7.0, 0.0, 0.14027749284503496], [8.0, 0.0, 0.17887934536340672], [9.0, 0.0, 0.2207997041528881], [10.0, 0.0, 0.2657371995063213], [11.0, 0.0, 0.31345547568562365], [12.0, 0.0, 0.36377559210255705], [13.0, 0.0, 0.41656780139615296], [14.0, 0.0, 0.4717436366261681], [15.0, 0.0, 0.5292487726566497], [16.0, 0.0, 0.5890568481708796], [17.0, 0.0, 0.6511642740751015], [18.0, 0.0, 0.7155859654388774], [19.0, 0.0, 0.7823518944380146], [20.0, 0.0, 0.8515043477959175], [21.0, 0.0, 0.9230957694669469], [22.0, 0.0, 0.9971870896028099], [23.0, 0.0, 1.073846442940252], [24.0, 0.0, 1.1531481956228025], [25.0, 0.0, 1.235172224131269], [26.0, 0.0, 1.3200033832708251], [27.0, 0.0, 1.4077311294479264], [28.0, 0.0, 1.4984492606001327], [29.0, 0.0, 1.5922558349971783], [30.0, 0.0, 1.689263708659804], [31.0, 0.0, 1.7897840974120554], [32.0, 0.0, 1.8945104451931365], [33.0, 0.0, 2.004249102937042], [34.0, 0.0, 2.1198161808949463], [35.0, 0.0, 2.242022024929692], [36.0, 0.0, 2.3716687362122895], [37.0, 0.0, 2.509554061426987], [38.0, 0.0, 2.6564785162666866], [39.0, 0.0, 2.8132538930800126], [40.0, 0.0, 2.980712117839735], [41.0, 0.0, 3.159713928876827], [42.0, 0.0, 3.351157147164044], [43.0, 0.0, 3.555984486717589], [44.0, 0.0, 3.7751909498010185], [45.0, 0.0, 4.009830897607987], [46.0, 0.0, 4.261024907152158], [47.0, 0.0, 4.5299665265649205], [48.0, 0.0, 4.817929037927201], [49.0, 0.0, 5.126272325418029], [50.0, 0.0, 5.456449937300859], [51.0, 0.0, 5.810016425416436], [52.0, 0.0, 6.18863502872184], [53.0, 0.0, 6.594085771574969], [54.0, 0.0, 7.02827404552222], [55.0, 0.0, 7.493239694445646], [56.0, 0.0, 7.991166718700895], [57.0, 0.0, 8.524393620678433], [58.0, 0.0, 9.095424446589512], [59.0, 0.0, 9.706940589936556], [60.0, 0.0, 10.361813409340533], [61.0, 0.0, 11.063117766624336], [62.0, 0.0, 11.814146352828088], [63.0, 0.0, 12.618425337575156], [64.0, 0.0, 13.47973093835243], [65.0, 0.0, 14.40210698874188], [66.0, 0.0, 15.389884014186807], [67.0, 0.0, 16.447699581851186], [68.0, 0.0, 17.580520063385794], [69.0, 0.0, 18.793663965292946], [70.0, 0.0, 20.092826894074392], [71.0, 0.0, 21.48410831708732], [72.0, 0.0, 22.974040112960843], [73.0, 0.0, 24.569617367788013], [74.0, 0.0, 26.27833107850647], [75.0, 0.0, 28.108203520784585], [76.0, 0.0, 30.06782563691709], [77.0, 0.0, 32.16639765727825], [78.0, 0.0, 34.41377208862464], [79.0, 1.0, 36.82050002698385], [80.0, 1.0, 39.39788081304766], [81.0, 2.0, 42.15801478491264], [82.0, 2.0, 45.11386051548072], [83.0, 2.0, 48.2792952021352], [84.0, 2.0, 51.66918017043564], [85.0, 3.0, 55.29943048610263], [86.0, 3.0, 59.1870895615156], [87.0, 4.0, 63.35040957112712], [88.0, 5.0, 67.80893652661062], [89.0, 4.0, 72.58360273751865], [90.0, 7.0, 77.69682454693934], [91.0, 10.0, 83.17260774328898], [92.0, 10.0, 89.03666050015202], [93.0, 12.0, 95.31651352047001], [94.0, 20.0, 102.04165001074115], [95.0, 20.0, 109.24364339967862], [96.0, 24.0, 116.9563060026856], [97.0, 27.0, 125.21584784400243], [98.0, 32.0, 134.0610460227557], [99.0, 35.0, 143.53342774975982], [100.0, 58.0, 153.67746391907275], [101.0, 72.0, 164.54077986299356], [102.0, 72.0, 176.174377198261], [103.0, 86.0, 188.63287385606412], [104.0, 99.0, 201.97476068297445], [105.0, 136.0, 216.26267591723513], [106.0, 150.0, 231.56369923031218], [107.0, 178.0, 247.94966651056174], [108.0, 226.0, 265.4975078641749], [109.0, 246.0, 284.2896073618316], [110.0, 288.0, 304.41419150655463], [111.0, 331.0, 325.96574222324114], [112.0, 358.0, 349.04544066725447], [113.0, 393.0, 373.7616424743783], [114.0, 405.0, 400.23038646260295], [115.0, 448.0, 428.57593967475657], [116.0, 486.0, 458.93138143672434], [117.0, 521.0, 491.43921945741477], [118.0, 559.0, 526.2520784075933], [119.0, 592.0, 563.5333987783765], [120.0, 645.0, 603.45821111191], [121.0, 681.0, 646.2139546295667], [122.0, 721.0, 692.0013610263039], [123.0, 780.0, 741.0353949460199], [124.0, 825.0, 793.5462626383264], [125.0, 881.0, 849.7804942430299], [126.0, 939.0, 910.0021014066477], [127.0, 1008.0, 974.4938108150686], [128.0, 1079.0, 1043.5584008460592], [129.0, 1154.0, 1117.5201191239707], [130.0, 1223.0, 1196.7262022471114], [131.0, 1323.0, 1281.5485096629486], [132.0, 1391.0, 1372.385265689405], [133.0, 1566.0, 1469.662932108549], [134.0, 1693.0, 1573.838208975613], [135.0, 1785.0, 1685.400179711581], [136.0, 1889.0, 1804.8726052869893], [137.0, 1985.0, 1932.8163855418104], [138.0, 2101.0, 2069.832189530591], [139.0, 2212.0, 2216.5632785501994], [140.0, 2294.0, 2373.69852293893], [141.0, 2415.0, 2541.9756393364005], [142.0, 2551.0, 2722.1846508553117]], \"data02\": [[0.026881720430107503, 0.9379139072847682, 0.8689293598233996], [0.08661887694145756, 0.9379139072847682, 0.8689293598233996]], \"data03\": [[0.020908004778972505, 0.8252391464311994], [0.22252090800477894, 0.8252391464311994], [0.22849462365591397, 0.8252391464311994], [0.22849462365591397, 0.8344370860927152], [0.22849462365591397, 0.9678072111846947], [0.22849462365591397, 0.9770051508462105], [0.22252090800477894, 0.9770051508462105], [0.020908004778972505, 0.9770051508462105], [0.014934289127837508, 0.9770051508462105], [0.014934289127837508, 0.9678072111846947], [0.014934289127837508, 0.8344370860927152], [0.014934289127837508, 0.8252391464311994], [0.020908004778972505, 0.8252391464311994]]}, \"id\": \"el122139965520975688\", \"plugins\": [{\"type\": \"reset\"}, {\"type\": \"zoom\", \"button\": true, \"enabled\": false}, {\"type\": \"boxzoom\", \"button\": true, \"enabled\": false}]});\n",
              "   }(mpld3);\n",
              "}else if(typeof define === \"function\" && define.amd){\n",
              "   // require.js is available: use it to load d3/mpld3\n",
              "   require.config({paths: {d3: \"https://mpld3.github.io/js/d3.v3.min\"}});\n",
              "   require([\"d3\"], function(d3){\n",
              "      window.d3 = d3;\n",
              "      mpld3_load_lib(\"https://mpld3.github.io/js/mpld3.v0.3.js\", function(){\n",
              "         \n",
              "         mpld3.draw_figure(\"fig_el1221399655209756885945866141\", {\"width\": 432.0, \"height\": 288.0, \"axes\": [{\"bbox\": [0.125, 0.125, 0.775, 0.755], \"xlim\": [-7.1000000000000005, 149.1], \"ylim\": [-136.1092325427656, 2858.2938833980775], \"xdomain\": [-7.1000000000000005, 149.1], \"ydomain\": [-136.1092325427656, 2858.2938833980775], \"xscale\": \"linear\", \"yscale\": \"linear\", \"axes\": [{\"position\": \"bottom\", \"nticks\": 10, \"tickvalues\": null, \"tickformat\": null, \"scale\": \"linear\", \"fontsize\": 10.0, \"grid\": {\"gridOn\": false}, \"visible\": true}, {\"position\": \"left\", \"nticks\": 8, \"tickvalues\": null, \"tickformat\": null, \"scale\": \"linear\", \"fontsize\": 10.0, \"grid\": {\"gridOn\": false}, \"visible\": true}], \"axesbg\": \"#FFFFFF\", \"axesbgalpha\": null, \"zoomable\": true, \"id\": \"el122139965520083488\", \"lines\": [{\"data\": \"data01\", \"xindex\": 0, \"yindex\": 1, \"coordinates\": \"data\", \"id\": \"el122139965521497896\", \"color\": \"#1F77B4\", \"linewidth\": 1.5, \"dasharray\": \"none\", \"alpha\": 1, \"zorder\": 2, \"drawstyle\": \"default\"}, {\"data\": \"data01\", \"xindex\": 0, \"yindex\": 2, \"coordinates\": \"data\", \"id\": \"el122139965477091088\", \"color\": \"#FF7F0E\", \"linewidth\": 1.5, \"dasharray\": \"none\", \"alpha\": 1, \"zorder\": 2, \"drawstyle\": \"default\"}, {\"data\": \"data02\", \"xindex\": 0, \"yindex\": 1, \"coordinates\": \"axes\", \"id\": \"el122139965476770032\", \"color\": \"#1F77B4\", \"linewidth\": 1.5, \"dasharray\": \"none\", \"alpha\": 1, \"zorder\": 1000002.0, \"drawstyle\": \"default\"}, {\"data\": \"data02\", \"xindex\": 0, \"yindex\": 2, \"coordinates\": \"axes\", \"id\": \"el122139965476771096\", \"color\": \"#FF7F0E\", \"linewidth\": 1.5, \"dasharray\": \"none\", \"alpha\": 1, \"zorder\": 1000002.0, \"drawstyle\": \"default\"}], \"paths\": [{\"data\": \"data03\", \"xindex\": 0, \"yindex\": 1, \"coordinates\": \"axes\", \"pathcodes\": [\"M\", \"L\", \"S\", \"L\", \"S\", \"L\", \"S\", \"L\", \"S\", \"Z\"], \"id\": \"el122139965477092432\", \"dasharray\": \"none\", \"alpha\": 0.8, \"facecolor\": \"#FFFFFF\", \"edgecolor\": \"#CCCCCC\", \"edgewidth\": 1.0, \"zorder\": 1000000.0}], \"markers\": [], \"texts\": [{\"text\": \"days\", \"position\": [0.49999999999999994, -0.09657836644591611], \"coordinates\": \"axes\", \"h_anchor\": \"middle\", \"v_baseline\": \"hanging\", \"rotation\": -0.0, \"fontsize\": 10.0, \"color\": \"#000000\", \"alpha\": 1, \"zorder\": 3, \"id\": \"el122139965477101408\"}, {\"text\": \"infections\", \"position\": [-0.10827359617682199, 0.49999999999999994], \"coordinates\": \"axes\", \"h_anchor\": \"middle\", \"v_baseline\": \"auto\", \"rotation\": -90.0, \"fontsize\": 10.0, \"color\": \"#000000\", \"alpha\": 1, \"zorder\": 3, \"id\": \"el122139965477082560\"}, {\"text\": \"data\", \"position\": [0.11051373954599761, 0.9218175128771156], \"coordinates\": \"axes\", \"h_anchor\": \"start\", \"v_baseline\": \"auto\", \"rotation\": -0.0, \"fontsize\": 10.0, \"color\": \"#000000\", \"alpha\": 1, \"zorder\": 1000003.0, \"id\": \"el122139965477093048\"}, {\"text\": \"best-fit\", \"position\": [0.11051373954599761, 0.8528329654157469], \"coordinates\": \"axes\", \"h_anchor\": \"start\", \"v_baseline\": \"auto\", \"rotation\": -0.0, \"fontsize\": 10.0, \"color\": \"#000000\", \"alpha\": 1, \"zorder\": 1000003.0, \"id\": \"el122139965476770648\"}], \"collections\": [], \"images\": [], \"sharex\": [], \"sharey\": []}], \"data\": {\"data01\": [[0.0, 0.0, 0.0], [1.0, 0.0, 0.003002843465000761], [2.0, 0.0, 0.012194609137632994], [3.0, 0.0, 0.027473467192499063], [4.0, 0.0, 0.04844328537491393], [5.0, 0.0, 0.07458668564375892], [6.0, 0.0, 0.10536585479429493], [7.0, 0.0, 0.14027749284503496], [8.0, 0.0, 0.17887934536340672], [9.0, 0.0, 0.2207997041528881], [10.0, 0.0, 0.2657371995063213], [11.0, 0.0, 0.31345547568562365], [12.0, 0.0, 0.36377559210255705], [13.0, 0.0, 0.41656780139615296], [14.0, 0.0, 0.4717436366261681], [15.0, 0.0, 0.5292487726566497], [16.0, 0.0, 0.5890568481708796], [17.0, 0.0, 0.6511642740751015], [18.0, 0.0, 0.7155859654388774], [19.0, 0.0, 0.7823518944380146], [20.0, 0.0, 0.8515043477959175], [21.0, 0.0, 0.9230957694669469], [22.0, 0.0, 0.9971870896028099], [23.0, 0.0, 1.073846442940252], [24.0, 0.0, 1.1531481956228025], [25.0, 0.0, 1.235172224131269], [26.0, 0.0, 1.3200033832708251], [27.0, 0.0, 1.4077311294479264], [28.0, 0.0, 1.4984492606001327], [29.0, 0.0, 1.5922558349971783], [30.0, 0.0, 1.689263708659804], [31.0, 0.0, 1.7897840974120554], [32.0, 0.0, 1.8945104451931365], [33.0, 0.0, 2.004249102937042], [34.0, 0.0, 2.1198161808949463], [35.0, 0.0, 2.242022024929692], [36.0, 0.0, 2.3716687362122895], [37.0, 0.0, 2.509554061426987], [38.0, 0.0, 2.6564785162666866], [39.0, 0.0, 2.8132538930800126], [40.0, 0.0, 2.980712117839735], [41.0, 0.0, 3.159713928876827], [42.0, 0.0, 3.351157147164044], [43.0, 0.0, 3.555984486717589], [44.0, 0.0, 3.7751909498010185], [45.0, 0.0, 4.009830897607987], [46.0, 0.0, 4.261024907152158], [47.0, 0.0, 4.5299665265649205], [48.0, 0.0, 4.817929037927201], [49.0, 0.0, 5.126272325418029], [50.0, 0.0, 5.456449937300859], [51.0, 0.0, 5.810016425416436], [52.0, 0.0, 6.18863502872184], [53.0, 0.0, 6.594085771574969], [54.0, 0.0, 7.02827404552222], [55.0, 0.0, 7.493239694445646], [56.0, 0.0, 7.991166718700895], [57.0, 0.0, 8.524393620678433], [58.0, 0.0, 9.095424446589512], [59.0, 0.0, 9.706940589936556], [60.0, 0.0, 10.361813409340533], [61.0, 0.0, 11.063117766624336], [62.0, 0.0, 11.814146352828088], [63.0, 0.0, 12.618425337575156], [64.0, 0.0, 13.47973093835243], [65.0, 0.0, 14.40210698874188], [66.0, 0.0, 15.389884014186807], [67.0, 0.0, 16.447699581851186], [68.0, 0.0, 17.580520063385794], [69.0, 0.0, 18.793663965292946], [70.0, 0.0, 20.092826894074392], [71.0, 0.0, 21.48410831708732], [72.0, 0.0, 22.974040112960843], [73.0, 0.0, 24.569617367788013], [74.0, 0.0, 26.27833107850647], [75.0, 0.0, 28.108203520784585], [76.0, 0.0, 30.06782563691709], [77.0, 0.0, 32.16639765727825], [78.0, 0.0, 34.41377208862464], [79.0, 1.0, 36.82050002698385], [80.0, 1.0, 39.39788081304766], [81.0, 2.0, 42.15801478491264], [82.0, 2.0, 45.11386051548072], [83.0, 2.0, 48.2792952021352], [84.0, 2.0, 51.66918017043564], [85.0, 3.0, 55.29943048610263], [86.0, 3.0, 59.1870895615156], [87.0, 4.0, 63.35040957112712], [88.0, 5.0, 67.80893652661062], [89.0, 4.0, 72.58360273751865], [90.0, 7.0, 77.69682454693934], [91.0, 10.0, 83.17260774328898], [92.0, 10.0, 89.03666050015202], [93.0, 12.0, 95.31651352047001], [94.0, 20.0, 102.04165001074115], [95.0, 20.0, 109.24364339967862], [96.0, 24.0, 116.9563060026856], [97.0, 27.0, 125.21584784400243], [98.0, 32.0, 134.0610460227557], [99.0, 35.0, 143.53342774975982], [100.0, 58.0, 153.67746391907275], [101.0, 72.0, 164.54077986299356], [102.0, 72.0, 176.174377198261], [103.0, 86.0, 188.63287385606412], [104.0, 99.0, 201.97476068297445], [105.0, 136.0, 216.26267591723513], [106.0, 150.0, 231.56369923031218], [107.0, 178.0, 247.94966651056174], [108.0, 226.0, 265.4975078641749], [109.0, 246.0, 284.2896073618316], [110.0, 288.0, 304.41419150655463], [111.0, 331.0, 325.96574222324114], [112.0, 358.0, 349.04544066725447], [113.0, 393.0, 373.7616424743783], [114.0, 405.0, 400.23038646260295], [115.0, 448.0, 428.57593967475657], [116.0, 486.0, 458.93138143672434], [117.0, 521.0, 491.43921945741477], [118.0, 559.0, 526.2520784075933], [119.0, 592.0, 563.5333987783765], [120.0, 645.0, 603.45821111191], [121.0, 681.0, 646.2139546295667], [122.0, 721.0, 692.0013610263039], [123.0, 780.0, 741.0353949460199], [124.0, 825.0, 793.5462626383264], [125.0, 881.0, 849.7804942430299], [126.0, 939.0, 910.0021014066477], [127.0, 1008.0, 974.4938108150686], [128.0, 1079.0, 1043.5584008460592], [129.0, 1154.0, 1117.5201191239707], [130.0, 1223.0, 1196.7262022471114], [131.0, 1323.0, 1281.5485096629486], [132.0, 1391.0, 1372.385265689405], [133.0, 1566.0, 1469.662932108549], [134.0, 1693.0, 1573.838208975613], [135.0, 1785.0, 1685.400179711581], [136.0, 1889.0, 1804.8726052869893], [137.0, 1985.0, 1932.8163855418104], [138.0, 2101.0, 2069.832189530591], [139.0, 2212.0, 2216.5632785501994], [140.0, 2294.0, 2373.69852293893], [141.0, 2415.0, 2541.9756393364005], [142.0, 2551.0, 2722.1846508553117]], \"data02\": [[0.026881720430107503, 0.9379139072847682, 0.8689293598233996], [0.08661887694145756, 0.9379139072847682, 0.8689293598233996]], \"data03\": [[0.020908004778972505, 0.8252391464311994], [0.22252090800477894, 0.8252391464311994], [0.22849462365591397, 0.8252391464311994], [0.22849462365591397, 0.8344370860927152], [0.22849462365591397, 0.9678072111846947], [0.22849462365591397, 0.9770051508462105], [0.22252090800477894, 0.9770051508462105], [0.020908004778972505, 0.9770051508462105], [0.014934289127837508, 0.9770051508462105], [0.014934289127837508, 0.9678072111846947], [0.014934289127837508, 0.8344370860927152], [0.014934289127837508, 0.8252391464311994], [0.020908004778972505, 0.8252391464311994]]}, \"id\": \"el122139965520975688\", \"plugins\": [{\"type\": \"reset\"}, {\"type\": \"zoom\", \"button\": true, \"enabled\": false}, {\"type\": \"boxzoom\", \"button\": true, \"enabled\": false}]});\n",
              "      });\n",
              "    });\n",
              "}else{\n",
              "    // require.js not available: dynamically load d3 & mpld3\n",
              "    mpld3_load_lib(\"https://mpld3.github.io/js/d3.v3.min.js\", function(){\n",
              "         mpld3_load_lib(\"https://mpld3.github.io/js/mpld3.v0.3.js\", function(){\n",
              "                 \n",
              "                 mpld3.draw_figure(\"fig_el1221399655209756885945866141\", {\"width\": 432.0, \"height\": 288.0, \"axes\": [{\"bbox\": [0.125, 0.125, 0.775, 0.755], \"xlim\": [-7.1000000000000005, 149.1], \"ylim\": [-136.1092325427656, 2858.2938833980775], \"xdomain\": [-7.1000000000000005, 149.1], \"ydomain\": [-136.1092325427656, 2858.2938833980775], \"xscale\": \"linear\", \"yscale\": \"linear\", \"axes\": [{\"position\": \"bottom\", \"nticks\": 10, \"tickvalues\": null, \"tickformat\": null, \"scale\": \"linear\", \"fontsize\": 10.0, \"grid\": {\"gridOn\": false}, \"visible\": true}, {\"position\": \"left\", \"nticks\": 8, \"tickvalues\": null, \"tickformat\": null, \"scale\": \"linear\", \"fontsize\": 10.0, \"grid\": {\"gridOn\": false}, \"visible\": true}], \"axesbg\": \"#FFFFFF\", \"axesbgalpha\": null, \"zoomable\": true, \"id\": \"el122139965520083488\", \"lines\": [{\"data\": \"data01\", \"xindex\": 0, \"yindex\": 1, \"coordinates\": \"data\", \"id\": \"el122139965521497896\", \"color\": \"#1F77B4\", \"linewidth\": 1.5, \"dasharray\": \"none\", \"alpha\": 1, \"zorder\": 2, \"drawstyle\": \"default\"}, {\"data\": \"data01\", \"xindex\": 0, \"yindex\": 2, \"coordinates\": \"data\", \"id\": \"el122139965477091088\", \"color\": \"#FF7F0E\", \"linewidth\": 1.5, \"dasharray\": \"none\", \"alpha\": 1, \"zorder\": 2, \"drawstyle\": \"default\"}, {\"data\": \"data02\", \"xindex\": 0, \"yindex\": 1, \"coordinates\": \"axes\", \"id\": \"el122139965476770032\", \"color\": \"#1F77B4\", \"linewidth\": 1.5, \"dasharray\": \"none\", \"alpha\": 1, \"zorder\": 1000002.0, \"drawstyle\": \"default\"}, {\"data\": \"data02\", \"xindex\": 0, \"yindex\": 2, \"coordinates\": \"axes\", \"id\": \"el122139965476771096\", \"color\": \"#FF7F0E\", \"linewidth\": 1.5, \"dasharray\": \"none\", \"alpha\": 1, \"zorder\": 1000002.0, \"drawstyle\": \"default\"}], \"paths\": [{\"data\": \"data03\", \"xindex\": 0, \"yindex\": 1, \"coordinates\": \"axes\", \"pathcodes\": [\"M\", \"L\", \"S\", \"L\", \"S\", \"L\", \"S\", \"L\", \"S\", \"Z\"], \"id\": \"el122139965477092432\", \"dasharray\": \"none\", \"alpha\": 0.8, \"facecolor\": \"#FFFFFF\", \"edgecolor\": \"#CCCCCC\", \"edgewidth\": 1.0, \"zorder\": 1000000.0}], \"markers\": [], \"texts\": [{\"text\": \"days\", \"position\": [0.49999999999999994, -0.09657836644591611], \"coordinates\": \"axes\", \"h_anchor\": \"middle\", \"v_baseline\": \"hanging\", \"rotation\": -0.0, \"fontsize\": 10.0, \"color\": \"#000000\", \"alpha\": 1, \"zorder\": 3, \"id\": \"el122139965477101408\"}, {\"text\": \"infections\", \"position\": [-0.10827359617682199, 0.49999999999999994], \"coordinates\": \"axes\", \"h_anchor\": \"middle\", \"v_baseline\": \"auto\", \"rotation\": -90.0, \"fontsize\": 10.0, \"color\": \"#000000\", \"alpha\": 1, \"zorder\": 3, \"id\": \"el122139965477082560\"}, {\"text\": \"data\", \"position\": [0.11051373954599761, 0.9218175128771156], \"coordinates\": \"axes\", \"h_anchor\": \"start\", \"v_baseline\": \"auto\", \"rotation\": -0.0, \"fontsize\": 10.0, \"color\": \"#000000\", \"alpha\": 1, \"zorder\": 1000003.0, \"id\": \"el122139965477093048\"}, {\"text\": \"best-fit\", \"position\": [0.11051373954599761, 0.8528329654157469], \"coordinates\": \"axes\", \"h_anchor\": \"start\", \"v_baseline\": \"auto\", \"rotation\": -0.0, \"fontsize\": 10.0, \"color\": \"#000000\", \"alpha\": 1, \"zorder\": 1000003.0, \"id\": \"el122139965476770648\"}], \"collections\": [], \"images\": [], \"sharex\": [], \"sharey\": []}], \"data\": {\"data01\": [[0.0, 0.0, 0.0], [1.0, 0.0, 0.003002843465000761], [2.0, 0.0, 0.012194609137632994], [3.0, 0.0, 0.027473467192499063], [4.0, 0.0, 0.04844328537491393], [5.0, 0.0, 0.07458668564375892], [6.0, 0.0, 0.10536585479429493], [7.0, 0.0, 0.14027749284503496], [8.0, 0.0, 0.17887934536340672], [9.0, 0.0, 0.2207997041528881], [10.0, 0.0, 0.2657371995063213], [11.0, 0.0, 0.31345547568562365], [12.0, 0.0, 0.36377559210255705], [13.0, 0.0, 0.41656780139615296], [14.0, 0.0, 0.4717436366261681], [15.0, 0.0, 0.5292487726566497], [16.0, 0.0, 0.5890568481708796], [17.0, 0.0, 0.6511642740751015], [18.0, 0.0, 0.7155859654388774], [19.0, 0.0, 0.7823518944380146], [20.0, 0.0, 0.8515043477959175], [21.0, 0.0, 0.9230957694669469], [22.0, 0.0, 0.9971870896028099], [23.0, 0.0, 1.073846442940252], [24.0, 0.0, 1.1531481956228025], [25.0, 0.0, 1.235172224131269], [26.0, 0.0, 1.3200033832708251], [27.0, 0.0, 1.4077311294479264], [28.0, 0.0, 1.4984492606001327], [29.0, 0.0, 1.5922558349971783], [30.0, 0.0, 1.689263708659804], [31.0, 0.0, 1.7897840974120554], [32.0, 0.0, 1.8945104451931365], [33.0, 0.0, 2.004249102937042], [34.0, 0.0, 2.1198161808949463], [35.0, 0.0, 2.242022024929692], [36.0, 0.0, 2.3716687362122895], [37.0, 0.0, 2.509554061426987], [38.0, 0.0, 2.6564785162666866], [39.0, 0.0, 2.8132538930800126], [40.0, 0.0, 2.980712117839735], [41.0, 0.0, 3.159713928876827], [42.0, 0.0, 3.351157147164044], [43.0, 0.0, 3.555984486717589], [44.0, 0.0, 3.7751909498010185], [45.0, 0.0, 4.009830897607987], [46.0, 0.0, 4.261024907152158], [47.0, 0.0, 4.5299665265649205], [48.0, 0.0, 4.817929037927201], [49.0, 0.0, 5.126272325418029], [50.0, 0.0, 5.456449937300859], [51.0, 0.0, 5.810016425416436], [52.0, 0.0, 6.18863502872184], [53.0, 0.0, 6.594085771574969], [54.0, 0.0, 7.02827404552222], [55.0, 0.0, 7.493239694445646], [56.0, 0.0, 7.991166718700895], [57.0, 0.0, 8.524393620678433], [58.0, 0.0, 9.095424446589512], [59.0, 0.0, 9.706940589936556], [60.0, 0.0, 10.361813409340533], [61.0, 0.0, 11.063117766624336], [62.0, 0.0, 11.814146352828088], [63.0, 0.0, 12.618425337575156], [64.0, 0.0, 13.47973093835243], [65.0, 0.0, 14.40210698874188], [66.0, 0.0, 15.389884014186807], [67.0, 0.0, 16.447699581851186], [68.0, 0.0, 17.580520063385794], [69.0, 0.0, 18.793663965292946], [70.0, 0.0, 20.092826894074392], [71.0, 0.0, 21.48410831708732], [72.0, 0.0, 22.974040112960843], [73.0, 0.0, 24.569617367788013], [74.0, 0.0, 26.27833107850647], [75.0, 0.0, 28.108203520784585], [76.0, 0.0, 30.06782563691709], [77.0, 0.0, 32.16639765727825], [78.0, 0.0, 34.41377208862464], [79.0, 1.0, 36.82050002698385], [80.0, 1.0, 39.39788081304766], [81.0, 2.0, 42.15801478491264], [82.0, 2.0, 45.11386051548072], [83.0, 2.0, 48.2792952021352], [84.0, 2.0, 51.66918017043564], [85.0, 3.0, 55.29943048610263], [86.0, 3.0, 59.1870895615156], [87.0, 4.0, 63.35040957112712], [88.0, 5.0, 67.80893652661062], [89.0, 4.0, 72.58360273751865], [90.0, 7.0, 77.69682454693934], [91.0, 10.0, 83.17260774328898], [92.0, 10.0, 89.03666050015202], [93.0, 12.0, 95.31651352047001], [94.0, 20.0, 102.04165001074115], [95.0, 20.0, 109.24364339967862], [96.0, 24.0, 116.9563060026856], [97.0, 27.0, 125.21584784400243], [98.0, 32.0, 134.0610460227557], [99.0, 35.0, 143.53342774975982], [100.0, 58.0, 153.67746391907275], [101.0, 72.0, 164.54077986299356], [102.0, 72.0, 176.174377198261], [103.0, 86.0, 188.63287385606412], [104.0, 99.0, 201.97476068297445], [105.0, 136.0, 216.26267591723513], [106.0, 150.0, 231.56369923031218], [107.0, 178.0, 247.94966651056174], [108.0, 226.0, 265.4975078641749], [109.0, 246.0, 284.2896073618316], [110.0, 288.0, 304.41419150655463], [111.0, 331.0, 325.96574222324114], [112.0, 358.0, 349.04544066725447], [113.0, 393.0, 373.7616424743783], [114.0, 405.0, 400.23038646260295], [115.0, 448.0, 428.57593967475657], [116.0, 486.0, 458.93138143672434], [117.0, 521.0, 491.43921945741477], [118.0, 559.0, 526.2520784075933], [119.0, 592.0, 563.5333987783765], [120.0, 645.0, 603.45821111191], [121.0, 681.0, 646.2139546295667], [122.0, 721.0, 692.0013610263039], [123.0, 780.0, 741.0353949460199], [124.0, 825.0, 793.5462626383264], [125.0, 881.0, 849.7804942430299], [126.0, 939.0, 910.0021014066477], [127.0, 1008.0, 974.4938108150686], [128.0, 1079.0, 1043.5584008460592], [129.0, 1154.0, 1117.5201191239707], [130.0, 1223.0, 1196.7262022471114], [131.0, 1323.0, 1281.5485096629486], [132.0, 1391.0, 1372.385265689405], [133.0, 1566.0, 1469.662932108549], [134.0, 1693.0, 1573.838208975613], [135.0, 1785.0, 1685.400179711581], [136.0, 1889.0, 1804.8726052869893], [137.0, 1985.0, 1932.8163855418104], [138.0, 2101.0, 2069.832189530591], [139.0, 2212.0, 2216.5632785501994], [140.0, 2294.0, 2373.69852293893], [141.0, 2415.0, 2541.9756393364005], [142.0, 2551.0, 2722.1846508553117]], \"data02\": [[0.026881720430107503, 0.9379139072847682, 0.8689293598233996], [0.08661887694145756, 0.9379139072847682, 0.8689293598233996]], \"data03\": [[0.020908004778972505, 0.8252391464311994], [0.22252090800477894, 0.8252391464311994], [0.22849462365591397, 0.8252391464311994], [0.22849462365591397, 0.8344370860927152], [0.22849462365591397, 0.9678072111846947], [0.22849462365591397, 0.9770051508462105], [0.22252090800477894, 0.9770051508462105], [0.020908004778972505, 0.9770051508462105], [0.014934289127837508, 0.9770051508462105], [0.014934289127837508, 0.9678072111846947], [0.014934289127837508, 0.8344370860927152], [0.014934289127837508, 0.8252391464311994], [0.020908004778972505, 0.8252391464311994]]}, \"id\": \"el122139965520975688\", \"plugins\": [{\"type\": \"reset\"}, {\"type\": \"zoom\", \"button\": true, \"enabled\": false}, {\"type\": \"boxzoom\", \"button\": true, \"enabled\": false}]});\n",
              "            })\n",
              "         });\n",
              "}\n",
              "</script>"
            ],
            "text/plain": [
              "<Figure size 432x288 with 1 Axes>"
            ]
          },
          "metadata": {
            "tags": [],
            "needs_background": "light"
          }
        },
        {
          "output_type": "stream",
          "text": [
            "{'R_0_start': 1.545794896620706, 'k': 4.973250405475743, 'x0': 30.0000000001271, 'R_0_end': 2.3836926747776945, 'p_L_to_R': 0.40000000000230634, 'p_I_to_C': 0.09999999999999999, 'p_C_to_D': 0.7999999999993995, 's': 0.003}\n"
          ],
          "name": "stdout"
        }
      ]
    },
    {
      "cell_type": "code",
      "metadata": {
        "id": "N3coT0uXrjsa",
        "colab_type": "code",
        "outputId": "871e2fea-9f86-4e0c-de8c-ab29dcf1c619",
        "colab": {
          "base_uri": "https://localhost:8080/",
          "height": 153
        }
      },
      "source": [
        "result.best_values"
      ],
      "execution_count": 51,
      "outputs": [
        {
          "output_type": "execute_result",
          "data": {
            "text/plain": [
              "{'R_0_end': 2.3836926747776945,\n",
              " 'R_0_start': 1.545794896620706,\n",
              " 'k': 4.973250405475743,\n",
              " 'p_C_to_D': 0.7999999999993995,\n",
              " 'p_I_to_C': 0.09999999999999999,\n",
              " 'p_L_to_R': 0.40000000000230634,\n",
              " 's': 0.003,\n",
              " 'x0': 30.0000000001271}"
            ]
          },
          "metadata": {
            "tags": []
          },
          "execution_count": 51
        }
      ]
    },
    {
      "cell_type": "code",
      "metadata": {
        "id": "f0rcrJpTrxzo",
        "colab_type": "code",
        "outputId": "e86b6495-e93c-4f6b-946f-4d115a248d18",
        "colab": {
          "base_uri": "https://localhost:8080/",
          "height": 215
        }
      },
      "source": [
        "country = \"India\"\n",
        "full_days = 500\n",
        "first_date = np.datetime64(covid_data.Date.min()) - np.timedelta64(outbreak_shift,'D')\n",
        "x_ticks = pd.date_range(start=first_date, periods=full_days, freq=\"D\")\n",
        "print(\"Prediction for \" + country)\n",
        "plotter(*Model(full_days, agegroup_lookup[country], beds_lookup[country], **result.best_values), x_ticks=x_ticks);\n"
      ],
      "execution_count": 65,
      "outputs": [
        {
          "output_type": "stream",
          "text": [
            "Prediction for India\n"
          ],
          "name": "stdout"
        },
        {
          "output_type": "error",
          "ename": "TypeError",
          "evalue": "ignored",
          "traceback": [
            "\u001b[0;31m---------------------------------------------------------------------------\u001b[0m",
            "\u001b[0;31mTypeError\u001b[0m                                 Traceback (most recent call last)",
            "\u001b[0;32m<ipython-input-65-75d48fc0dbd5>\u001b[0m in \u001b[0;36m<module>\u001b[0;34m()\u001b[0m\n\u001b[1;32m      4\u001b[0m \u001b[0mx_ticks\u001b[0m \u001b[0;34m=\u001b[0m \u001b[0mpd\u001b[0m\u001b[0;34m.\u001b[0m\u001b[0mdate_range\u001b[0m\u001b[0;34m(\u001b[0m\u001b[0mstart\u001b[0m\u001b[0;34m=\u001b[0m\u001b[0mfirst_date\u001b[0m\u001b[0;34m,\u001b[0m \u001b[0mperiods\u001b[0m\u001b[0;34m=\u001b[0m\u001b[0mfull_days\u001b[0m\u001b[0;34m,\u001b[0m \u001b[0mfreq\u001b[0m\u001b[0;34m=\u001b[0m\u001b[0;34m\"D\"\u001b[0m\u001b[0;34m)\u001b[0m\u001b[0;34m\u001b[0m\u001b[0;34m\u001b[0m\u001b[0m\n\u001b[1;32m      5\u001b[0m \u001b[0mprint\u001b[0m\u001b[0;34m(\u001b[0m\u001b[0;34m\"Prediction for \"\u001b[0m \u001b[0;34m+\u001b[0m \u001b[0mcountry\u001b[0m\u001b[0;34m)\u001b[0m\u001b[0;34m\u001b[0m\u001b[0;34m\u001b[0m\u001b[0m\n\u001b[0;32m----> 6\u001b[0;31m \u001b[0mplotter\u001b[0m\u001b[0;34m(\u001b[0m\u001b[0;34m*\u001b[0m\u001b[0mModel\u001b[0m\u001b[0;34m(\u001b[0m\u001b[0mfull_days\u001b[0m\u001b[0;34m,\u001b[0m \u001b[0magegroup_lookup\u001b[0m\u001b[0;34m[\u001b[0m\u001b[0mcountry\u001b[0m\u001b[0;34m]\u001b[0m\u001b[0;34m,\u001b[0m \u001b[0mbeds_lookup\u001b[0m\u001b[0;34m[\u001b[0m\u001b[0mcountry\u001b[0m\u001b[0;34m]\u001b[0m\u001b[0;34m,\u001b[0m \u001b[0;34m**\u001b[0m\u001b[0mresult\u001b[0m\u001b[0;34m.\u001b[0m\u001b[0mbest_values\u001b[0m\u001b[0;34m)\u001b[0m\u001b[0;34m,\u001b[0m \u001b[0mx_ticks\u001b[0m\u001b[0;34m=\u001b[0m\u001b[0mx_ticks\u001b[0m\u001b[0;34m)\u001b[0m\u001b[0;34m;\u001b[0m\u001b[0;34m\u001b[0m\u001b[0;34m\u001b[0m\u001b[0m\n\u001b[0m",
            "\u001b[0;31mTypeError\u001b[0m: plotter() got multiple values for argument 'x_ticks'"
          ]
        }
      ]
    },
    {
      "cell_type": "code",
      "metadata": {
        "id": "OLZ_3ZU29HnJ",
        "colab_type": "code",
        "colab": {}
      },
      "source": [
        ""
      ],
      "execution_count": 0,
      "outputs": []
    }
  ]
}